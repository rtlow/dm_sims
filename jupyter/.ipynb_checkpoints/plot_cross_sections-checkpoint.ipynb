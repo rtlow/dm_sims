{
 "cells": [
  {
   "cell_type": "code",
   "execution_count": 1,
   "metadata": {},
   "outputs": [],
   "source": [
    "import numpy as np\n",
    "import matplotlib.pyplot as plt\n",
    "import matplotlib\n",
    "import glob"
   ]
  },
  {
   "cell_type": "code",
   "execution_count": 2,
   "metadata": {},
   "outputs": [],
   "source": [
    "matplotlib.rc('xtick', labelsize=14)\n",
    "matplotlib.rc('ytick', labelsize=14)\n",
    "matplotlib.rcParams['font.size']=14"
   ]
  },
  {
   "cell_type": "code",
   "execution_count": 3,
   "metadata": {},
   "outputs": [],
   "source": [
    "fpath = '/home/ryan/projects/Medvedev/dm_sims/cross_sections/sigma1_power0/'\n",
    "\n",
    "no_files = len(glob.glob(fpath + \"sidm_cross_reaction_*\"))\n",
    "\n",
    "files = [ fpath + \"sidm_cross_reaction_{}.txt\".format(i) for i in range(no_files) ]"
   ]
  },
  {
   "cell_type": "code",
   "execution_count": null,
   "metadata": {},
   "outputs": [],
   "source": [
    "vs = []\n",
    "cs = []\n",
    "\n",
    "for i in range(no_files):\n",
    "    data = np.loadtxt(files[i])\n",
    "    vs.append(data[:, 0])\n",
    "    cs.append(data[:, 1])"
   ]
  },
  {
   "cell_type": "code",
   "execution_count": null,
   "metadata": {},
   "outputs": [],
   "source": [
    "fig, ax = plt.subplots(figsize=[12,12])\n",
    "\n",
    "for i in range(no_files):\n",
    "    \n",
    "    ax.plot(vs[i], cs[i], label='Reaction {}'.format(i))\n",
    "\n",
    "ax.set_yscale('log')\n",
    "ax.set_xscale('log')\n",
    "ax.legend()\n",
    "ax.set_xlabel('$ \\log$ v')\n",
    "ax.set_ylabel('$ \\log $ $\\sigma$ / m')\n",
    "ax.set_title(\"Cross sections for $\\sigma_0 = 1$ and (0,0) power law\")\n",
    "ax.grid(True, which=\"both\", ls=\"-\")\n",
    "plt.savefig('cross_section_1.png')\n",
    "plt.show()"
   ]
  },
  {
   "cell_type": "code",
   "execution_count": null,
   "metadata": {},
   "outputs": [],
   "source": []
  }
 ],
 "metadata": {
  "kernelspec": {
   "display_name": "Python 3",
   "language": "python",
   "name": "python3"
  },
  "language_info": {
   "codemirror_mode": {
    "name": "ipython",
    "version": 3
   },
   "file_extension": ".py",
   "mimetype": "text/x-python",
   "name": "python",
   "nbconvert_exporter": "python",
   "pygments_lexer": "ipython3",
   "version": "3.7.6"
  }
 },
 "nbformat": 4,
 "nbformat_minor": 4
}
