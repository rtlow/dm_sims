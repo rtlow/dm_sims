{
 "cells": [
  {
   "cell_type": "code",
   "execution_count": 1,
   "id": "38d01846",
   "metadata": {},
   "outputs": [],
   "source": [
    "import numpy as np\n",
    "import matplotlib\n",
    "import matplotlib.pyplot as plt\n",
    "from matplotlib.colors import LogNorm\n",
    "\n",
    "import h5py"
   ]
  },
  {
   "cell_type": "code",
   "execution_count": 2,
   "id": "7c237748",
   "metadata": {},
   "outputs": [],
   "source": [
    "matplotlib.rc('xtick', labelsize=28)\n",
    "matplotlib.rc('ytick', labelsize=28)\n",
    "matplotlib.rcParams['font.size']=28"
   ]
  },
  {
   "cell_type": "code",
   "execution_count": 3,
   "id": "c2e86b65",
   "metadata": {},
   "outputs": [],
   "source": [
    "data_path = \"C:/Data/\""
   ]
  },
  {
   "cell_type": "code",
   "execution_count": 15,
   "id": "15020c90",
   "metadata": {},
   "outputs": [
    {
     "name": "stdout",
     "output_type": "stream",
     "text": [
      "1290028\n",
      "16777216\n"
     ]
    }
   ],
   "source": [
    "snap_path = data_path + '/run_CDM_L3N256_HY/snap_007.hdf5'\n",
    "fof_path = data_path + '/run_CDM_L3N256_HY/fof_subhalo_tab_007.hdf5'\n",
    "with h5py.File(fof_path, 'r') as s, h5py.File(snap_path, \"r\") as f:\n",
    "    print(f['Header'].attrs['NumPart_Total'][4])\n",
    "    print(f['Header'].attrs['NumPart_Total'][1])\n",
    "    masses = f.get('PartType4/Masses')[()]"
   ]
  },
  {
   "cell_type": "code",
   "execution_count": 9,
   "id": "52811a2a",
   "metadata": {},
   "outputs": [
    {
     "data": {
      "text/plain": [
       "array([1.86604292e-06, 1.12757478e-06, 1.64059200e-06, ...,\n",
       "       1.77639831e-06, 1.67689051e-06, 1.36007911e-06])"
      ]
     },
     "execution_count": 9,
     "metadata": {},
     "output_type": "execute_result"
    }
   ],
   "source": [
    "masses"
   ]
  },
  {
   "cell_type": "code",
   "execution_count": 4,
   "id": "da9f2466",
   "metadata": {},
   "outputs": [],
   "source": [
    "def get_masses(sbh_pos, rbins, coord, mass_table):\n",
    "\n",
    "    r = (coord[:,0] - sbh_pos[0])**2 + (coord[:,1] - sbh_pos[1])**2 + (coord[:,2] - sbh_pos[2])**2\n",
    "\n",
    "    m_in = []\n",
    "    for R in rbins:\n",
    "        m_in.append(mass_table[r <= R].sum())\n",
    "    return np.array(m_in)"
   ]
  },
  {
   "cell_type": "code",
   "execution_count": null,
   "id": "817e4dfe",
   "metadata": {},
   "outputs": [],
   "source": [
    "snap_path = data_path + '/run_CDM_L3N256_HY/snap_000.hdf5'\n",
    "fof_path = data_path + '/run_CDM_L3N256_HY/fof_subhalo_tab_000.hdf5'\n",
    "\n",
    "massive_partTypes = [0, 1, 4, 5]\n",
    "\n",
    "max_no_subhalos = 5\n",
    "with h5py.File(fof_path, 'r') as s, h5py.File(snap_path, \"r\") as f:\n",
    "    masses = f.get('PartType0/Masses')[()]"
   ]
  },
  {
   "cell_type": "code",
   "execution_count": 10,
   "id": "3befde6f",
   "metadata": {},
   "outputs": [
    {
     "data": {
      "text/plain": [
       "array([2.11230878e-06, 2.11230878e-06, 2.11230878e-06, ...,\n",
       "       2.11230878e-06, 2.11230878e-06, 2.11230878e-06])"
      ]
     },
     "execution_count": 10,
     "metadata": {},
     "output_type": "execute_result"
    }
   ],
   "source": [
    "masses"
   ]
  },
  {
   "cell_type": "code",
   "execution_count": 11,
   "id": "34deb825",
   "metadata": {},
   "outputs": [
    {
     "data": {
      "text/plain": [
       "True"
      ]
     },
     "execution_count": 11,
     "metadata": {},
     "output_type": "execute_result"
    }
   ],
   "source": [
    "np.all(np.isclose(masses, masses[0]))"
   ]
  },
  {
   "cell_type": "code",
   "execution_count": null,
   "id": "e5030c60",
   "metadata": {},
   "outputs": [],
   "source": []
  }
 ],
 "metadata": {
  "kernelspec": {
   "display_name": "paperI",
   "language": "python",
   "name": "python3"
  },
  "language_info": {
   "codemirror_mode": {
    "name": "ipython",
    "version": 3
   },
   "file_extension": ".py",
   "mimetype": "text/x-python",
   "name": "python",
   "nbconvert_exporter": "python",
   "pygments_lexer": "ipython3",
   "version": "3.7.11"
  }
 },
 "nbformat": 4,
 "nbformat_minor": 5
}
