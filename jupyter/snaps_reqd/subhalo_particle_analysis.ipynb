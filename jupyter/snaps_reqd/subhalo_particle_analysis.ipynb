{
 "cells": [
  {
   "cell_type": "code",
   "execution_count": 20,
   "id": "38d01846",
   "metadata": {},
   "outputs": [],
   "source": [
    "import numpy as np\n",
    "import matplotlib\n",
    "import matplotlib.pyplot as plt\n",
    "from matplotlib.colors import LogNorm\n",
    "\n",
    "import h5py"
   ]
  },
  {
   "cell_type": "code",
   "execution_count": 21,
   "id": "7c237748",
   "metadata": {},
   "outputs": [],
   "source": [
    "matplotlib.rc('xtick', labelsize=28)\n",
    "matplotlib.rc('ytick', labelsize=28)\n",
    "matplotlib.rcParams['font.size']=28"
   ]
  },
  {
   "cell_type": "code",
   "execution_count": 22,
   "id": "c2e86b65",
   "metadata": {},
   "outputs": [],
   "source": [
    "data_path = \"/home/ryan/Data/\""
   ]
  },
  {
   "cell_type": "code",
   "execution_count": 88,
   "id": "da9f2466",
   "metadata": {},
   "outputs": [],
   "source": [
    "def get_masses(sbh_pos, rbins, coord, mass_table):\n",
    "\n",
    "    r = (coord[:,0] - sbh_pos[0])**2 + (coord[:,1] - sbh_pos[1])**2 + (coord[:,2] - sbh_pos[2])**2\n",
    "\n",
    "    m_in = []\n",
    "    for R in rbins:\n",
    "        m_in.append(mass_table[r <= R].sum())\n",
    "    return np.array(m_in)"
   ]
  },
  {
   "cell_type": "code",
   "execution_count": 97,
   "id": "817e4dfe",
   "metadata": {},
   "outputs": [],
   "source": [
    "snap_path = data_path + '/run_CDM_L3N256_HY/snap_007.hdf5'\n",
    "fof_path = data_path + '/run_CDM_L3N256_HY/fof_subhalo_tab_007.hdf5'\n",
    "\n",
    "nBins = 1000\n",
    "N_partTypes = 6\n",
    "massive_partTypes = [0, 1, 4, 5]\n",
    "\n",
    "max_no_subhalos = 5\n",
    "with h5py.File(fof_path, 'r') as s, h5py.File(snap_path, \"r\") as f:\n",
    "    subhalo = s.get('Subhalo')\n",
    "    group = s.get('Group')\n",
    "\n",
    "    for subhalo_idx in range(max_no_subhalos):\n",
    "        cm = subhalo['SubhaloCM'][subhalo_idx]\n",
    "        max_rad = 3 * subhalo['SubhaloHalfmassRad'][subhalo_idx]\n",
    "        nums = subhalo[\"SubhaloLenType\"][subhalo_idx]\n",
    "        group_idx = subhalo[\"SubhaloGrNr\"][subhalo_idx]\n",
    "\n",
    "        particles_before = np.zeros(N_partTypes).astype(int)\n",
    "        if group_idx != 0:\n",
    "            # find all particles in groups before this group\n",
    "            particles_before += np.sum([ group['GroupLenType'][i] for i in range(group_idx) ], axis=0).astype(int)\n",
    "\n",
    "        # which subhalo is this one within its group?\n",
    "        first_in_group_idx = group[\"GroupFirstSub\"][group_idx]\n",
    "        # if -1, this is it\n",
    "        if first_in_group_idx != -1:\n",
    "            # get particles for the previous subhalos\n",
    "            particles_before += np.sum([ subhalo['SubhaloLenType'][i] for i in range(first_in_group_idx, subhalo_idx) ], axis=0).astype(int)\n",
    "            \n",
    "        particles_this = subhalo['SubhaloLenType'][subhalo_idx]\n",
    "\n",
    "        rbins = np.geomspace(max_rad / 30, max_rad, num=nBins)\n",
    "\n",
    "        total_mass = np.zeros(nBins)\n",
    "        for partType in massive_partTypes:\n",
    "\n",
    "            coords = f.get(f\"PartType{partType}/Coordinates\")[()][particles_before[partType]:(particles_before[partType] + particles_this[partType])]\n",
    "            if partType != 1:\n",
    "                masses = f.get(f\"PartType{partType}/Masses\")[()][particles_before[partType]:(particles_before[partType] + particles_this[partType])]\n",
    "            else:\n",
    "                masses = f[\"Header\"].attrs[\"MassTable\"][1] * np.ones( particles_this[partType] ) \n",
    "\n",
    "            total_mass += get_masses(cm, rbins, coords, masses)\n",
    "\n",
    "        \n",
    "        densities = total_mass / ( (4/3) * np.pi * rbins**3 )\n",
    "\n",
    "        fname = f'subhalo_{subhalo_idx}.txt'\n",
    "        np.savetxt(fname, (rbins, densities))\n"
   ]
  },
  {
   "cell_type": "code",
   "execution_count": null,
   "id": "e44fdfa1",
   "metadata": {},
   "outputs": [],
   "source": []
  }
 ],
 "metadata": {
  "kernelspec": {
   "display_name": "base",
   "language": "python",
   "name": "python3"
  },
  "language_info": {
   "codemirror_mode": {
    "name": "ipython",
    "version": 3
   },
   "file_extension": ".py",
   "mimetype": "text/x-python",
   "name": "python",
   "nbconvert_exporter": "python",
   "pygments_lexer": "ipython3",
   "version": "3.7.11"
  }
 },
 "nbformat": 4,
 "nbformat_minor": 5
}
