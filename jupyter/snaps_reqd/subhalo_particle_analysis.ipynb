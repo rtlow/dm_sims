{
 "cells": [
  {
   "cell_type": "code",
   "execution_count": 1,
   "id": "38d01846",
   "metadata": {},
   "outputs": [],
   "source": [
    "import numpy as np\n",
    "import matplotlib\n",
    "import matplotlib.pyplot as plt\n",
    "from matplotlib.colors import LogNorm\n",
    "\n",
    "import h5py"
   ]
  },
  {
   "cell_type": "code",
   "execution_count": 2,
   "id": "7c237748",
   "metadata": {},
   "outputs": [],
   "source": [
    "matplotlib.rc('xtick', labelsize=28)\n",
    "matplotlib.rc('ytick', labelsize=28)\n",
    "matplotlib.rcParams['font.size']=28"
   ]
  },
  {
   "cell_type": "code",
   "execution_count": 3,
   "id": "c2e86b65",
   "metadata": {},
   "outputs": [],
   "source": [
    "data_path = \"/home/ryan/Data/\""
   ]
  },
  {
   "cell_type": "code",
   "execution_count": 4,
   "id": "da9f2466",
   "metadata": {},
   "outputs": [],
   "source": [
    "def get_masses(sbh_pos, rbins, coord, mass_table):\n",
    "\n",
    "    r = (coord[:,0] - sbh_pos[0])**2 + (coord[:,1] - sbh_pos[1])**2 + (coord[:,2] - sbh_pos[2])**2\n",
    "\n",
    "    m_in = []\n",
    "    for R in rbins:\n",
    "        m_in.append(mass_table[r <= R].sum())\n",
    "    return np.array(m_in)"
   ]
  },
  {
   "cell_type": "code",
   "execution_count": 7,
   "id": "817e4dfe",
   "metadata": {},
   "outputs": [],
   "source": [
    "snap_path = data_path + '/run_CDM_L3N256_HY/snap_007.hdf5'\n",
    "fof_path = data_path + '/run_CDM_L3N256_HY/fof_subhalo_tab_007.hdf5'\n",
    "\n",
    "nBins = 1000\n",
    "N_partTypes = 6\n",
    "massive_partTypes = [0, 1, 4, 5]\n",
    "\n",
    "max_no_subhalos = 5\n",
    "with h5py.File(fof_path, 'r') as s, h5py.File(snap_path, \"r\") as f:\n",
    "    subhalo = s.get('Subhalo')\n",
    "    group = s.get('Group')\n",
    "\n",
    "    np.savetxt('temp.txt', ( subhalo['SubhaloVmax'], subhalo['SubhaloVmaxRad'], subhalo['SubhaloMass'], subhalo['SubhaloHalfmassRad'], subhalo['SubhaloMassInHalfRad'], subhalo['SubhaloMassInRad'] ) )\n"
   ]
  },
  {
   "cell_type": "code",
   "execution_count": null,
   "id": "e44fdfa1",
   "metadata": {},
   "outputs": [],
   "source": []
  }
 ],
 "metadata": {
  "kernelspec": {
   "display_name": "base",
   "language": "python",
   "name": "python3"
  },
  "language_info": {
   "codemirror_mode": {
    "name": "ipython",
    "version": 3
   },
   "file_extension": ".py",
   "mimetype": "text/x-python",
   "name": "python",
   "nbconvert_exporter": "python",
   "pygments_lexer": "ipython3",
   "version": "3.7.11"
  }
 },
 "nbformat": 4,
 "nbformat_minor": 5
}
