{
 "cells": [
  {
   "cell_type": "code",
   "execution_count": 1,
   "metadata": {},
   "outputs": [],
   "source": [
    "import os\n",
    "import json\n",
    "import glob\n",
    "import h5py\n",
    "import numpy as np\n",
    "from tqdm.notebook import tqdm\n",
    "\n",
    "import sys\n",
    "sys.path.append('../../py/')\n",
    "\n",
    "from cosmoSim import cosmoSim"
   ]
  },
  {
   "cell_type": "code",
   "execution_count": 2,
   "metadata": {},
   "outputs": [
    {
     "name": "stdout",
     "output_type": "stream",
     "text": [
      "['/home/ryan/Data/run_2cDM_L3N256_DM_powerm2m2_sigma0.1', '/home/ryan/Data/run_2cDM_L3N512_HY_power00_sigma1', '/home/ryan/Data/run_2cDM_L3N256_HY_power00_sigma0.1', '/home/ryan/Data/run_SIDM_L3N256_DM_power0_sigma1', '/home/ryan/Data/lost+found', '/home/ryan/Data/run_2cDM_L3N256_DM_power00_sigma1_dir_3', '/home/ryan/Data/run_2cDM_L3N256_HY_powerm2m2_sigma10', '/home/ryan/Data/run_CDM_L3N256_DM_dir_7', '/home/ryan/Data/run_2cDM_L3N256_DM_power00_sigma1_dir_8', '/home/ryan/Data/run_CDM_L5N256_HY', '/home/ryan/Data/run_2cDM_L3N128_HY_power00_sigma0.1_10e-7', '/home/ryan/Data/run_2cDM_L3N256_DM_power00_sigma0.1', '/home/ryan/Data/run_2cDM_L3N128_HY_power00_sigma0.1_var4', '/home/ryan/Data/run_2cDM_L3N256_DM_power00_sigma1_dir_4', '/home/ryan/Data/run_CDM_710_HY', '/home/ryan/Data/run_2cDM_710_HY_powerm2m2_sigma1', '/home/ryan/Data/run_2cDM_L3N256_DM_power00_sigma1_dir_1', '/home/ryan/Data/run_CDM_L3N128_HY', '/home/ryan/Data/run_2cDM_L3N256_DM_power00_sigma1_dir_6', '/home/ryan/Data/run_2cDM_L3N128_HY_power00_sigma0.1_var2', '/home/ryan/Data/run_2cDM_L3N256_DM_power00_sigma1_dir_0', '/home/ryan/Data/run_SIDM_L3N256_HY_power0_sigma1', '/home/ryan/Data/run_CDM_L3N256_DM_dir_9', '/home/ryan/Data/run_2cDM_L3N256_DM_power00_sigma10', '/home/ryan/Data/run_2cDM_L3N128_DM_power00_sigma0.1', '/home/ryan/Data/run_CDM_L3N256_DM', '/home/ryan/Data/run_2cDM_L10N256_HY_power00_sigma1', '/home/ryan/Data/run_2cDM_L3N128_HY_power00_sigma0.1_var5', '/home/ryan/Data/run_2cDM_L3N256_DM_power00_sigma1_dir_2', '/home/ryan/Data/run_CDM_L3N128_DM', '/home/ryan/Data/run_2cDM_L3N128_HY_power00_sigma0.1', '/home/ryan/Data/run_2cDM_L5N256_HY_power00_sigma1', '/home/ryan/Data/run_2cDM_L3N256_DM_power22_sigma10', '/home/ryan/Data/run_CDM_L3N256_DM_dir_6', '/home/ryan/Data/run_CDM_L3N256_DM_dir_2', '/home/ryan/Data/run_2cDM_L3N256_DM_power00_sigma100', '/home/ryan/Data/run_2cDM_L3N256_HY_power00_sigma1', '/home/ryan/Data/run_CDM_L3N256_DM_dir_8', '/home/ryan/Data/run_2cDM_L3N256_DM_powerm2m2_sigma10', '/home/ryan/Data/run_2cDM_L3N256_HY_power00_sigma10', '/home/ryan/Data/run_CDM_L3N128_HY_var6', '/home/ryan/Data/run_CDM_L3N128_HY_var2', '/home/ryan/Data/run_2cDM_710_DM_power00_sigma1', '/home/ryan/Data/other', '/home/ryan/Data/run_CDM_L3N512_DM', '/home/ryan/Data/run_CDM_L3N256_DM_dir_1', '/home/ryan/Data/run_2cDM_710_HY_power00_sigma1', '/home/ryan/Data/run_2cDM_L3N512_DM_power00_sigma1', '/home/ryan/Data/run_2cDM_L3N128_HY_power00_sigma1', '/home/ryan/Data/run_2cDM_710_DM_powerm2m2_sigma1', '/home/ryan/Data/run_CDM_L3N128_HY_var3', '/home/ryan/Data/run_2cDM_L3N256_DM_power00_sigma1_dir_7', '/home/ryan/Data/run_2cDM_L3N256_DM_power00_sigma1_dir_5', '/home/ryan/Data/run_2cDM_L3N256_DM_power22_sigma1', '/home/ryan/Data/run_2cDM_L3N128_HY_power00_sigma0.1_var3', '/home/ryan/Data/.Trash-1000', '/home/ryan/Data/run_2cDM_L3N256_HY_powerm2m2_sigma0.1', '/home/ryan/Data/run_CDM_L3N256_DM_dir_5', '/home/ryan/Data/run_2cDM_L3N256_DM_powerm2m2_sigma1', '/home/ryan/Data/run_2cDM_L3N256_HY_power22_sigma1', '/home/ryan/Data/run_CDM_L3N128_HY_var5', '/home/ryan/Data/run_CDM_L3N256_DM_dir_4', '/home/ryan/Data/run_CDM_L3N256_DM_dir_0', '/home/ryan/Data/run_CDM_L3N256_HY', '/home/ryan/Data/run_CDM_L3N128_HY_var4', '/home/ryan/Data/run_2cDM_L3N256_HY_powerm2m2_sigma1', '/home/ryan/Data/run_2cDM_L3N256_HY_power00_sigma100', '/home/ryan/Data/run_2cDM_L3N256_DM_power00_sigma1', '/home/ryan/Data/run_CDM_710_DM', '/home/ryan/Data/run_2cDM_L3N128_HY_power00_sigma0.1_var6', '/home/ryan/Data/run_CDM_L10N256_HY', '/home/ryan/Data/run_CDM_L3N512_HY', '/home/ryan/Data/run_CDM_L3N256_DM_dir_3', '/home/ryan/Data/run_2cDM_L3N256_DM_power00_sigma1_dir_9']\n"
     ]
    }
   ],
   "source": [
    "outdir = '../../data_prods/'\n",
    "data_dir = '/home/ryan/Data'\n",
    "subdir_list = [os.path.join(data_dir, o) for o in os.listdir(data_dir) if os.path.isdir(os.path.join(data_dir,o))]\n",
    "\n",
    "print(subdir_list)"
   ]
  },
  {
   "cell_type": "code",
   "execution_count": 3,
   "metadata": {},
   "outputs": [],
   "source": [
    "def get_masses(sbh_pos, rbins, coord, mass_table):\n",
    "\n",
    "    r = (coord[:,0] - sbh_pos[0])**2 + (coord[:,1] - sbh_pos[1])**2 + (coord[:,2] - sbh_pos[2])**2\n",
    "\n",
    "    m_in = []\n",
    "    for R in rbins:\n",
    "        m_in.append(mass_table[r <= R].sum())\n",
    "    return np.array(m_in)\n",
    "    "
   ]
  },
  {
   "cell_type": "code",
   "execution_count": 4,
   "metadata": {},
   "outputs": [
    {
     "data": {
      "application/vnd.jupyter.widget-view+json": {
       "model_id": "05555b8350d14a828c3acefaf20ce2e2",
       "version_major": 2,
       "version_minor": 0
      },
      "text/plain": [
       "  0%|          | 0/74 [00:00<?, ?it/s]"
      ]
     },
     "metadata": {},
     "output_type": "display_data"
    },
    {
     "name": "stdout",
     "output_type": "stream",
     "text": [
      "../../data_prods/run_2cDM_L3N256_DM_powerm2m2_sigma0.1 already exists!\n",
      "Calculating mass densities for run run_2cDM_L3N256_DM_powerm2m2_sigma0.1...\n",
      "../../data_prods/run_2cDM_L3N256_DM_powerm2m2_sigma0.1/subhalo_densities_0 already exists!\n",
      "No subhalos formed for snapshot 0...\n",
      "../../data_prods/run_2cDM_L3N256_DM_powerm2m2_sigma0.1/subhalo_densities_1 already exists!\n",
      "Calculating 25 subhalo density profiles for snapshot 1...\n",
      "Calculating subhalo density profile for subhalo 0...\n",
      "Saved subhalo 0 density profile at ../../data_prods/run_2cDM_L3N256_DM_powerm2m2_sigma0.1/subhalo_densities_1/subhalo_0.txt\n",
      "Calculating subhalo density profile for subhalo 1...\n",
      "Saved subhalo 1 density profile at ../../data_prods/run_2cDM_L3N256_DM_powerm2m2_sigma0.1/subhalo_densities_1/subhalo_1.txt\n",
      "Calculating subhalo density profile for subhalo 2...\n"
     ]
    },
    {
     "ename": "KeyboardInterrupt",
     "evalue": "",
     "output_type": "error",
     "traceback": [
      "\u001b[0;31m---------------------------------------------------------------------------\u001b[0m",
      "\u001b[0;31mKeyboardInterrupt\u001b[0m                         Traceback (most recent call last)",
      "\u001b[0;32m<ipython-input-4-3a2a0b4bb929>\u001b[0m in \u001b[0;36m<module>\u001b[0;34m\u001b[0m\n\u001b[1;32m     79\u001b[0m             \u001b[0mmass_table\u001b[0m \u001b[0;34m=\u001b[0m \u001b[0mdm_mass\u001b[0m\u001b[0;34m\u001b[0m\u001b[0;34m\u001b[0m\u001b[0m\n\u001b[1;32m     80\u001b[0m \u001b[0;34m\u001b[0m\u001b[0m\n\u001b[0;32m---> 81\u001b[0;31m             \u001b[0mmasses\u001b[0m \u001b[0;34m=\u001b[0m \u001b[0mget_masses\u001b[0m\u001b[0;34m(\u001b[0m\u001b[0msbh_pos\u001b[0m\u001b[0;34m,\u001b[0m \u001b[0mrbins\u001b[0m\u001b[0;34m,\u001b[0m \u001b[0mcoord\u001b[0m\u001b[0;34m,\u001b[0m \u001b[0mmass_table\u001b[0m\u001b[0;34m)\u001b[0m\u001b[0;34m\u001b[0m\u001b[0;34m\u001b[0m\u001b[0m\n\u001b[0m\u001b[1;32m     82\u001b[0m \u001b[0;34m\u001b[0m\u001b[0m\n\u001b[1;32m     83\u001b[0m             \u001b[0;32mif\u001b[0m \u001b[0mrun\u001b[0m\u001b[0;34m.\u001b[0m\u001b[0mbaryon_type\u001b[0m \u001b[0;34m==\u001b[0m \u001b[0;34m'HY'\u001b[0m\u001b[0;34m:\u001b[0m\u001b[0;34m\u001b[0m\u001b[0;34m\u001b[0m\u001b[0m\n",
      "\u001b[0;32m<ipython-input-3-95ebfce1a59d>\u001b[0m in \u001b[0;36mget_masses\u001b[0;34m(sbh_pos, rbins, coord, mass_table)\u001b[0m\n\u001b[1;32m      5\u001b[0m     \u001b[0mm_in\u001b[0m \u001b[0;34m=\u001b[0m \u001b[0;34m[\u001b[0m\u001b[0;34m]\u001b[0m\u001b[0;34m\u001b[0m\u001b[0;34m\u001b[0m\u001b[0m\n\u001b[1;32m      6\u001b[0m     \u001b[0;32mfor\u001b[0m \u001b[0mR\u001b[0m \u001b[0;32min\u001b[0m \u001b[0mrbins\u001b[0m\u001b[0;34m:\u001b[0m\u001b[0;34m\u001b[0m\u001b[0;34m\u001b[0m\u001b[0m\n\u001b[0;32m----> 7\u001b[0;31m         \u001b[0mm_in\u001b[0m\u001b[0;34m.\u001b[0m\u001b[0mappend\u001b[0m\u001b[0;34m(\u001b[0m\u001b[0mmass_table\u001b[0m\u001b[0;34m[\u001b[0m\u001b[0mr\u001b[0m \u001b[0;34m<=\u001b[0m \u001b[0mR\u001b[0m\u001b[0;34m]\u001b[0m\u001b[0;34m.\u001b[0m\u001b[0msum\u001b[0m\u001b[0;34m(\u001b[0m\u001b[0;34m)\u001b[0m\u001b[0;34m)\u001b[0m\u001b[0;34m\u001b[0m\u001b[0;34m\u001b[0m\u001b[0m\n\u001b[0m\u001b[1;32m      8\u001b[0m     \u001b[0;32mreturn\u001b[0m \u001b[0mnp\u001b[0m\u001b[0;34m.\u001b[0m\u001b[0marray\u001b[0m\u001b[0;34m(\u001b[0m\u001b[0mm_in\u001b[0m\u001b[0;34m)\u001b[0m\u001b[0;34m\u001b[0m\u001b[0;34m\u001b[0m\u001b[0m\n\u001b[1;32m      9\u001b[0m \u001b[0;34m\u001b[0m\u001b[0m\n",
      "\u001b[0;31mKeyboardInterrupt\u001b[0m: "
     ]
    }
   ],
   "source": [
    "rewrite = False\n",
    "max_no_subhalos = 25\n",
    "\n",
    "for subdir in tqdm(subdir_list):\n",
    "    run_name = subdir.split('/')[-1]\n",
    "\n",
    "    #reject folders that aren't runs\n",
    "    if 'run' not in run_name:\n",
    "        continue\n",
    "    \n",
    "    fpath = os.path.join(outdir, run_name)\n",
    "    try:\n",
    "        os.mkdir(fpath)\n",
    "    except:\n",
    "        print(f'{fpath} already exists!')\n",
    "\n",
    "    run = cosmoSim(run_name)\n",
    "    force_scale = 2.8 * run.softening_length\n",
    "\n",
    "    snaps = sorted(glob.glob(subdir + '/snap*'))\n",
    "    fofs = sorted(glob.glob(subdir + '/fof*'))\n",
    "\n",
    "    print(f'Calculating mass densities for run {run_name}...')\n",
    "\n",
    "    for i, (snap, fof) in enumerate(zip(snaps, fofs)):\n",
    "        \n",
    "        fout = os.path.join(fpath, f'subhalo_densities_{i}')\n",
    "        try:\n",
    "            os.mkdir(fout)\n",
    "        except:\n",
    "            print(f'{fout} already exists!')\n",
    "        # get density for each subhalo\n",
    "        f = h5py.File(snap, \"r\")\n",
    "        s = h5py.File(fof, \"r\")\n",
    "\n",
    "        try:\n",
    "            half_mass_radii = s[\"Subhalo/SubhaloHalfmassRad\"][()]\n",
    "        except:\n",
    "            print(f'No subhalos formed for snapshot {i}...')\n",
    "            continue\n",
    "        \n",
    "        # TODO: bodge for now, find better criteria\n",
    "        if len(half_mass_radii) > max_no_subhalos:\n",
    "            # just getting top 100\n",
    "            large_enough = half_mass_radii > np.sort(half_mass_radii)[-(max_no_subhalos + 1)]\n",
    "        else:\n",
    "            large_enough = half_mass_radii > force_scale\n",
    "\n",
    "        if large_enough.sum() == 0:\n",
    "            print(f'Not enough large subhalos for snapshot {i}...')\n",
    "            continue\n",
    "\n",
    "        half_mass_radii = half_mass_radii[large_enough]\n",
    "        sbh_positions = s[\"Subhalo/SubhaloPos\"][()][large_enough]\n",
    "\n",
    "        if not rewrite:\n",
    "            if (len( glob.glob( os.path.join(fout, 'subhalo*.txt') ) ) == len(half_mass_radii)):\n",
    "                print(f'Mass density files exist for {run_name}.')\n",
    "                print('Skipping...')\n",
    "                continue\n",
    "        \n",
    "        print(f'Calculating {len(half_mass_radii)} subhalo density profiles for snapshot {i}...')\n",
    "\n",
    "        dm_pos = f.get(\"PartType1/Coordinates\")[()]\n",
    "        dm_number = f[\"Header\"].attrs[\"NumPart_Total\"][1]\n",
    "        dm_mass = f[\"Header\"].attrs[\"MassTable\"][1] * np.ones(dm_number)\n",
    "\n",
    "        if run.baryon_type == 'HY':\n",
    "            by_pos = f.get(\"PartType0/Coordinates\")[()]\n",
    "            by_mass = f.get(\"PartType0/Masses\")[()]\n",
    "\n",
    "        for j, (sbh_pos, hmr) in enumerate(zip(sbh_positions, half_mass_radii)):\n",
    "            print(f'Calculating subhalo density profile for subhalo {j}...')\n",
    "\n",
    "            rbins = np.linspace(force_scale/10, 2*hmr, num=1000)\n",
    "            volumes = 4/3 * np.pi * rbins**3\n",
    "\n",
    "            coord = dm_pos\n",
    "            mass_table = dm_mass\n",
    "\n",
    "            masses = get_masses(sbh_pos, rbins, coord, mass_table)\n",
    "\n",
    "            if run.baryon_type == 'HY':\n",
    "                coord = by_pos\n",
    "                mass_table = by_mass\n",
    "\n",
    "                masses += get_masses(sbh_pos, rbins, coord, mass_table)\n",
    "            \n",
    "            densities = masses / volumes\n",
    "\n",
    "            fname = os.path.join(fout, f'subhalo_{j}.txt')\n",
    "\n",
    "            np.savetxt(fname, (rbins, densities))\n",
    "\n",
    "            print(f'Saved subhalo {j} density profile at {fname}')\n",
    "\n",
    "\n"
   ]
  },
  {
   "cell_type": "code",
   "execution_count": null,
   "metadata": {},
   "outputs": [],
   "source": []
  }
 ],
 "metadata": {
  "kernelspec": {
   "display_name": "base",
   "language": "python",
   "name": "python3"
  },
  "language_info": {
   "codemirror_mode": {
    "name": "ipython",
    "version": 3
   },
   "file_extension": ".py",
   "mimetype": "text/x-python",
   "name": "python",
   "nbconvert_exporter": "python",
   "pygments_lexer": "ipython3",
   "version": "3.7.11"
  }
 },
 "nbformat": 4,
 "nbformat_minor": 2
}
