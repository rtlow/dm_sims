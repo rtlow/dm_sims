{
 "cells": [
  {
   "cell_type": "code",
   "execution_count": 1,
   "metadata": {},
   "outputs": [],
   "source": [
    "import os\n",
    "import json\n",
    "import glob\n",
    "import h5py\n",
    "import numpy as np\n",
    "from tqdm.notebook import tqdm\n",
    "\n",
    "import sys\n",
    "sys.path.append('../../py/')\n",
    "\n",
    "from cosmoSim import cosmoSim"
   ]
  },
  {
   "cell_type": "code",
   "execution_count": 2,
   "metadata": {},
   "outputs": [
    {
     "name": "stdout",
     "output_type": "stream",
     "text": [
      "['/home/ryan/Data/run_2cDM_L3N256_DM_powerm2m2_sigma1_dir_2', '/home/ryan/Data/run_2cDM_L3N256_DM_power00_sigma1_dir_7_Vkick119.90', '/home/ryan/Data/run_2cDM_L3N256_DM_powerm2m2_sigma0.1', '/home/ryan/Data/run_2cDM_L3N256_DM_powerm2m2_sigma5.0_dir_9', '/home/ryan/Data/run_2cDM_L3N512_HY_power00_sigma1', '/home/ryan/Data/run_2cDM_L3N256_HY_power00_sigma0.1', '/home/ryan/Data/run_SIDM_L3N256_DM_power0_sigma1', '/home/ryan/Data/run_2cDM_L3N256_DM_powerm2m2_sigma1_dir_1', '/home/ryan/Data/lost+found', '/home/ryan/Data/run_2cDM_L3N256_DM_power00_sigma1_dir_3', '/home/ryan/Data/run_2cDM_L3N256_HY_powerm2m2_sigma10', '/home/ryan/Data/run_CDM_L3N256_DM_dir_7', '/home/ryan/Data/run_2cDM_L3N256_DM_power00_sigma1_dir_8', '/home/ryan/Data/run_CDM_L5N256_HY', '/home/ryan/Data/run_2cDM_L3N256_DM_powerm2m2_sigma2.32_dir_6', '/home/ryan/Data/run_2cDM_L3N128_HY_power00_sigma0.1_10e-7', '/home/ryan/Data/run_2cDM_L3N256_DM_power00_sigma1_dir_4_Vkick55.65', '/home/ryan/Data/run_2cDM_L3N256_DM_powerm2m2_sigma1_dir_1_Vkick25.83', '/home/ryan/Data/run_2cDM_L3N256_DM_power00_sigma0.1', '/home/ryan/Data/run_2cDM_L3N128_HY_power00_sigma0.1_var4', '/home/ryan/Data/run_2cDM_L3N256_DM_power00_sigma1_dir_4', '/home/ryan/Data/run_CDM_710_HY', '/home/ryan/Data/run_2cDM_710_HY_powerm2m2_sigma1', '/home/ryan/Data/run_2cDM_L3N256_DM_power00_sigma1_dir_1', '/home/ryan/Data/run_CDM_L3N128_HY', '/home/ryan/Data/run_2cDM_L3N256_DM_power00_sigma3.0_dir_7', '/home/ryan/Data/run_2cDM_L3N256_DM_power00_sigma1_dir_6', '/home/ryan/Data/run_2cDM_L3N128_HY_power00_sigma0.1_var2', '/home/ryan/Data/run_2cDM_L3N256_DM_power00_sigma1_dir_0', '/home/ryan/Data/run_SIDM_L3N256_HY_power0_sigma1', '/home/ryan/Data/run_CDM_L3N256_DM_dir_9', '/home/ryan/Data/run_2cDM_L3N256_DM_power00_sigma10', '/home/ryan/Data/run_2cDM_L3N128_DM_power00_sigma0.1', '/home/ryan/Data/run_2cDM_L3N256_DM_powerm2m2_sigma1_dir_0', '/home/ryan/Data/run_2cDM_L3N256_DM_powerm2m2_sigma1_dir_3_Vkick43.09', '/home/ryan/Data/run_CDM_L3N256_DM', '/home/ryan/Data/run_2cDM_L10N256_HY_power00_sigma1', '/home/ryan/Data/run_2cDM_L3N128_HY_power00_sigma0.1_var5', '/home/ryan/Data/run_2cDM_L3N256_DM_powerm2m2_sigma1_dir_3', '/home/ryan/Data/run_2cDM_L3N256_DM_power00_sigma1_dir_2', '/home/ryan/Data/run_2cDM_L3N256_DM_powerm2m2_sigma1_dir_9_Vkick200.00', '/home/ryan/Data/run_2cDM_L3N256_DM_powerm2m2_sigma1_dir_8_Vkick154.85', '/home/ryan/Data/run_CDM_L3N128_DM', '/home/ryan/Data/run_2cDM_L3N256_DM_power00_sigma3.87_dir_8', '/home/ryan/Data/run_2cDM_L3N128_HY_power00_sigma0.1', '/home/ryan/Data/run_2cDM_L3N256_DM_power00_sigma1_dir_3_Vkick43.09', '/home/ryan/Data/run_2cDM_L5N256_HY_power00_sigma1', '/home/ryan/Data/run_2cDM_L3N256_DM_power22_sigma10', '/home/ryan/Data/run_CDM_L3N256_DM_dir_6', '/home/ryan/Data/run_2cDM_L3N256_DM_powerm2m2_sigma1_dir_6_Vkick92.83', '/home/ryan/Data/run_2cDM_L3N256_DM_power00_sigma1_dir_6_Vkick92.83', '/home/ryan/Data/run_CDM_L3N256_DM_dir_2', '/home/ryan/Data/run_2cDM_L3N256_DM_power00_sigma100', '/home/ryan/Data/run_2cDM_L3N256_DM_power00_sigma1_dir_9_Vkick200.00', '/home/ryan/Data/run_2cDM_L3N256_DM_powerm2m2_sigma1_dir_2_Vkick33.36', '/home/ryan/Data/run_2cDM_L3N256_DM_powerm2m2_sigma3.87_dir_8', '/home/ryan/Data/run_2cDM_L3N256_DM_powerm2m2_sigma3.0_dir_7', '/home/ryan/Data/run_2cDM_L3N256_DM_power00_sigma2.32_dir_6', '/home/ryan/Data/run_2cDM_L3N256_HY_power00_sigma1', '/home/ryan/Data/run_2cDM_L3N256_DM_powerm2m2_sigma1.39_dir_4', '/home/ryan/Data/run_CDM_L3N256_DM_dir_8', '/home/ryan/Data/run_2cDM_L3N256_DM_powerm2m2_sigma10', '/home/ryan/Data/run_2cDM_L3N256_DM_powerm2m2_sigma0.834_dir_2', '/home/ryan/Data/run_2cDM_L3N256_HY_power00_sigma10', '/home/ryan/Data/run_2cDM_L3N256_DM_powerm2m2_sigma1.8_dir_5', '/home/ryan/Data/run_CDM_L3N128_HY_var6', '/home/ryan/Data/run_CDM_L3N128_HY_var2', '/home/ryan/Data/run_2cDM_L3N256_DM_powerm2m2_sigma1_dir_8', '/home/ryan/Data/run_2cDM_710_DM_power00_sigma1', '/home/ryan/Data/other', '/home/ryan/Data/run_CDM_L3N512_DM', '/home/ryan/Data/run_CDM_L3N256_DM_dir_1', '/home/ryan/Data/run_2cDM_710_HY_power00_sigma1', '/home/ryan/Data/run_2cDM_L3N512_DM_power00_sigma1', '/home/ryan/Data/run_2cDM_L3N256_DM_power00_sigma0.5_dir_0', '/home/ryan/Data/run_2cDM_L3N256_DM_power00_sigma1_dir_0_Vkick20.00', '/home/ryan/Data/run_2cDM_L3N256_DM_powerm2m2_sigma1_dir_7', '/home/ryan/Data/run_2cDM_L3N128_HY_power00_sigma1', '/home/ryan/Data/run_2cDM_710_DM_powerm2m2_sigma1', '/home/ryan/Data/run_CDM_L3N128_HY_var3', '/home/ryan/Data/run_2cDM_L3N256_DM_power00_sigma1_dir_7', '/home/ryan/Data/run_2cDM_L3N256_DM_power00_sigma1_dir_5', '/home/ryan/Data/run_2cDM_L3N256_DM_power22_sigma1', '/home/ryan/Data/run_2cDM_L3N256_DM_power00_sigma1_dir_2_Vkick33.36', '/home/ryan/Data/run_2cDM_L3N256_DM_powerm2m2_sigma1_dir_5', '/home/ryan/Data/run_2cDM_L3N256_DM_power00_sigma1.8_dir_5', '/home/ryan/Data/run_2cDM_L3N256_DM_powerm2m2_sigma0.646_dir_1', '/home/ryan/Data/run_2cDM_L3N256_DM_power00_sigma1_dir_5_Vkick71.88', '/home/ryan/Data/run_2cDM_L3N256_DM_powerm2m2_sigma1_dir_4_Vkick55.65', '/home/ryan/Data/run_2cDM_L3N128_HY_power00_sigma0.1_var3', '/home/ryan/Data/run_2cDM_L3N256_DM_power00_sigma1_dir_1_Vkick25.83', '/home/ryan/Data/.Trash-1000', '/home/ryan/Data/run_2cDM_L3N256_HY_powerm2m2_sigma0.1', '/home/ryan/Data/run_2cDM_L3N256_DM_power00_sigma0.834_dir_2', '/home/ryan/Data/run_CDM_L3N256_DM_dir_5', '/home/ryan/Data/run_2cDM_L3N256_DM_powerm2m2_sigma1', '/home/ryan/Data/run_2cDM_L3N256_DM_power00_sigma1_dir_8_Vkick154.85', '/home/ryan/Data/run_2cDM_L3N256_HY_power22_sigma1', '/home/ryan/Data/run_CDM_L3N128_HY_var5', '/home/ryan/Data/run_CDM_L3N256_DM_dir_4', '/home/ryan/Data/run_CDM_L3N256_DM_dir_0', '/home/ryan/Data/run_CDM_L3N256_HY', '/home/ryan/Data/run_2cDM_L3N256_DM_power00_sigma1.08_dir_3', '/home/ryan/Data/run_CDM_L3N128_HY_var4', '/home/ryan/Data/run_2cDM_L3N256_HY_powerm2m2_sigma1', '/home/ryan/Data/run_2cDM_L3N256_DM_powerm2m2_sigma1_dir_6', '/home/ryan/Data/run_2cDM_L3N256_HY_power00_sigma100', '/home/ryan/Data/run_2cDM_L3N256_DM_powerm2m2_sigma1_dir_7_Vkick119.90', '/home/ryan/Data/run_2cDM_L3N256_DM_powerm2m2_sigma1_dir_5_Vkick71.88', '/home/ryan/Data/run_2cDM_L3N256_DM_power00_sigma1', '/home/ryan/Data/run_2cDM_L3N256_DM_powerm2m2_sigma1_dir_9', '/home/ryan/Data/run_CDM_710_DM', '/home/ryan/Data/run_2cDM_L3N256_DM_powerm2m2_sigma1.08_dir_3', '/home/ryan/Data/run_2cDM_L3N256_DM_power00_sigma5.0_dir_9', '/home/ryan/Data/run_2cDM_L3N128_HY_power00_sigma0.1_var6', '/home/ryan/Data/run_2cDM_L3N256_DM_powerm2m2_sigma1_dir_4', '/home/ryan/Data/run_CDM_L10N256_HY', '/home/ryan/Data/run_2cDM_L3N256_DM_power00_sigma0.646_dir_1', '/home/ryan/Data/run_2cDM_L3N256_DM_powerm2m2_sigma0.5_dir_0', '/home/ryan/Data/run_CDM_L3N512_HY', '/home/ryan/Data/run_2cDM_L3N256_DM_power00_sigma1.39_dir_4', '/home/ryan/Data/run_CDM_L3N256_DM_dir_3', '/home/ryan/Data/run_2cDM_L3N256_DM_power00_sigma1_dir_9', '/home/ryan/Data/run_2cDM_L3N256_DM_powerm2m2_sigma1_dir_0_Vkick20.00']\n"
     ]
    }
   ],
   "source": [
    "outdir = '../../data_prods/'\n",
    "data_dir = '/home/ryan/Data'\n",
    "subdir_list = [os.path.join(data_dir, o) for o in os.listdir(data_dir) if os.path.isdir(os.path.join(data_dir,o))]\n",
    "\n",
    "print(subdir_list)"
   ]
  },
  {
   "cell_type": "code",
   "execution_count": 3,
   "metadata": {},
   "outputs": [],
   "source": [
    "def get_masses(sbh_pos, rbins, coord, mass_table):\n",
    "\n",
    "    r = (coord[:,0] - sbh_pos[0])**2 + (coord[:,1] - sbh_pos[1])**2 + (coord[:,2] - sbh_pos[2])**2\n",
    "\n",
    "    m_in = []\n",
    "    for R in rbins:\n",
    "        m_in.append(mass_table[r <= R].sum())\n",
    "    return np.array(m_in)\n",
    "    "
   ]
  },
  {
   "cell_type": "code",
   "execution_count": 6,
   "metadata": {},
   "outputs": [
    {
     "data": {
      "application/vnd.jupyter.widget-view+json": {
       "model_id": "ecea1b8767cb4ac6b13d9476ec1615cd",
       "version_major": 2,
       "version_minor": 0
      },
      "text/plain": [
       "  0%|          | 0/124 [00:00<?, ?it/s]"
      ]
     },
     "metadata": {},
     "output_type": "display_data"
    },
    {
     "name": "stdout",
     "output_type": "stream",
     "text": [
      "../../data_prods/run_2cDM_L3N256_DM_powerm2m2_sigma1_dir_2 already exists!\n",
      "Calculating mass densities for run run_2cDM_L3N256_DM_powerm2m2_sigma1_dir_2...\n",
      "../../data_prods/run_2cDM_L3N256_DM_powerm2m2_sigma1_dir_2/subhalo_densities_0 already exists!\n",
      "Calculating 5 subhalo density profiles for snapshot 0...\n",
      "No subhalos formed for snapshot 0...\n",
      "../../data_prods/run_2cDM_L3N256_DM_powerm2m2_sigma1_dir_2/subhalo_densities_1 already exists!\n",
      "Mass density files exist for run_2cDM_L3N256_DM_powerm2m2_sigma1_dir_2.\n",
      "Skipping...\n",
      "../../data_prods/run_2cDM_L3N256_DM_powerm2m2_sigma1_dir_2/subhalo_densities_2 already exists!\n",
      "Mass density files exist for run_2cDM_L3N256_DM_powerm2m2_sigma1_dir_2.\n",
      "Skipping...\n",
      "../../data_prods/run_2cDM_L3N256_DM_powerm2m2_sigma1_dir_2/subhalo_densities_3 already exists!\n",
      "Mass density files exist for run_2cDM_L3N256_DM_powerm2m2_sigma1_dir_2.\n",
      "Skipping...\n",
      "../../data_prods/run_2cDM_L3N256_DM_powerm2m2_sigma1_dir_2/subhalo_densities_4 already exists!\n",
      "Mass density files exist for run_2cDM_L3N256_DM_powerm2m2_sigma1_dir_2.\n",
      "Skipping...\n",
      "../../data_prods/run_2cDM_L3N256_DM_powerm2m2_sigma1_dir_2/subhalo_densities_5 already exists!\n",
      "Calculating 5 subhalo density profiles for snapshot 5...\n",
      "Particle Type 0 does not exist...\n"
     ]
    },
    {
     "name": "stderr",
     "output_type": "stream",
     "text": [
      "../../py/cosmoSim.py:54: UserWarning: Vkick not explicitly set! Assuming 100 km/s...\n",
      "  warnings.warn('Vkick not explicitly set! Assuming 100 km/s...')\n"
     ]
    },
    {
     "name": "stdout",
     "output_type": "stream",
     "text": [
      "Particle Type 4 does not exist...\n",
      "Particle Type 5 does not exist...\n",
      "Saved subhalo 0 density profile at ../../data_prods/run_2cDM_L3N256_DM_powerm2m2_sigma1_dir_2/subhalo_densities_5/subhalo_0.txt\n",
      "Particle Type 0 does not exist...\n",
      "Particle Type 4 does not exist...\n",
      "Particle Type 5 does not exist...\n",
      "Saved subhalo 1 density profile at ../../data_prods/run_2cDM_L3N256_DM_powerm2m2_sigma1_dir_2/subhalo_densities_5/subhalo_1.txt\n",
      "Particle Type 0 does not exist...\n",
      "Particle Type 4 does not exist...\n",
      "Particle Type 5 does not exist...\n",
      "Saved subhalo 2 density profile at ../../data_prods/run_2cDM_L3N256_DM_powerm2m2_sigma1_dir_2/subhalo_densities_5/subhalo_2.txt\n",
      "Particle Type 0 does not exist...\n",
      "Particle Type 4 does not exist...\n",
      "Particle Type 5 does not exist...\n",
      "Saved subhalo 3 density profile at ../../data_prods/run_2cDM_L3N256_DM_powerm2m2_sigma1_dir_2/subhalo_densities_5/subhalo_3.txt\n",
      "Particle Type 0 does not exist...\n",
      "Particle Type 4 does not exist...\n",
      "Particle Type 5 does not exist...\n",
      "Saved subhalo 4 density profile at ../../data_prods/run_2cDM_L3N256_DM_powerm2m2_sigma1_dir_2/subhalo_densities_5/subhalo_4.txt\n",
      "Calculating 5 subhalo density profiles for snapshot 6...\n",
      "Particle Type 0 does not exist...\n",
      "Particle Type 4 does not exist...\n",
      "Particle Type 5 does not exist...\n",
      "Saved subhalo 0 density profile at ../../data_prods/run_2cDM_L3N256_DM_powerm2m2_sigma1_dir_2/subhalo_densities_6/subhalo_0.txt\n",
      "Particle Type 0 does not exist...\n",
      "Particle Type 4 does not exist...\n",
      "Particle Type 5 does not exist...\n",
      "Saved subhalo 1 density profile at ../../data_prods/run_2cDM_L3N256_DM_powerm2m2_sigma1_dir_2/subhalo_densities_6/subhalo_1.txt\n",
      "Particle Type 0 does not exist...\n",
      "Particle Type 4 does not exist...\n",
      "Particle Type 5 does not exist...\n",
      "Saved subhalo 2 density profile at ../../data_prods/run_2cDM_L3N256_DM_powerm2m2_sigma1_dir_2/subhalo_densities_6/subhalo_2.txt\n",
      "Particle Type 0 does not exist...\n",
      "Particle Type 4 does not exist...\n",
      "Particle Type 5 does not exist...\n",
      "Saved subhalo 3 density profile at ../../data_prods/run_2cDM_L3N256_DM_powerm2m2_sigma1_dir_2/subhalo_densities_6/subhalo_3.txt\n",
      "Particle Type 0 does not exist...\n",
      "Particle Type 4 does not exist...\n",
      "Particle Type 5 does not exist...\n",
      "Saved subhalo 4 density profile at ../../data_prods/run_2cDM_L3N256_DM_powerm2m2_sigma1_dir_2/subhalo_densities_6/subhalo_4.txt\n",
      "Calculating 5 subhalo density profiles for snapshot 7...\n",
      "Particle Type 0 does not exist...\n"
     ]
    },
    {
     "ename": "KeyboardInterrupt",
     "evalue": "",
     "output_type": "error",
     "traceback": [
      "\u001b[0;31m---------------------------------------------------------------------------\u001b[0m",
      "\u001b[0;31mKeyboardInterrupt\u001b[0m                         Traceback (most recent call last)",
      "\u001b[0;32m<ipython-input-6-0dcd910e8e66>\u001b[0m in \u001b[0;36m<module>\u001b[0;34m\u001b[0m\n\u001b[1;32m     78\u001b[0m \u001b[0;34m\u001b[0m\u001b[0m\n\u001b[1;32m     79\u001b[0m                     \u001b[0;32mtry\u001b[0m\u001b[0;34m:\u001b[0m\u001b[0;34m\u001b[0m\u001b[0;34m\u001b[0m\u001b[0m\n\u001b[0;32m---> 80\u001b[0;31m                         \u001b[0mcoords\u001b[0m \u001b[0;34m=\u001b[0m \u001b[0mf\u001b[0m\u001b[0;34m.\u001b[0m\u001b[0mget\u001b[0m\u001b[0;34m(\u001b[0m\u001b[0;34mf\"PartType{partType}/Coordinates\"\u001b[0m\u001b[0;34m)\u001b[0m\u001b[0;34m[\u001b[0m\u001b[0;34m(\u001b[0m\u001b[0;34m)\u001b[0m\u001b[0;34m]\u001b[0m\u001b[0;34m[\u001b[0m\u001b[0mparticles_before\u001b[0m\u001b[0;34m[\u001b[0m\u001b[0mpartType\u001b[0m\u001b[0;34m]\u001b[0m\u001b[0;34m:\u001b[0m\u001b[0;34m(\u001b[0m\u001b[0mparticles_before\u001b[0m\u001b[0;34m[\u001b[0m\u001b[0mpartType\u001b[0m\u001b[0;34m]\u001b[0m \u001b[0;34m+\u001b[0m \u001b[0mparticles_this\u001b[0m\u001b[0;34m[\u001b[0m\u001b[0mpartType\u001b[0m\u001b[0;34m]\u001b[0m\u001b[0;34m)\u001b[0m\u001b[0;34m]\u001b[0m\u001b[0;34m\u001b[0m\u001b[0;34m\u001b[0m\u001b[0m\n\u001b[0m\u001b[1;32m     81\u001b[0m                         \u001b[0;32mif\u001b[0m \u001b[0mpartType\u001b[0m \u001b[0;34m!=\u001b[0m \u001b[0;36m1\u001b[0m\u001b[0;34m:\u001b[0m\u001b[0;34m\u001b[0m\u001b[0;34m\u001b[0m\u001b[0m\n\u001b[1;32m     82\u001b[0m                             \u001b[0mmasses\u001b[0m \u001b[0;34m=\u001b[0m \u001b[0mf\u001b[0m\u001b[0;34m.\u001b[0m\u001b[0mget\u001b[0m\u001b[0;34m(\u001b[0m\u001b[0;34mf\"PartType{partType}/Masses\"\u001b[0m\u001b[0;34m)\u001b[0m\u001b[0;34m[\u001b[0m\u001b[0;34m(\u001b[0m\u001b[0;34m)\u001b[0m\u001b[0;34m]\u001b[0m\u001b[0;34m[\u001b[0m\u001b[0mparticles_before\u001b[0m\u001b[0;34m[\u001b[0m\u001b[0mpartType\u001b[0m\u001b[0;34m]\u001b[0m\u001b[0;34m:\u001b[0m\u001b[0;34m(\u001b[0m\u001b[0mparticles_before\u001b[0m\u001b[0;34m[\u001b[0m\u001b[0mpartType\u001b[0m\u001b[0;34m]\u001b[0m \u001b[0;34m+\u001b[0m \u001b[0mparticles_this\u001b[0m\u001b[0;34m[\u001b[0m\u001b[0mpartType\u001b[0m\u001b[0;34m]\u001b[0m\u001b[0;34m)\u001b[0m\u001b[0;34m]\u001b[0m\u001b[0;34m\u001b[0m\u001b[0;34m\u001b[0m\u001b[0m\n",
      "\u001b[0;32mh5py/_objects.pyx\u001b[0m in \u001b[0;36mh5py._objects.with_phil.wrapper\u001b[0;34m()\u001b[0m\n",
      "\u001b[0;32mh5py/_objects.pyx\u001b[0m in \u001b[0;36mh5py._objects.with_phil.wrapper\u001b[0;34m()\u001b[0m\n",
      "\u001b[0;32m~/anaconda3/lib/python3.7/site-packages/h5py/_hl/dataset.py\u001b[0m in \u001b[0;36m__getitem__\u001b[0;34m(self, args)\u001b[0m\n\u001b[1;32m    571\u001b[0m         \u001b[0mmspace\u001b[0m \u001b[0;34m=\u001b[0m \u001b[0mh5s\u001b[0m\u001b[0;34m.\u001b[0m\u001b[0mcreate_simple\u001b[0m\u001b[0;34m(\u001b[0m\u001b[0mmshape\u001b[0m\u001b[0;34m)\u001b[0m\u001b[0;34m\u001b[0m\u001b[0;34m\u001b[0m\u001b[0m\n\u001b[1;32m    572\u001b[0m         \u001b[0mfspace\u001b[0m \u001b[0;34m=\u001b[0m \u001b[0mselection\u001b[0m\u001b[0;34m.\u001b[0m\u001b[0mid\u001b[0m\u001b[0;34m\u001b[0m\u001b[0;34m\u001b[0m\u001b[0m\n\u001b[0;32m--> 573\u001b[0;31m         \u001b[0mself\u001b[0m\u001b[0;34m.\u001b[0m\u001b[0mid\u001b[0m\u001b[0;34m.\u001b[0m\u001b[0mread\u001b[0m\u001b[0;34m(\u001b[0m\u001b[0mmspace\u001b[0m\u001b[0;34m,\u001b[0m \u001b[0mfspace\u001b[0m\u001b[0;34m,\u001b[0m \u001b[0marr\u001b[0m\u001b[0;34m,\u001b[0m \u001b[0mmtype\u001b[0m\u001b[0;34m,\u001b[0m \u001b[0mdxpl\u001b[0m\u001b[0;34m=\u001b[0m\u001b[0mself\u001b[0m\u001b[0;34m.\u001b[0m\u001b[0m_dxpl\u001b[0m\u001b[0;34m)\u001b[0m\u001b[0;34m\u001b[0m\u001b[0;34m\u001b[0m\u001b[0m\n\u001b[0m\u001b[1;32m    574\u001b[0m \u001b[0;34m\u001b[0m\u001b[0m\n\u001b[1;32m    575\u001b[0m         \u001b[0;31m# Patch up the output for NumPy\u001b[0m\u001b[0;34m\u001b[0m\u001b[0;34m\u001b[0m\u001b[0;34m\u001b[0m\u001b[0m\n",
      "\u001b[0;31mKeyboardInterrupt\u001b[0m: "
     ]
    }
   ],
   "source": [
    "rewrite = True\n",
    "max_no_subhalos = 5\n",
    "\n",
    "nBins = 1000\n",
    "N_partTypes = 6\n",
    "massive_partTypes = [0, 1, 4, 5]\n",
    "\n",
    "for subdir in tqdm(subdir_list):\n",
    "    run_name = subdir.split('/')[-1]\n",
    "\n",
    "    #reject folders that aren't runs\n",
    "    if 'run' not in run_name:\n",
    "        continue\n",
    "    \n",
    "    fpath = os.path.join(outdir, run_name)\n",
    "    try:\n",
    "        os.mkdir(fpath)\n",
    "    except:\n",
    "        print(f'{fpath} already exists!')\n",
    "\n",
    "    run = cosmoSim(run_name)\n",
    "    force_scale = 2.8 * run.softening_length\n",
    "\n",
    "    snaps = sorted(glob.glob(subdir + '/snap*'))\n",
    "    fofs = sorted(glob.glob(subdir + '/fof*'))\n",
    "\n",
    "    print(f'Calculating mass densities for run {run_name}...')\n",
    "\n",
    "    for i, (snap, fof) in enumerate(zip(snaps, fofs)):\n",
    "        \n",
    "        fout = os.path.join(fpath, f'subhalo_densities_{i}')\n",
    "        try:\n",
    "            os.mkdir(fout)\n",
    "        except:\n",
    "            print(f'{fout} already exists!')\n",
    "        \n",
    "        if not rewrite:\n",
    "                if (len( glob.glob( os.path.join(fout, 'subhalo*.txt') ) ) >= max_no_subhalos):\n",
    "                    print(f'Mass density files exist for {run_name}.')\n",
    "                    print('Skipping...')\n",
    "                    continue\n",
    "        print(f'Calculating {max_no_subhalos} subhalo density profiles for snapshot {i}...')\n",
    "        # get density for each subhalo\n",
    "        with h5py.File(snap, \"r\") as f, h5py.File(fof, \"r\") as s:\n",
    "            try:\n",
    "                half_mass_radii = s[\"Subhalo/SubhaloHalfmassRad\"][()]\n",
    "            except:\n",
    "                print(f'No subhalos formed for snapshot {i}...')\n",
    "                continue\n",
    "            \n",
    "            subhalo = s.get('Subhalo')\n",
    "            group = s.get('Group')\n",
    "\n",
    "            for subhalo_idx in range(max_no_subhalos):\n",
    "                cm = subhalo['SubhaloCM'][subhalo_idx]\n",
    "                max_rad = 3 * subhalo['SubhaloHalfmassRad'][subhalo_idx]\n",
    "                nums = subhalo[\"SubhaloLenType\"][subhalo_idx]\n",
    "                group_idx = subhalo[\"SubhaloGrNr\"][subhalo_idx]\n",
    "\n",
    "                particles_before = np.zeros(N_partTypes).astype(int)\n",
    "                if group_idx != 0:\n",
    "                    # find all particles in groups before this group\n",
    "                    particles_before += np.sum([ group['GroupLenType'][i] for i in range(group_idx) ], axis=0).astype(int)\n",
    "\n",
    "                # which subhalo is this one within its group?\n",
    "                first_in_group_idx = group[\"GroupFirstSub\"][group_idx]\n",
    "                # if -1, this is it\n",
    "                if first_in_group_idx != -1:\n",
    "                    # get particles for the previous subhalos\n",
    "                    particles_before += np.sum([ subhalo['SubhaloLenType'][i] for i in range(first_in_group_idx, subhalo_idx) ], axis=0).astype(int)\n",
    "                    \n",
    "                particles_this = subhalo['SubhaloLenType'][subhalo_idx]\n",
    "\n",
    "                rbins = np.geomspace(max_rad / 30, max_rad, num=nBins)\n",
    "\n",
    "                total_mass = np.zeros(nBins)\n",
    "                for partType in massive_partTypes:\n",
    "                    \n",
    "                    try:\n",
    "                        coords = f.get(f\"PartType{partType}/Coordinates\")[()][particles_before[partType]:(particles_before[partType] + particles_this[partType])]\n",
    "                        if partType != 1:\n",
    "                            masses = f.get(f\"PartType{partType}/Masses\")[()][particles_before[partType]:(particles_before[partType] + particles_this[partType])]\n",
    "                        else:\n",
    "                            masses = f[\"Header\"].attrs[\"MassTable\"][1] * np.ones( particles_this[partType] ) \n",
    "\n",
    "                        total_mass += get_masses(cm, rbins, coords, masses)\n",
    "                    except TypeError as e:\n",
    "                        print( f'Particle Type {partType} does not exist...')\n",
    "                        continue\n",
    "\n",
    "                \n",
    "                densities = total_mass / ( (4/3) * np.pi * rbins**3 )\n",
    "                fname = os.path.join(fout, f'subhalo_{subhalo_idx}.txt')\n",
    "                np.savetxt(fname, (rbins, densities))\n",
    "                print(f'Saved subhalo {subhalo_idx} density profile at {fname}')"
   ]
  },
  {
   "cell_type": "code",
   "execution_count": null,
   "metadata": {},
   "outputs": [],
   "source": []
  }
 ],
 "metadata": {
  "kernelspec": {
   "display_name": "base",
   "language": "python",
   "name": "python3"
  },
  "language_info": {
   "codemirror_mode": {
    "name": "ipython",
    "version": 3
   },
   "file_extension": ".py",
   "mimetype": "text/x-python",
   "name": "python",
   "nbconvert_exporter": "python",
   "pygments_lexer": "ipython3",
   "version": "3.7.11"
  }
 },
 "nbformat": 4,
 "nbformat_minor": 2
}
