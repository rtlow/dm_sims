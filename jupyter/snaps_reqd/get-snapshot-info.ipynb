{
 "cells": [
  {
   "cell_type": "code",
   "execution_count": 2,
   "metadata": {},
   "outputs": [],
   "source": [
    "import os\n",
    "import json\n",
    "import glob\n",
    "import h5py\n",
    "import numpy as np\n",
    "from tqdm.auto import tqdm"
   ]
  },
  {
   "cell_type": "code",
   "execution_count": 3,
   "metadata": {},
   "outputs": [
    {
     "name": "stdout",
     "output_type": "stream",
     "text": [
      "['/home/ryan/Data/run_2cDM_L3N256_DM_powerm2m2_sigma0.1', '/home/ryan/Data/run_2cDM_L3N512_HY_power00_sigma1', '/home/ryan/Data/run_2cDM_L3N256_HY_power00_sigma0.1', '/home/ryan/Data/run_SIDM_L3N256_DM_power0_sigma1', '/home/ryan/Data/lost+found', '/home/ryan/Data/run_2cDM_L3N256_DM_power00_sigma1_dir_3', '/home/ryan/Data/run_2cDM_L3N256_HY_powerm2m2_sigma10', '/home/ryan/Data/run_CDM_L3N256_DM_dir_7', '/home/ryan/Data/run_2cDM_L3N256_DM_power00_sigma1_dir_8', '/home/ryan/Data/run_CDM_L5N256_HY', '/home/ryan/Data/run_2cDM_L3N128_HY_power00_sigma0.1_10e-7', '/home/ryan/Data/run_2cDM_L3N256_DM_power00_sigma0.1', '/home/ryan/Data/run_2cDM_L3N128_HY_power00_sigma0.1_var4', '/home/ryan/Data/run_2cDM_L3N256_DM_power00_sigma1_dir_4', '/home/ryan/Data/run_CDM_710_HY', '/home/ryan/Data/run_2cDM_710_HY_powerm2m2_sigma1', '/home/ryan/Data/run_2cDM_L3N256_DM_power00_sigma1_dir_1', '/home/ryan/Data/run_CDM_L3N128_HY', '/home/ryan/Data/run_2cDM_L3N256_DM_power00_sigma1_dir_6', '/home/ryan/Data/run_2cDM_L3N128_HY_power00_sigma0.1_var2', '/home/ryan/Data/run_SIDM_L3N256_HY_power0_sigma1', '/home/ryan/Data/run_CDM_L3N256_DM_dir_9', '/home/ryan/Data/run_2cDM_L3N256_DM_power00_sigma10', '/home/ryan/Data/run_2cDM_L3N128_DM_power00_sigma0.1', '/home/ryan/Data/run_CDM_L3N256_DM', '/home/ryan/Data/run_2cDM_L10N256_HY_power00_sigma1', '/home/ryan/Data/run_2cDM_L3N128_HY_power00_sigma0.1_var5', '/home/ryan/Data/run_2cDM_L3N256_DM_power00_sigma1_dir_2', '/home/ryan/Data/run_CDM_L3N128_DM', '/home/ryan/Data/run_2cDM_L3N128_HY_power00_sigma0.1', '/home/ryan/Data/run_2cDM_L5N256_HY_power00_sigma1', '/home/ryan/Data/run_2cDM_L3N256_DM_power22_sigma10', '/home/ryan/Data/run_CDM_L3N256_DM_dir_6', '/home/ryan/Data/run_CDM_L3N256_DM_dir_2', '/home/ryan/Data/run_2cDM_L3N256_DM_power00_sigma100', '/home/ryan/Data/run_2cDM_L3N256_HY_power00_sigma1', '/home/ryan/Data/run_CDM_L3N256_DM_dir_8', '/home/ryan/Data/run_2cDM_L3N256_DM_powerm2m2_sigma10', '/home/ryan/Data/run_2cDM_L3N256_HY_power00_sigma10', '/home/ryan/Data/run_CDM_L3N128_HY_var6', '/home/ryan/Data/run_CDM_L3N128_HY_var2', '/home/ryan/Data/run_2cDM_710_DM_power00_sigma1', '/home/ryan/Data/other', '/home/ryan/Data/run_CDM_L3N512_DM', '/home/ryan/Data/run_CDM_L3N256_DM_dir_1', '/home/ryan/Data/run_2cDM_710_HY_power00_sigma1', '/home/ryan/Data/run_2cDM_L3N512_DM_power00_sigma1', '/home/ryan/Data/run_2cDM_L3N128_HY_power00_sigma1', '/home/ryan/Data/run_2cDM_710_DM_powerm2m2_sigma1', '/home/ryan/Data/run_CDM_L3N128_HY_var3', '/home/ryan/Data/run_2cDM_L3N256_DM_power00_sigma1_dir_7', '/home/ryan/Data/run_2cDM_L3N256_DM_power00_sigma1_dir_5', '/home/ryan/Data/run_2cDM_L3N256_DM_power22_sigma1', '/home/ryan/Data/run_2cDM_L3N128_HY_power00_sigma0.1_var3', '/home/ryan/Data/.Trash-1000', '/home/ryan/Data/run_2cDM_L3N256_HY_powerm2m2_sigma0.1', '/home/ryan/Data/run_CDM_L3N256_DM_dir_5', '/home/ryan/Data/run_2cDM_L3N256_DM_powerm2m2_sigma1', '/home/ryan/Data/run_2cDM_L3N256_HY_power22_sigma1', '/home/ryan/Data/run_CDM_L3N128_HY_var5', '/home/ryan/Data/run_CDM_L3N256_DM_dir_4', '/home/ryan/Data/run_CDM_L3N256_DM_dir_0', '/home/ryan/Data/run_CDM_L3N256_HY', '/home/ryan/Data/run_CDM_L3N128_HY_var4', '/home/ryan/Data/run_2cDM_L3N256_HY_powerm2m2_sigma1', '/home/ryan/Data/run_2cDM_L3N256_HY_power00_sigma100', '/home/ryan/Data/run_2cDM_L3N256_DM_power00_sigma1', '/home/ryan/Data/run_CDM_710_DM', '/home/ryan/Data/run_2cDM_L3N128_HY_power00_sigma0.1_var6', '/home/ryan/Data/run_CDM_L10N256_HY', '/home/ryan/Data/run_CDM_L3N512_HY', '/home/ryan/Data/run_CDM_L3N256_DM_dir_3', '/home/ryan/Data/run_2cDM_L3N256_DM_power00_sigma1_dir_9']\n"
     ]
    }
   ],
   "source": [
    "outdir = '../../data_prods/'\n",
    "data_dir = '/home/ryan/Data'\n",
    "subdir_list = [os.path.join(data_dir, o) for o in os.listdir(data_dir) if os.path.isdir(os.path.join(data_dir,o))]\n",
    "\n",
    "print(subdir_list)"
   ]
  },
  {
   "cell_type": "code",
   "execution_count": 4,
   "metadata": {},
   "outputs": [],
   "source": [
    "\n",
    "def parsePower(powerType):\n",
    "    stripped = powerType[5:]\n",
    "    negFlag = False\n",
    "    powers = [] \n",
    "    for char in stripped:\n",
    "        if char == 'm':\n",
    "            negFlag = True\n",
    "            continue\n",
    "        if negFlag:\n",
    "            powers.append(-int(char))\n",
    "            negFlag = False\n",
    "        else:\n",
    "            powers.append(int(char))\n",
    "\n",
    "    return powers\n",
    "\n",
    "def parseSigma(sigmaType):\n",
    "    return float(sigmaType[5:])\n"
   ]
  },
  {
   "cell_type": "code",
   "execution_count": 5,
   "metadata": {},
   "outputs": [],
   "source": [
    "def get_mass_profile(f, nbins=1000):\n",
    "\n",
    "    Subhalo=f.get('Subhalo')\n",
    "    SubhaloMass=np.array(Subhalo['SubhaloMass'])\n",
    "    SubhaloMass=10**10*SubhaloMass #converting to solar masses\n",
    "\n",
    "    Mass_Bins = np.linspace(0, np.amax(SubhaloMass), num=nbins)\n",
    "    N_halo = np.array([ (SubhaloMass > mbin).sum() for mbin in Mass_Bins ])\n",
    "    return Mass_Bins, N_halo\n",
    "\n",
    "def get_mvel_profile(f, nbins=1000):\n",
    "\n",
    "    Subhalo=f.get('Subhalo') #Subhalo is the group, SubhaloVMas is the dataset inside the group\n",
    "    SubhaloVMax=np.array(Subhalo['SubhaloVmax']) #km/s\n",
    "\n",
    "    #Take Absolute Values of the velocities\n",
    "    MaxVel=np.absolute(SubhaloVMax)\n",
    "\n",
    "    MaxVel_Bin = np.linspace(0, np.amax(MaxVel), num=nbins)\n",
    "    N_halo = np.array([ (SubhaloVMax > vbin).sum() for vbin in MaxVel_Bin])\n",
    "    return MaxVel_Bin, N_halo"
   ]
  },
  {
   "cell_type": "code",
   "execution_count": 6,
   "metadata": {},
   "outputs": [
    {
     "name": "stderr",
     "output_type": "stream",
     "text": [
      "  0%|          | 0/73 [00:00<?, ?it/s]"
     ]
    },
    {
     "name": "stdout",
     "output_type": "stream",
     "text": [
      "../../data_prods/run_2cDM_L3N256_DM_powerm2m2_sigma0.1 already exists!\n",
      "Working on  run_2cDM_L3N256_DM_powerm2m2_sigma0.1\n"
     ]
    },
    {
     "name": "stderr",
     "output_type": "stream",
     "text": [
      "  1%|▏         | 1/73 [00:00<00:49,  1.44it/s]"
     ]
    },
    {
     "name": "stdout",
     "output_type": "stream",
     "text": [
      "../../data_prods/run_2cDM_L3N512_HY_power00_sigma1 already exists!\n",
      "Working on  run_2cDM_L3N512_HY_power00_sigma1\n"
     ]
    },
    {
     "name": "stderr",
     "output_type": "stream",
     "text": [
      "  3%|▎         | 2/73 [00:02<01:19,  1.11s/it]"
     ]
    },
    {
     "name": "stdout",
     "output_type": "stream",
     "text": [
      "../../data_prods/run_2cDM_L3N256_HY_power00_sigma0.1 already exists!\n",
      "Working on  run_2cDM_L3N256_HY_power00_sigma0.1\n"
     ]
    },
    {
     "name": "stderr",
     "output_type": "stream",
     "text": [
      "  4%|▍         | 3/73 [00:02<01:06,  1.05it/s]"
     ]
    },
    {
     "name": "stdout",
     "output_type": "stream",
     "text": [
      "../../data_prods/run_SIDM_L3N256_DM_power0_sigma1 already exists!\n",
      "Working on  run_SIDM_L3N256_DM_power0_sigma1\n"
     ]
    },
    {
     "name": "stderr",
     "output_type": "stream",
     "text": [
      "  5%|▌         | 4/73 [00:03<00:57,  1.20it/s]"
     ]
    },
    {
     "name": "stdout",
     "output_type": "stream",
     "text": [
      "Working on  run_2cDM_L3N256_DM_power00_sigma1_dir_3\n"
     ]
    },
    {
     "name": "stderr",
     "output_type": "stream",
     "text": [
      "  8%|▊         | 6/73 [00:04<00:37,  1.80it/s]"
     ]
    },
    {
     "name": "stdout",
     "output_type": "stream",
     "text": [
      "../../data_prods/run_2cDM_L3N256_HY_powerm2m2_sigma10 already exists!\n",
      "Working on  run_2cDM_L3N256_HY_powerm2m2_sigma10\n"
     ]
    },
    {
     "name": "stderr",
     "output_type": "stream",
     "text": [
      " 10%|▉         | 7/73 [00:04<00:33,  1.94it/s]"
     ]
    },
    {
     "name": "stdout",
     "output_type": "stream",
     "text": [
      "Working on  run_CDM_L3N256_DM_dir_7\n"
     ]
    },
    {
     "name": "stderr",
     "output_type": "stream",
     "text": [
      " 11%|█         | 8/73 [00:05<00:35,  1.85it/s]"
     ]
    },
    {
     "name": "stdout",
     "output_type": "stream",
     "text": [
      "Working on  run_2cDM_L3N256_DM_power00_sigma1_dir_8\n"
     ]
    },
    {
     "name": "stderr",
     "output_type": "stream",
     "text": [
      " 12%|█▏        | 9/73 [00:05<00:36,  1.77it/s]"
     ]
    },
    {
     "name": "stdout",
     "output_type": "stream",
     "text": [
      "../../data_prods/run_CDM_L5N256_HY already exists!\n",
      "Working on  run_CDM_L5N256_HY\n"
     ]
    },
    {
     "name": "stderr",
     "output_type": "stream",
     "text": [
      " 14%|█▎        | 10/73 [00:06<00:38,  1.64it/s]"
     ]
    },
    {
     "name": "stdout",
     "output_type": "stream",
     "text": [
      "../../data_prods/run_2cDM_L3N128_HY_power00_sigma0.1_10e-7 already exists!\n",
      "Working on  run_2cDM_L3N128_HY_power00_sigma0.1_10e-7\n"
     ]
    },
    {
     "name": "stderr",
     "output_type": "stream",
     "text": [
      " 15%|█▌        | 11/73 [00:06<00:35,  1.75it/s]"
     ]
    },
    {
     "name": "stdout",
     "output_type": "stream",
     "text": [
      "../../data_prods/run_2cDM_L3N256_DM_power00_sigma0.1 already exists!\n",
      "Working on  run_2cDM_L3N256_DM_power00_sigma0.1\n"
     ]
    },
    {
     "name": "stderr",
     "output_type": "stream",
     "text": [
      " 16%|█▋        | 12/73 [00:07<00:37,  1.65it/s]"
     ]
    },
    {
     "name": "stdout",
     "output_type": "stream",
     "text": [
      "../../data_prods/run_2cDM_L3N128_HY_power00_sigma0.1_var4 already exists!\n",
      "Working on  run_2cDM_L3N128_HY_power00_sigma0.1_var4\n"
     ]
    },
    {
     "name": "stderr",
     "output_type": "stream",
     "text": [
      " 18%|█▊        | 13/73 [00:08<00:33,  1.79it/s]"
     ]
    },
    {
     "name": "stdout",
     "output_type": "stream",
     "text": [
      "Working on  run_2cDM_L3N256_DM_power00_sigma1_dir_4\n"
     ]
    },
    {
     "name": "stderr",
     "output_type": "stream",
     "text": [
      " 19%|█▉        | 14/73 [00:08<00:30,  1.95it/s]"
     ]
    },
    {
     "name": "stdout",
     "output_type": "stream",
     "text": [
      "../../data_prods/run_CDM_710_HY already exists!\n",
      "Working on  run_CDM_710_HY\n"
     ]
    },
    {
     "name": "stderr",
     "output_type": "stream",
     "text": [
      " 21%|██        | 15/73 [00:11<01:20,  1.38s/it]"
     ]
    },
    {
     "name": "stdout",
     "output_type": "stream",
     "text": [
      "../../data_prods/run_2cDM_710_HY_powerm2m2_sigma1 already exists!\n",
      "Working on  run_2cDM_710_HY_powerm2m2_sigma1\n"
     ]
    },
    {
     "name": "stderr",
     "output_type": "stream",
     "text": [
      " 22%|██▏       | 16/73 [00:14<01:40,  1.77s/it]"
     ]
    },
    {
     "name": "stdout",
     "output_type": "stream",
     "text": [
      "Working on  run_2cDM_L3N256_DM_power00_sigma1_dir_1\n"
     ]
    },
    {
     "name": "stderr",
     "output_type": "stream",
     "text": [
      " 23%|██▎       | 17/73 [00:15<01:21,  1.46s/it]"
     ]
    },
    {
     "name": "stdout",
     "output_type": "stream",
     "text": [
      "../../data_prods/run_CDM_L3N128_HY already exists!\n",
      "Working on  run_CDM_L3N128_HY\n"
     ]
    },
    {
     "name": "stderr",
     "output_type": "stream",
     "text": [
      " 25%|██▍       | 18/73 [00:15<01:04,  1.16s/it]"
     ]
    },
    {
     "name": "stdout",
     "output_type": "stream",
     "text": [
      "Working on  run_2cDM_L3N256_DM_power00_sigma1_dir_6\n"
     ]
    },
    {
     "name": "stderr",
     "output_type": "stream",
     "text": [
      " 26%|██▌       | 19/73 [00:16<00:54,  1.00s/it]"
     ]
    },
    {
     "name": "stdout",
     "output_type": "stream",
     "text": [
      "../../data_prods/run_2cDM_L3N128_HY_power00_sigma0.1_var2 already exists!\n",
      "Working on  run_2cDM_L3N128_HY_power00_sigma0.1_var2\n"
     ]
    },
    {
     "name": "stderr",
     "output_type": "stream",
     "text": [
      " 27%|██▋       | 20/73 [00:16<00:44,  1.19it/s]"
     ]
    },
    {
     "name": "stdout",
     "output_type": "stream",
     "text": [
      "../../data_prods/run_SIDM_L3N256_HY_power0_sigma1 already exists!\n",
      "Working on  run_SIDM_L3N256_HY_power0_sigma1\n"
     ]
    },
    {
     "name": "stderr",
     "output_type": "stream",
     "text": [
      " 29%|██▉       | 21/73 [00:17<00:41,  1.27it/s]"
     ]
    },
    {
     "name": "stdout",
     "output_type": "stream",
     "text": [
      "Working on  run_CDM_L3N256_DM_dir_9\n"
     ]
    },
    {
     "name": "stderr",
     "output_type": "stream",
     "text": [
      " 30%|███       | 22/73 [00:18<00:37,  1.35it/s]"
     ]
    },
    {
     "name": "stdout",
     "output_type": "stream",
     "text": [
      "../../data_prods/run_2cDM_L3N256_DM_power00_sigma10 already exists!\n",
      "Working on  run_2cDM_L3N256_DM_power00_sigma10\n"
     ]
    },
    {
     "name": "stderr",
     "output_type": "stream",
     "text": [
      " 32%|███▏      | 23/73 [00:18<00:36,  1.37it/s]"
     ]
    },
    {
     "name": "stdout",
     "output_type": "stream",
     "text": [
      "../../data_prods/run_2cDM_L3N128_DM_power00_sigma0.1 already exists!\n",
      "Working on  run_2cDM_L3N128_DM_power00_sigma0.1\n",
      "../../data_prods/run_CDM_L3N256_DM already exists!\n",
      "Working on  run_CDM_L3N256_DM\n"
     ]
    },
    {
     "name": "stderr",
     "output_type": "stream",
     "text": [
      " 34%|███▍      | 25/73 [00:19<00:26,  1.85it/s]"
     ]
    },
    {
     "name": "stdout",
     "output_type": "stream",
     "text": [
      "../../data_prods/run_2cDM_L10N256_HY_power00_sigma1 already exists!\n",
      "Working on  run_2cDM_L10N256_HY_power00_sigma1\n"
     ]
    },
    {
     "name": "stderr",
     "output_type": "stream",
     "text": [
      " 36%|███▌      | 26/73 [00:20<00:29,  1.60it/s]"
     ]
    },
    {
     "name": "stdout",
     "output_type": "stream",
     "text": [
      "../../data_prods/run_2cDM_L3N128_HY_power00_sigma0.1_var5 already exists!\n",
      "Working on  run_2cDM_L3N128_HY_power00_sigma0.1_var5\n"
     ]
    },
    {
     "name": "stderr",
     "output_type": "stream",
     "text": [
      " 37%|███▋      | 27/73 [00:20<00:27,  1.66it/s]"
     ]
    },
    {
     "name": "stdout",
     "output_type": "stream",
     "text": [
      "Working on  run_2cDM_L3N256_DM_power00_sigma1_dir_2\n"
     ]
    },
    {
     "name": "stderr",
     "output_type": "stream",
     "text": [
      " 38%|███▊      | 28/73 [00:21<00:27,  1.61it/s]"
     ]
    },
    {
     "name": "stdout",
     "output_type": "stream",
     "text": [
      "../../data_prods/run_CDM_L3N128_DM already exists!\n",
      "Working on  run_CDM_L3N128_DM\n",
      "../../data_prods/run_2cDM_L3N128_HY_power00_sigma0.1 already exists!\n",
      "Working on  run_2cDM_L3N128_HY_power00_sigma0.1\n"
     ]
    },
    {
     "name": "stderr",
     "output_type": "stream",
     "text": [
      " 41%|████      | 30/73 [00:22<00:19,  2.15it/s]"
     ]
    },
    {
     "name": "stdout",
     "output_type": "stream",
     "text": [
      "../../data_prods/run_2cDM_L5N256_HY_power00_sigma1 already exists!\n",
      "Working on  run_2cDM_L5N256_HY_power00_sigma1\n"
     ]
    },
    {
     "name": "stderr",
     "output_type": "stream",
     "text": [
      " 42%|████▏     | 31/73 [00:22<00:22,  1.88it/s]"
     ]
    },
    {
     "name": "stdout",
     "output_type": "stream",
     "text": [
      "../../data_prods/run_2cDM_L3N256_DM_power22_sigma10 already exists!\n",
      "Working on  run_2cDM_L3N256_DM_power22_sigma10\n"
     ]
    },
    {
     "name": "stderr",
     "output_type": "stream",
     "text": [
      " 44%|████▍     | 32/73 [00:23<00:22,  1.81it/s]"
     ]
    },
    {
     "name": "stdout",
     "output_type": "stream",
     "text": [
      "Working on  run_CDM_L3N256_DM_dir_6\n"
     ]
    },
    {
     "name": "stderr",
     "output_type": "stream",
     "text": [
      " 45%|████▌     | 33/73 [00:24<00:23,  1.68it/s]"
     ]
    },
    {
     "name": "stdout",
     "output_type": "stream",
     "text": [
      "Working on  run_CDM_L3N256_DM_dir_2\n"
     ]
    },
    {
     "name": "stderr",
     "output_type": "stream",
     "text": [
      " 47%|████▋     | 34/73 [00:24<00:23,  1.65it/s]"
     ]
    },
    {
     "name": "stdout",
     "output_type": "stream",
     "text": [
      "../../data_prods/run_2cDM_L3N256_DM_power00_sigma100 already exists!\n",
      "Working on  run_2cDM_L3N256_DM_power00_sigma100\n"
     ]
    },
    {
     "name": "stderr",
     "output_type": "stream",
     "text": [
      " 48%|████▊     | 35/73 [00:25<00:20,  1.88it/s]"
     ]
    },
    {
     "name": "stdout",
     "output_type": "stream",
     "text": [
      "../../data_prods/run_2cDM_L3N256_HY_power00_sigma1 already exists!\n",
      "Working on  run_2cDM_L3N256_HY_power00_sigma1\n"
     ]
    },
    {
     "name": "stderr",
     "output_type": "stream",
     "text": [
      " 49%|████▉     | 36/73 [00:26<00:23,  1.55it/s]"
     ]
    },
    {
     "name": "stdout",
     "output_type": "stream",
     "text": [
      "Working on  run_CDM_L3N256_DM_dir_8\n"
     ]
    },
    {
     "name": "stderr",
     "output_type": "stream",
     "text": [
      " 51%|█████     | 37/73 [00:27<00:30,  1.17it/s]"
     ]
    },
    {
     "name": "stdout",
     "output_type": "stream",
     "text": [
      "../../data_prods/run_2cDM_L3N256_DM_powerm2m2_sigma10 already exists!\n",
      "Working on  run_2cDM_L3N256_DM_powerm2m2_sigma10\n"
     ]
    },
    {
     "name": "stderr",
     "output_type": "stream",
     "text": [
      " 52%|█████▏    | 38/73 [00:27<00:24,  1.43it/s]"
     ]
    },
    {
     "name": "stdout",
     "output_type": "stream",
     "text": [
      "../../data_prods/run_2cDM_L3N256_HY_power00_sigma10 already exists!\n",
      "Working on  run_2cDM_L3N256_HY_power00_sigma10\n"
     ]
    },
    {
     "name": "stderr",
     "output_type": "stream",
     "text": [
      " 53%|█████▎    | 39/73 [00:30<00:38,  1.14s/it]"
     ]
    },
    {
     "name": "stdout",
     "output_type": "stream",
     "text": [
      "../../data_prods/run_CDM_L3N128_HY_var6 already exists!\n",
      "Working on  run_CDM_L3N128_HY_var6\n"
     ]
    },
    {
     "name": "stderr",
     "output_type": "stream",
     "text": [
      " 55%|█████▍    | 40/73 [00:30<00:31,  1.04it/s]"
     ]
    },
    {
     "name": "stdout",
     "output_type": "stream",
     "text": [
      "../../data_prods/run_CDM_L3N128_HY_var2 already exists!\n",
      "Working on  run_CDM_L3N128_HY_var2\n"
     ]
    },
    {
     "name": "stderr",
     "output_type": "stream",
     "text": [
      " 56%|█████▌    | 41/73 [00:31<00:29,  1.08it/s]"
     ]
    },
    {
     "name": "stdout",
     "output_type": "stream",
     "text": [
      "../../data_prods/run_2cDM_710_DM_power00_sigma1 already exists!\n",
      "Working on  run_2cDM_710_DM_power00_sigma1\n"
     ]
    },
    {
     "name": "stderr",
     "output_type": "stream",
     "text": [
      " 60%|██████    | 44/73 [00:34<00:26,  1.09it/s]"
     ]
    },
    {
     "name": "stdout",
     "output_type": "stream",
     "text": [
      "../../data_prods/run_CDM_L3N512_DM already exists!\n",
      "Working on  run_CDM_L3N512_DM\n",
      "Working on  run_CDM_L3N256_DM_dir_1\n"
     ]
    },
    {
     "name": "stderr",
     "output_type": "stream",
     "text": [
      " 62%|██████▏   | 45/73 [00:36<00:31,  1.11s/it]"
     ]
    },
    {
     "name": "stdout",
     "output_type": "stream",
     "text": [
      "../../data_prods/run_2cDM_710_HY_power00_sigma1 already exists!\n",
      "Working on  run_2cDM_710_HY_power00_sigma1\n"
     ]
    },
    {
     "name": "stderr",
     "output_type": "stream",
     "text": [
      " 63%|██████▎   | 46/73 [00:42<01:04,  2.40s/it]"
     ]
    },
    {
     "name": "stdout",
     "output_type": "stream",
     "text": [
      "../../data_prods/run_2cDM_L3N512_DM_power00_sigma1 already exists!\n",
      "Working on  run_2cDM_L3N512_DM_power00_sigma1\n"
     ]
    },
    {
     "name": "stderr",
     "output_type": "stream",
     "text": [
      " 64%|██████▍   | 47/73 [00:42<00:47,  1.81s/it]"
     ]
    },
    {
     "name": "stdout",
     "output_type": "stream",
     "text": [
      "../../data_prods/run_2cDM_L3N128_HY_power00_sigma1 already exists!\n",
      "Working on  run_2cDM_L3N128_HY_power00_sigma1\n"
     ]
    },
    {
     "name": "stderr",
     "output_type": "stream",
     "text": [
      " 66%|██████▌   | 48/73 [00:43<00:36,  1.44s/it]"
     ]
    },
    {
     "name": "stdout",
     "output_type": "stream",
     "text": [
      "../../data_prods/run_2cDM_710_DM_powerm2m2_sigma1 already exists!\n",
      "Working on  run_2cDM_710_DM_powerm2m2_sigma1\n"
     ]
    },
    {
     "name": "stderr",
     "output_type": "stream",
     "text": [
      " 67%|██████▋   | 49/73 [00:47<00:54,  2.29s/it]"
     ]
    },
    {
     "name": "stdout",
     "output_type": "stream",
     "text": [
      "../../data_prods/run_CDM_L3N128_HY_var3 already exists!\n",
      "Working on  run_CDM_L3N128_HY_var3\n"
     ]
    },
    {
     "name": "stderr",
     "output_type": "stream",
     "text": [
      " 68%|██████▊   | 50/73 [00:48<00:40,  1.75s/it]"
     ]
    },
    {
     "name": "stdout",
     "output_type": "stream",
     "text": [
      "Working on  run_2cDM_L3N256_DM_power00_sigma1_dir_7\n"
     ]
    },
    {
     "name": "stderr",
     "output_type": "stream",
     "text": [
      " 70%|██████▉   | 51/73 [00:50<00:40,  1.82s/it]"
     ]
    },
    {
     "name": "stdout",
     "output_type": "stream",
     "text": [
      "Working on  run_2cDM_L3N256_DM_power00_sigma1_dir_5\n"
     ]
    },
    {
     "name": "stderr",
     "output_type": "stream",
     "text": [
      " 71%|███████   | 52/73 [00:50<00:29,  1.41s/it]"
     ]
    },
    {
     "name": "stdout",
     "output_type": "stream",
     "text": [
      "../../data_prods/run_2cDM_L3N256_DM_power22_sigma1 already exists!\n",
      "Working on  run_2cDM_L3N256_DM_power22_sigma1\n"
     ]
    },
    {
     "name": "stderr",
     "output_type": "stream",
     "text": [
      " 73%|███████▎  | 53/73 [00:51<00:24,  1.21s/it]"
     ]
    },
    {
     "name": "stdout",
     "output_type": "stream",
     "text": [
      "../../data_prods/run_2cDM_L3N128_HY_power00_sigma0.1_var3 already exists!\n",
      "Working on  run_2cDM_L3N128_HY_power00_sigma0.1_var3\n"
     ]
    },
    {
     "name": "stderr",
     "output_type": "stream",
     "text": [
      " 74%|███████▍  | 54/73 [00:51<00:18,  1.01it/s]"
     ]
    },
    {
     "name": "stdout",
     "output_type": "stream",
     "text": [
      "../../data_prods/run_2cDM_L3N256_HY_powerm2m2_sigma0.1 already exists!\n",
      "Working on  run_2cDM_L3N256_HY_powerm2m2_sigma0.1\n"
     ]
    },
    {
     "name": "stderr",
     "output_type": "stream",
     "text": [
      " 77%|███████▋  | 56/73 [00:52<00:12,  1.35it/s]"
     ]
    },
    {
     "name": "stdout",
     "output_type": "stream",
     "text": [
      "Working on  run_CDM_L3N256_DM_dir_5\n"
     ]
    },
    {
     "name": "stderr",
     "output_type": "stream",
     "text": [
      " 78%|███████▊  | 57/73 [00:53<00:13,  1.23it/s]"
     ]
    },
    {
     "name": "stdout",
     "output_type": "stream",
     "text": [
      "../../data_prods/run_2cDM_L3N256_DM_powerm2m2_sigma1 already exists!\n",
      "Working on  run_2cDM_L3N256_DM_powerm2m2_sigma1\n"
     ]
    },
    {
     "name": "stderr",
     "output_type": "stream",
     "text": [
      " 79%|███████▉  | 58/73 [00:54<00:12,  1.20it/s]"
     ]
    },
    {
     "name": "stdout",
     "output_type": "stream",
     "text": [
      "../../data_prods/run_2cDM_L3N256_HY_power22_sigma1 already exists!\n",
      "Working on  run_2cDM_L3N256_HY_power22_sigma1\n"
     ]
    },
    {
     "name": "stderr",
     "output_type": "stream",
     "text": [
      " 81%|████████  | 59/73 [00:55<00:11,  1.18it/s]"
     ]
    },
    {
     "name": "stdout",
     "output_type": "stream",
     "text": [
      "../../data_prods/run_CDM_L3N128_HY_var5 already exists!\n",
      "Working on  run_CDM_L3N128_HY_var5\n"
     ]
    },
    {
     "name": "stderr",
     "output_type": "stream",
     "text": [
      " 82%|████████▏ | 60/73 [00:55<00:09,  1.36it/s]"
     ]
    },
    {
     "name": "stdout",
     "output_type": "stream",
     "text": [
      "Working on  run_CDM_L3N256_DM_dir_4\n"
     ]
    },
    {
     "name": "stderr",
     "output_type": "stream",
     "text": [
      " 84%|████████▎ | 61/73 [00:56<00:09,  1.31it/s]"
     ]
    },
    {
     "name": "stdout",
     "output_type": "stream",
     "text": [
      "Working on  run_CDM_L3N256_DM_dir_0\n"
     ]
    },
    {
     "name": "stderr",
     "output_type": "stream",
     "text": [
      " 85%|████████▍ | 62/73 [00:58<00:10,  1.06it/s]"
     ]
    },
    {
     "name": "stdout",
     "output_type": "stream",
     "text": [
      "../../data_prods/run_CDM_L3N256_HY already exists!\n",
      "Working on  run_CDM_L3N256_HY\n"
     ]
    },
    {
     "name": "stderr",
     "output_type": "stream",
     "text": [
      " 86%|████████▋ | 63/73 [00:58<00:08,  1.12it/s]"
     ]
    },
    {
     "name": "stdout",
     "output_type": "stream",
     "text": [
      "../../data_prods/run_CDM_L3N128_HY_var4 already exists!\n",
      "Working on  run_CDM_L3N128_HY_var4\n"
     ]
    },
    {
     "name": "stderr",
     "output_type": "stream",
     "text": [
      " 88%|████████▊ | 64/73 [00:59<00:06,  1.31it/s]"
     ]
    },
    {
     "name": "stdout",
     "output_type": "stream",
     "text": [
      "../../data_prods/run_2cDM_L3N256_HY_powerm2m2_sigma1 already exists!\n",
      "Working on  run_2cDM_L3N256_HY_powerm2m2_sigma1\n"
     ]
    },
    {
     "name": "stderr",
     "output_type": "stream",
     "text": [
      " 89%|████████▉ | 65/73 [01:00<00:06,  1.32it/s]"
     ]
    },
    {
     "name": "stdout",
     "output_type": "stream",
     "text": [
      "../../data_prods/run_2cDM_L3N256_HY_power00_sigma100 already exists!\n",
      "Working on  run_2cDM_L3N256_HY_power00_sigma100\n"
     ]
    },
    {
     "name": "stderr",
     "output_type": "stream",
     "text": [
      " 90%|█████████ | 66/73 [01:00<00:04,  1.46it/s]"
     ]
    },
    {
     "name": "stdout",
     "output_type": "stream",
     "text": [
      "../../data_prods/run_2cDM_L3N256_DM_power00_sigma1 already exists!\n",
      "Working on  run_2cDM_L3N256_DM_power00_sigma1\n"
     ]
    },
    {
     "name": "stderr",
     "output_type": "stream",
     "text": [
      " 92%|█████████▏| 67/73 [01:01<00:05,  1.16it/s]"
     ]
    },
    {
     "name": "stdout",
     "output_type": "stream",
     "text": [
      "../../data_prods/run_CDM_710_DM already exists!\n",
      "Working on  run_CDM_710_DM\n"
     ]
    },
    {
     "name": "stderr",
     "output_type": "stream",
     "text": [
      " 93%|█████████▎| 68/73 [01:05<00:08,  1.73s/it]"
     ]
    },
    {
     "name": "stdout",
     "output_type": "stream",
     "text": [
      "../../data_prods/run_2cDM_L3N128_HY_power00_sigma0.1_var6 already exists!\n",
      "Working on  run_2cDM_L3N128_HY_power00_sigma0.1_var6\n"
     ]
    },
    {
     "name": "stderr",
     "output_type": "stream",
     "text": [
      " 95%|█████████▍| 69/73 [01:08<00:07,  1.92s/it]"
     ]
    },
    {
     "name": "stdout",
     "output_type": "stream",
     "text": [
      "../../data_prods/run_CDM_L10N256_HY already exists!\n",
      "Working on  run_CDM_L10N256_HY\n"
     ]
    },
    {
     "name": "stderr",
     "output_type": "stream",
     "text": [
      " 96%|█████████▌| 70/73 [01:09<00:05,  1.73s/it]"
     ]
    },
    {
     "name": "stdout",
     "output_type": "stream",
     "text": [
      "../../data_prods/run_CDM_L3N512_HY already exists!\n",
      "Working on  run_CDM_L3N512_HY\n"
     ]
    },
    {
     "name": "stderr",
     "output_type": "stream",
     "text": [
      " 97%|█████████▋| 71/73 [01:11<00:03,  1.84s/it]"
     ]
    },
    {
     "name": "stdout",
     "output_type": "stream",
     "text": [
      "Working on  run_CDM_L3N256_DM_dir_3\n"
     ]
    },
    {
     "name": "stderr",
     "output_type": "stream",
     "text": [
      " 99%|█████████▊| 72/73 [01:12<00:01,  1.52s/it]"
     ]
    },
    {
     "name": "stdout",
     "output_type": "stream",
     "text": [
      "Working on  run_2cDM_L3N256_DM_power00_sigma1_dir_9\n"
     ]
    },
    {
     "name": "stderr",
     "output_type": "stream",
     "text": [
      "100%|██████████| 73/73 [01:13<00:00,  1.01s/it]\n"
     ]
    }
   ],
   "source": [
    "for subdir in tqdm(subdir_list):\n",
    "    \n",
    "    #run name is just folder name\n",
    "    run_name = subdir.split('/')[-1]\n",
    "\n",
    "    #reject folders that aren't runs\n",
    "    if 'run' not in run_name:\n",
    "        continue\n",
    "    \n",
    "    fpath = os.path.join(outdir, run_name)\n",
    "    try:\n",
    "        os.mkdir(fpath)\n",
    "    except:\n",
    "        print(f'{fpath} already exists!')\n",
    "    print(\"Working on \", run_name)\n",
    "\n",
    "    # read info from snapshots/fof \n",
    "    snaps = sorted(glob.glob(subdir + '/snap*'))\n",
    "    fofs = sorted(glob.glob(subdir + '/fof*'))\n",
    "    \n",
    "    #get info from filename\n",
    "    splitted = run_name.split('_')\n",
    "\n",
    "    dm_type = splitted[1]\n",
    "\n",
    "    # boxPart = splitted[2] # read from snapshot\n",
    "\n",
    "    baryon_type = splitted[3]\n",
    "\n",
    "\n",
    "    run_dict = {\n",
    "        \"run name\": run_name,\n",
    "        \"DM type\": dm_type,\n",
    "        \"baryon_type\": baryon_type\n",
    "    }\n",
    "\n",
    "    if dm_type == 'CDM':\n",
    "        otherInfo = splitted[4:]\n",
    "        run_dict['otherInfo'] = otherInfo\n",
    "    elif (dm_type == '2cDM') or (dm_type == 'SIDM'):\n",
    "        powerType = splitted[4]\n",
    "        powerLaws = parsePower(powerType)\n",
    "        sigmaType = splitted[5]\n",
    "        sigma = parseSigma(sigmaType)\n",
    "        otherInfo = splitted[6:]\n",
    "\n",
    "        temp = {\n",
    "            \"powerLaws\": powerLaws,\n",
    "            \"sigma0\": sigma,\n",
    "            \"otherInfo\": otherInfo\n",
    "        }\n",
    "\n",
    "        run_dict.update(temp)\n",
    "\n",
    "    with h5py.File(snaps[0], 'r') as f:\n",
    "        boxSize = int((f['Header'].attrs['BoxSize'])) # in kpc\n",
    "        NPart = int(np.cbrt(f['Header'].attrs['NumPart_Total'][1]))\n",
    "        mass_resolution = f['Header'].attrs['MassTable'][1] * 10**10 # in solar masses\n",
    "        softening_length = boxSize / NPart / 29\n",
    "        temp = {\n",
    "            \"BoxSize\": boxSize,\n",
    "            \"NPart\": NPart,\n",
    "            \"Mass Resolution\": mass_resolution,\n",
    "            \"Softening Length\": softening_length\n",
    "        }\n",
    "\n",
    "        run_dict.update(temp)\n",
    "\n",
    "\n",
    "    redshifts = []\n",
    "    for i, fof in enumerate(fofs):\n",
    "        with h5py.File(fof, 'r') as f:\n",
    "            \n",
    "            redshifts.append( float(\"{:.2f}\".format(f['Header'].attrs['Redshift'])) )\n",
    "\n",
    "            try:\n",
    "                mbins, mcount = get_mass_profile(f)\n",
    "                tname = os.path.join(fpath, \"mass_profile_{}.txt\".format(i))\n",
    "                np.savetxt(tname, (mbins, mcount))\n",
    "                vbins, vcount = get_mvel_profile(f)\n",
    "                tname = os.path.join(fpath, \"vel_profile_{}.txt\".format(i))\n",
    "                np.savetxt(tname, (vbins, vcount))\n",
    "            except KeyError:\n",
    "                continue\n",
    "\n",
    "    run_dict['redshifts'] = redshifts\n",
    "\n",
    "    fname = os.path.join(fpath, \"run_info.json\")\n",
    "    with open(fname, 'w') as outfile:\n",
    "        json.dump(run_dict, outfile)"
   ]
  },
  {
   "cell_type": "code",
   "execution_count": null,
   "metadata": {},
   "outputs": [],
   "source": []
  }
 ],
 "metadata": {
  "kernelspec": {
   "display_name": "base",
   "language": "python",
   "name": "python3"
  },
  "language_info": {
   "codemirror_mode": {
    "name": "ipython",
    "version": 3
   },
   "file_extension": ".py",
   "mimetype": "text/x-python",
   "name": "python",
   "nbconvert_exporter": "python",
   "pygments_lexer": "ipython3",
   "version": "3.7.11"
  }
 },
 "nbformat": 4,
 "nbformat_minor": 2
}
