{
 "cells": [
  {
   "cell_type": "code",
   "execution_count": 1,
   "metadata": {},
   "outputs": [],
   "source": [
    "import numpy as np\n",
    "import Pk_library as PKL\n",
    "import os\n",
    "import glob\n",
    "from tqdm.notebook import tqdm\n",
    "\n",
    "import sys\n",
    "sys.path.append('../../py/')\n",
    "\n",
    "from cosmoSim import cosmoSim"
   ]
  },
  {
   "cell_type": "code",
   "execution_count": 2,
   "metadata": {},
   "outputs": [
    {
     "name": "stdout",
     "output_type": "stream",
     "text": [
      "['/home/ryan/Data/run_2cDM_L3N256_DM_powerm2m2_sigma1_dir_2', '/home/ryan/Data/run_2cDM_L3N256_DM_power00_sigma1_dir_7_Vkick119.90', '/home/ryan/Data/run_2cDM_L3N256_DM_powerm2m2_sigma0.1', '/home/ryan/Data/run_2cDM_L3N256_DM_powerm2m2_sigma5.0_dir_9', '/home/ryan/Data/run_2cDM_L3N512_HY_power00_sigma1', '/home/ryan/Data/run_2cDM_L3N256_HY_power00_sigma0.1', '/home/ryan/Data/run_2cDM_L25N256_DM_power00_sigma1_dir_4_Vkick55.65', '/home/ryan/Data/run_CDM_L5N256_DM', '/home/ryan/Data/run_2cDM_L3N256_HY_power00_sigma1_dir_9', '/home/ryan/Data/run_SIDM_L3N256_DM_power0_sigma1', '/home/ryan/Data/run_2cDM_L3N256_HY_powerm2m2_sigma1_dir_5', '/home/ryan/Data/run_2cDM_L25N256_DM_power00_sigma1_dir_7_Vkick119.90', '/home/ryan/Data/run_2cDM_L3N256_DM_powerm2m2_sigma1_dir_1', '/home/ryan/Data/lost+found', '/home/ryan/Data/run_2cDM_L3N256_HY_power00_sigma1_dir_5', '/home/ryan/Data/run_2cDM_L3N256_DM_power00_sigma1_dir_3', '/home/ryan/Data/run_2cDM_L3N256_HY_powerm2m2_sigma10', '/home/ryan/Data/run_2cDM_L3N256_HY_powerm2m2_sigma1_dir_8', '/home/ryan/Data/run_CDM_L3N256_DM_dir_7', '/home/ryan/Data/run_2cDM_L3N256_DM_power00_sigma1_dir_8', '/home/ryan/Data/run_CDM_L5N256_HY', '/home/ryan/Data/run_2cDM_L25N256_DM_power00_sigma1_dir_2_Vkick33.36', '/home/ryan/Data/run_2cDM_L3N256_DM_powerm2m2_sigma2.32_dir_6', '/home/ryan/Data/run_2cDM_L3N128_HY_power00_sigma0.1_10e-7', '/home/ryan/Data/run_2cDM_L3N256_HY_power00_sigma1_dir_1', '/home/ryan/Data/run_2cDM_L3N256_DM_power00_sigma1_dir_4_Vkick55.65', '/home/ryan/Data/run_2cDM_L3N256_DM_powerm2m2_sigma1_dir_1_Vkick25.83', '/home/ryan/Data/run_2cDM_L3N256_DM_power00_sigma0.1', '/home/ryan/Data/run_2cDM_L3N128_HY_power00_sigma0.1_var4', '/home/ryan/Data/run_2cDM_L3N256_DM_power00_sigma1_dir_4', '/home/ryan/Data/run_CDM_710_HY', '/home/ryan/Data/run_2cDM_710_HY_powerm2m2_sigma1', '/home/ryan/Data/run_2cDM_L3N256_DM_power00_sigma1_dir_1', '/home/ryan/Data/run_CDM_L3N128_HY', '/home/ryan/Data/run_2cDM_L3N256_DM_power00_sigma3.0_dir_7', '/home/ryan/Data/run_2cDM_L3N256_DM_power00_sigma1_dir_6', '/home/ryan/Data/run_2cDM_L3N128_HY_power00_sigma0.1_var2', '/home/ryan/Data/run_2cDM_L3N256_DM_power00_sigma1_dir_0', '/home/ryan/Data/run_CDM_L3N256_HY_dir_0', '/home/ryan/Data/run_SIDM_L3N256_HY_power0_sigma1', '/home/ryan/Data/run_CDM_L3N256_DM_dir_9', '/home/ryan/Data/run_2cDM_L3N256_DM_power00_sigma10', '/home/ryan/Data/run_CDM_L3N256_HY_dir_9', '/home/ryan/Data/run_2cDM_L3N128_DM_power00_sigma0.1', '/home/ryan/Data/run_2cDM_L10N256_DM_power00_sigma1', '/home/ryan/Data/run_2cDM_L3N256_DM_powerm2m2_sigma1_dir_0', '/home/ryan/Data/run_2cDM_L3N256_DM_powerm2m2_sigma1_dir_3_Vkick43.09', '/home/ryan/Data/run_CDM_L3N256_DM', '/home/ryan/Data/run_2cDM_L10N256_HY_power00_sigma1', '/home/ryan/Data/run_CDM_L3N256_HY_dir_5', '/home/ryan/Data/run_2cDM_L25N256_DM_power00_sigma1_dir_6_Vkick92.83', '/home/ryan/Data/run_CDM_L3N256_HY_dir_7', '/home/ryan/Data/run_2cDM_L3N128_HY_power00_sigma0.1_var5', '/home/ryan/Data/run_2cDM_L3N256_DM_powerm2m2_sigma1_dir_3', '/home/ryan/Data/run_2cDM_L3N256_DM_power00_sigma1_dir_2', '/home/ryan/Data/run_2cDM_L3N256_DM_powerm2m2_sigma1_dir_9_Vkick200.00', '/home/ryan/Data/run_2cDM_L3N256_DM_powerm2m2_sigma1_dir_8_Vkick154.85', '/home/ryan/Data/run_2cDM_L25N256_DM_power00_sigma1_dir_1_Vkick25.83', '/home/ryan/Data/run_CDM_L10N256_DM', '/home/ryan/Data/run_CDM_L3N128_DM', '/home/ryan/Data/run_2cDM_L3N256_DM_power00_sigma3.87_dir_8', '/home/ryan/Data/run_2cDM_L3N128_HY_power00_sigma0.1', '/home/ryan/Data/run_2cDM_L3N256_DM_power00_sigma1_dir_3_Vkick43.09', '/home/ryan/Data/run_2cDM_L5N256_HY_power00_sigma1', '/home/ryan/Data/run_2cDM_L3N256_DM_power22_sigma10', '/home/ryan/Data/run_CDM_L3N256_DM_dir_6', '/home/ryan/Data/run_2cDM_L3N256_DM_powerm2m2_sigma1_dir_6_Vkick92.83', '/home/ryan/Data/run_2cDM_L3N256_DM_power00_sigma1_dir_6_Vkick92.83', '/home/ryan/Data/run_2cDM_L5N256_DM_power00_sigma1', '/home/ryan/Data/run_CDM_L3N256_DM_dir_2', '/home/ryan/Data/run_2cDM_L3N256_DM_power00_sigma100', '/home/ryan/Data/run_2cDM_L3N256_HY_powerm2m2_sigma1_dir_6', '/home/ryan/Data/run_2cDM_L3N256_DM_power00_sigma1_dir_9_Vkick200.00', '/home/ryan/Data/run_2cDM_L3N256_DM_powerm2m2_sigma1_dir_2_Vkick33.36', '/home/ryan/Data/run_2cDM_L3N256_HY_power00_sigma1_dir_8', '/home/ryan/Data/run_2cDM_L3N256_HY_powerm2m2_sigma1_dir_9', '/home/ryan/Data/run_2cDM_L3N256_DM_powerm2m2_sigma3.87_dir_8', '/home/ryan/Data/run_2cDM_L25N256_DM_power00_sigma1_dir_5_Vkick71.88', '/home/ryan/Data/run_2cDM_L3N256_DM_powerm2m2_sigma3.0_dir_7', '/home/ryan/Data/run_2cDM_L3N256_HY_power00_sigma1_dir_6', '/home/ryan/Data/run_CDM_L3N256_HY_dir_6', '/home/ryan/Data/run_2cDM_L3N256_DM_power00_sigma2.32_dir_6', '/home/ryan/Data/run_2cDM_L3N256_HY_power00_sigma1', '/home/ryan/Data/run_2cDM_L3N256_DM_powerm2m2_sigma1.39_dir_4', '/home/ryan/Data/run_CDM_L3N256_DM_dir_8', '/home/ryan/Data/run_2cDM_L3N256_DM_powerm2m2_sigma10', '/home/ryan/Data/run_2cDM_L3N256_DM_powerm2m2_sigma0.834_dir_2', '/home/ryan/Data/run_2cDM_L3N256_HY_power00_sigma10', '/home/ryan/Data/run_2cDM_L3N256_DM_powerm2m2_sigma1.8_dir_5', '/home/ryan/Data/run_2cDM_L25N256_DM_power00_sigma1_dir_3_Vkick43.09', '/home/ryan/Data/run_CDM_L3N128_HY_var6', '/home/ryan/Data/run_CDM_L3N128_HY_var2', '/home/ryan/Data/run_2cDM_L3N256_DM_powerm2m2_sigma1_dir_8', '/home/ryan/Data/run_2cDM_710_DM_power00_sigma1', '/home/ryan/Data/other', '/home/ryan/Data/run_CDM_L3N512_DM', '/home/ryan/Data/run_CDM_L3N256_HY_dir_8', '/home/ryan/Data/run_CDM_L3N256_DM_dir_1', '/home/ryan/Data/run_2cDM_710_HY_power00_sigma1', '/home/ryan/Data/run_2cDM_L25N256_DM_power00_sigma1_dir_0_Vkick20.00', '/home/ryan/Data/run_2cDM_L3N512_DM_power00_sigma1', '/home/ryan/Data/run_2cDM_L3N256_DM_power00_sigma0.5_dir_0', '/home/ryan/Data/run_2cDM_L3N256_DM_power00_sigma1_dir_0_Vkick20.00', '/home/ryan/Data/run_2cDM_L3N256_DM_powerm2m2_sigma1_dir_7', '/home/ryan/Data/run_2cDM_L3N128_HY_power00_sigma1', '/home/ryan/Data/run_2cDM_710_DM_powerm2m2_sigma1', '/home/ryan/Data/run_CDM_L3N128_HY_var3', '/home/ryan/Data/run_2cDM_L3N256_DM_power00_sigma1_dir_7', '/home/ryan/Data/run_2cDM_L3N256_DM_power00_sigma1_dir_5', '/home/ryan/Data/run_2cDM_L3N256_HY_power00_sigma1_dir_3', '/home/ryan/Data/run_2cDM_L3N256_HY_powerm2m2_sigma1_dir_1', '/home/ryan/Data/run_2cDM_L3N256_DM_power22_sigma1', '/home/ryan/Data/run_2cDM_L3N256_HY_power00_sigma1_dir_4', '/home/ryan/Data/run_2cDM_L3N256_DM_power00_sigma1_dir_2_Vkick33.36', '/home/ryan/Data/run_2cDM_L3N256_DM_powerm2m2_sigma1_dir_5', '/home/ryan/Data/run_2cDM_L3N256_DM_power00_sigma1.8_dir_5', '/home/ryan/Data/run_2cDM_L3N256_HY_power00_sigma1_dir_0', '/home/ryan/Data/run_2cDM_L3N256_DM_powerm2m2_sigma0.646_dir_1', '/home/ryan/Data/run_2cDM_L3N256_DM_power00_sigma1_dir_5_Vkick71.88', '/home/ryan/Data/run_2cDM_L3N256_HY_powerm2m2_sigma1_dir_4', '/home/ryan/Data/run_2cDM_L3N256_DM_powerm2m2_sigma1_dir_4_Vkick55.65', '/home/ryan/Data/run_2cDM_L3N128_HY_power00_sigma0.1_var3', '/home/ryan/Data/run_2cDM_L3N256_DM_power00_sigma1_dir_1_Vkick25.83', '/home/ryan/Data/.Trash-1000', '/home/ryan/Data/run_2cDM_L3N256_HY_powerm2m2_sigma0.1', '/home/ryan/Data/run_2cDM_L25N256_DM_power00_sigma1_dir_8_Vkick154.85', '/home/ryan/Data/run_2cDM_L3N256_DM_power00_sigma0.834_dir_2', '/home/ryan/Data/run_CDM_L3N256_DM_dir_5', '/home/ryan/Data/run_2cDM_L3N256_HY_powerm2m2_sigma1_dir_2', '/home/ryan/Data/run_2cDM_L3N128_DM_power00_sigma1', '/home/ryan/Data/run_2cDM_L3N256_DM_powerm2m2_sigma1', '/home/ryan/Data/run_2cDM_L3N256_DM_power00_sigma1_dir_8_Vkick154.85', '/home/ryan/Data/run_2cDM_L3N256_HY_power22_sigma1', '/home/ryan/Data/run_CDM_L3N128_HY_var5', '/home/ryan/Data/run_CDM_L3N256_DM_dir_4', '/home/ryan/Data/run_CDM_L3N256_DM_dir_0', '/home/ryan/Data/run_CDM_L3N256_HY', '/home/ryan/Data/run_2cDM_L3N256_HY_powerm2m2_sigma1_dir_3', '/home/ryan/Data/run_2cDM_L3N256_DM_power00_sigma1.08_dir_3', '/home/ryan/Data/run_CDM_L3N256_HY_dir_1', '/home/ryan/Data/run_CDM_L3N128_HY_var4', '/home/ryan/Data/run_2cDM_L3N256_HY_powerm2m2_sigma1', '/home/ryan/Data/run_2cDM_L3N256_HY_power00_sigma1_dir_2', '/home/ryan/Data/run_2cDM_L3N256_DM_powerm2m2_sigma1_dir_6', '/home/ryan/Data/run_2cDM_L25N256_DM_power00_sigma1_dir_9_Vkick200.00', '/home/ryan/Data/run_2cDM_L3N256_HY_power00_sigma100', '/home/ryan/Data/run_2cDM_L3N256_DM_powerm2m2_sigma1_dir_7_Vkick119.90', '/home/ryan/Data/run_2cDM_L3N256_DM_powerm2m2_sigma1_dir_5_Vkick71.88', '/home/ryan/Data/run_2cDM_L3N256_DM_power00_sigma1', '/home/ryan/Data/run_2cDM_L3N256_DM_powerm2m2_sigma1_dir_9', '/home/ryan/Data/run_CDM_710_DM', '/home/ryan/Data/run_2cDM_L3N256_DM_powerm2m2_sigma1.08_dir_3', '/home/ryan/Data/run_2cDM_L3N256_DM_power00_sigma5.0_dir_9', '/home/ryan/Data/run_2cDM_L3N256_HY_powerm2m2_sigma1_dir_7', '/home/ryan/Data/run_CDM_L3N256_HY_dir_4', '/home/ryan/Data/run_2cDM_L3N128_HY_power00_sigma0.1_var6', '/home/ryan/Data/run_2cDM_L3N256_DM_powerm2m2_sigma1_dir_4', '/home/ryan/Data/run_CDM_L10N256_HY', '/home/ryan/Data/run_2cDM_L3N256_DM_power00_sigma0.646_dir_1', '/home/ryan/Data/run_2cDM_L3N256_DM_powerm2m2_sigma0.5_dir_0', '/home/ryan/Data/run_CDM_L3N512_HY', '/home/ryan/Data/run_CDM_L3N256_HY_dir_3', '/home/ryan/Data/run_2cDM_L3N256_HY_powerm2m2_sigma1_dir_0', '/home/ryan/Data/run_2cDM_L3N256_DM_power00_sigma1.39_dir_4', '/home/ryan/Data/run_CDM_L3N256_DM_dir_3', '/home/ryan/Data/run_CDM_L3N256_HY_dir_2', '/home/ryan/Data/run_2cDM_L3N256_HY_power00_sigma1_dir_7', '/home/ryan/Data/run_2cDM_L3N256_DM_power00_sigma1_dir_9', '/home/ryan/Data/run_2cDM_L3N256_DM_powerm2m2_sigma1_dir_0_Vkick20.00']\n"
     ]
    }
   ],
   "source": [
    "outdir = '../../data_prods/'\n",
    "data_dir = '/home/ryan/Data'\n",
    "subdir_list = [os.path.join(data_dir, o) for o in os.listdir(data_dir) if os.path.isdir(os.path.join(data_dir,o))]\n",
    "\n",
    "print(subdir_list)"
   ]
  },
  {
   "cell_type": "code",
   "execution_count": 3,
   "metadata": {},
   "outputs": [],
   "source": [
    "def calculate_pk(snap, out, part_types=[1], grid_size=256):  \n",
    "\n",
    "    # parameters\n",
    "    snapshot      = snap #snapshot name\n",
    "    grid          = grid_size    #grid size\n",
    "    particle_type = part_types #use dark matter [1]\n",
    "    do_RSD        = False   #move particles to redshift-space and calculate Pk in redshift-space\n",
    "    axis          = 1      #RSD placed along the y-axis\n",
    "    cpus          = 8      #number of openmp threads\n",
    "    folder_out    = out #folder where to write results\n",
    "    # compute power spectrum of the snapshot\n",
    "\n",
    "    # bodge\n",
    "    try:\n",
    "        PKL.Pk_Gadget(snapshot, grid, particle_type, do_RSD, axis, cpus, folder_out)\n",
    "    except Exception:\n",
    "        pass\n"
   ]
  },
  {
   "cell_type": "code",
   "execution_count": null,
   "metadata": {},
   "outputs": [
    {
     "data": {
      "application/vnd.jupyter.widget-view+json": {
       "model_id": "0fba7904d1e54f8e80d5537f822367d9",
       "version_major": 2,
       "version_minor": 0
      },
      "text/plain": [
       "  0%|          | 0/169 [00:00<?, ?it/s]"
      ]
     },
     "metadata": {},
     "output_type": "display_data"
    },
    {
     "name": "stdout",
     "output_type": "stream",
     "text": [
      "../../data_prods/run_2cDM_L3N256_DM_powerm2m2_sigma1_dir_2 already exists!\n",
      "Running pylians power spectra for  run_2cDM_L3N256_DM_powerm2m2_sigma1_dir_2\n",
      "Working on /home/ryan/Data/run_2cDM_L3N256_DM_powerm2m2_sigma1_dir_2/snap_000.hdf5\n",
      "Computing power spectrum...\n"
     ]
    },
    {
     "name": "stderr",
     "output_type": "stream",
     "text": [
      "/home/ryan/projects/Medvedev/dm_sims/jupyter/snaps_reqd/../../py/cosmoSim.py:57: UserWarning: Vkick not explicitly set in run run_2cDM_L3N256_DM_powerm2m2_sigma1_dir_2! Assuming 100 km/s...\n",
      "  warnings.warn(f'Vkick not explicitly set in run {self.run_name}! Assuming 100 km/s...')\n"
     ]
    },
    {
     "name": "stdout",
     "output_type": "stream",
     "text": [
      "0.000 < X [Mpc/h] < 3.000\n",
      "0.000 < Y [Mpc/h] < 3.000\n",
      "0.000 < Z [Mpc/h] < 3.000\n",
      "\n",
      "\n",
      "Computing power spectrum of the field...\n",
      "Time to complete loop = 1.01\n",
      "Time taken = 1.15 seconds\n",
      "Working on /home/ryan/Data/run_2cDM_L3N256_DM_powerm2m2_sigma1_dir_2/snap_001.hdf5\n",
      "Computing power spectrum...\n",
      "0.000 < X [Mpc/h] < 3.000\n",
      "0.000 < Y [Mpc/h] < 3.000\n",
      "0.000 < Z [Mpc/h] < 3.000\n",
      "\n",
      "\n",
      "Computing power spectrum of the field...\n",
      "Time to complete loop = 0.99\n",
      "Time taken = 1.11 seconds\n",
      "Working on /home/ryan/Data/run_2cDM_L3N256_DM_powerm2m2_sigma1_dir_2/snap_002.hdf5\n",
      "Computing power spectrum...\n",
      "0.000 < X [Mpc/h] < 3.000\n",
      "0.000 < Y [Mpc/h] < 3.000\n",
      "0.000 < Z [Mpc/h] < 3.000\n",
      "\n"
     ]
    }
   ],
   "source": [
    "rewrite = False\n",
    "for subdir in tqdm(subdir_list):\n",
    "    \n",
    "    #run name is just folder name\n",
    "    run_name = subdir.split('/')[-1]\n",
    "\n",
    "    #reject folders that aren't runs\n",
    "    if 'run' not in run_name:\n",
    "        continue\n",
    "\n",
    "    fpath = os.path.join(outdir, run_name)\n",
    "    try:\n",
    "        os.mkdir(fpath)\n",
    "    except:\n",
    "        print(f'{fpath} already exists!')\n",
    "\n",
    "    snaps = sorted(glob.glob(subdir + '/snap*'))\n",
    "    \n",
    "    if not rewrite:\n",
    "        if (len(glob.glob(fpath + \"/Pk_CDM_z=*\")) == len(snaps)):\n",
    "            print(f'genPK files exist for {run_name}.')\n",
    "            print('Skipping...')\n",
    "            continue\n",
    "          \n",
    "        \n",
    "    fsize = os.stat(snaps[-1]).st_size / (1024**3)\n",
    "    if fsize > 20:\n",
    "        print(f'File size too big for {run_name}...')\n",
    "        continue\n",
    "    '''\n",
    "    Run pylians here\n",
    "    '''\n",
    "\n",
    "    run = cosmoSim(run_name)\n",
    "    grid_size = run.npart\n",
    "    print('Running pylians power spectra for ', run_name)\n",
    "    for i, snap in enumerate(snaps):\n",
    "        print(f\"Working on {snap}\")\n",
    "        part_types = [1]\n",
    "        if run.baryon_type == \"HY\":\n",
    "            part_types = [0, 1, 4]\n",
    "        calculate_pk(snap, fpath, part_types, grid_size)\n",
    "    "
   ]
  },
  {
   "cell_type": "code",
   "execution_count": null,
   "metadata": {},
   "outputs": [],
   "source": []
  }
 ],
 "metadata": {
  "kernelspec": {
   "display_name": "work",
   "language": "python",
   "name": "python3"
  },
  "language_info": {
   "codemirror_mode": {
    "name": "ipython",
    "version": 3
   },
   "file_extension": ".py",
   "mimetype": "text/x-python",
   "name": "python",
   "nbconvert_exporter": "python",
   "pygments_lexer": "ipython3",
   "version": "3.12.8"
  }
 },
 "nbformat": 4,
 "nbformat_minor": 2
}
