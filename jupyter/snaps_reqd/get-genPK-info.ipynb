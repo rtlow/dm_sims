{
 "cells": [
  {
   "cell_type": "code",
   "execution_count": 1,
   "metadata": {},
   "outputs": [],
   "source": [
    "import os\n",
    "import glob\n",
    "import subprocess\n",
    "from tqdm.auto import tqdm"
   ]
  },
  {
   "cell_type": "code",
   "execution_count": 2,
   "metadata": {},
   "outputs": [
    {
     "name": "stdout",
     "output_type": "stream",
     "text": [
      "['/home/ryan/Data/run_2cDM_L3N256_DM_powerm2m2_sigma0.1', '/home/ryan/Data/run_2cDM_L3N512_HY_power00_sigma1', '/home/ryan/Data/run_2cDM_L3N256_HY_power00_sigma0.1', '/home/ryan/Data/run_SIDM_L3N256_DM_power0_sigma1', '/home/ryan/Data/lost+found', '/home/ryan/Data/run_2cDM_L3N256_DM_power00_sigma1_dir_3', '/home/ryan/Data/run_2cDM_L3N256_HY_powerm2m2_sigma10', '/home/ryan/Data/run_CDM_L3N256_DM_dir_7', '/home/ryan/Data/run_2cDM_L3N256_DM_power00_sigma1_dir_8', '/home/ryan/Data/run_CDM_L5N256_HY', '/home/ryan/Data/run_2cDM_L3N128_HY_power00_sigma0.1_10e-7', '/home/ryan/Data/run_2cDM_L3N256_DM_power00_sigma0.1', '/home/ryan/Data/run_2cDM_L3N128_HY_power00_sigma0.1_var4', '/home/ryan/Data/run_2cDM_L3N256_DM_power00_sigma1_dir_4', '/home/ryan/Data/run_CDM_710_HY', '/home/ryan/Data/run_2cDM_710_HY_powerm2m2_sigma1', '/home/ryan/Data/run_2cDM_L3N256_DM_power00_sigma1_dir_1', '/home/ryan/Data/run_CDM_L3N128_HY', '/home/ryan/Data/run_2cDM_L3N256_DM_power00_sigma1_dir_6', '/home/ryan/Data/run_2cDM_L3N128_HY_power00_sigma0.1_var2', '/home/ryan/Data/run_SIDM_L3N256_HY_power0_sigma1', '/home/ryan/Data/run_CDM_L3N256_DM_dir_9', '/home/ryan/Data/run_2cDM_L3N256_DM_power00_sigma10', '/home/ryan/Data/run_2cDM_L3N128_DM_power00_sigma0.1', '/home/ryan/Data/run_CDM_L3N256_DM', '/home/ryan/Data/run_2cDM_L10N256_HY_power00_sigma1', '/home/ryan/Data/run_2cDM_L3N128_HY_power00_sigma0.1_var5', '/home/ryan/Data/run_2cDM_L3N256_DM_power00_sigma1_dir_2', '/home/ryan/Data/run_CDM_L3N128_DM', '/home/ryan/Data/run_2cDM_L3N128_HY_power00_sigma0.1', '/home/ryan/Data/run_2cDM_L5N256_HY_power00_sigma1', '/home/ryan/Data/run_2cDM_L3N256_DM_power22_sigma10', '/home/ryan/Data/run_CDM_L3N256_DM_dir_6', '/home/ryan/Data/run_CDM_L3N256_DM_dir_2', '/home/ryan/Data/run_2cDM_L3N256_DM_power00_sigma100', '/home/ryan/Data/run_2cDM_L3N256_HY_power00_sigma1', '/home/ryan/Data/run_CDM_L3N256_DM_dir_8', '/home/ryan/Data/run_2cDM_L3N256_DM_powerm2m2_sigma10', '/home/ryan/Data/run_2cDM_L3N256_HY_power00_sigma10', '/home/ryan/Data/run_CDM_L3N128_HY_var6', '/home/ryan/Data/run_CDM_L3N128_HY_var2', '/home/ryan/Data/run_2cDM_710_DM_power00_sigma1', '/home/ryan/Data/other', '/home/ryan/Data/run_CDM_L3N512_DM', '/home/ryan/Data/run_CDM_L3N256_DM_dir_1', '/home/ryan/Data/run_2cDM_710_HY_power00_sigma1', '/home/ryan/Data/run_2cDM_L3N512_DM_power00_sigma1', '/home/ryan/Data/run_2cDM_L3N128_HY_power00_sigma1', '/home/ryan/Data/run_2cDM_710_DM_powerm2m2_sigma1', '/home/ryan/Data/run_CDM_L3N128_HY_var3', '/home/ryan/Data/run_2cDM_L3N256_DM_power00_sigma1_dir_7', '/home/ryan/Data/run_2cDM_L3N256_DM_power00_sigma1_dir_5', '/home/ryan/Data/run_2cDM_L3N256_DM_power22_sigma1', '/home/ryan/Data/run_2cDM_L3N128_HY_power00_sigma0.1_var3', '/home/ryan/Data/.Trash-1000', '/home/ryan/Data/run_2cDM_L3N256_HY_powerm2m2_sigma0.1', '/home/ryan/Data/run_CDM_L3N256_DM_dir_5', '/home/ryan/Data/run_2cDM_L3N256_DM_powerm2m2_sigma1', '/home/ryan/Data/run_2cDM_L3N256_HY_power22_sigma1', '/home/ryan/Data/run_CDM_L3N128_HY_var5', '/home/ryan/Data/run_CDM_L3N256_DM_dir_4', '/home/ryan/Data/run_CDM_L3N256_DM_dir_0', '/home/ryan/Data/run_CDM_L3N256_HY', '/home/ryan/Data/run_CDM_L3N128_HY_var4', '/home/ryan/Data/run_2cDM_L3N256_HY_powerm2m2_sigma1', '/home/ryan/Data/run_2cDM_L3N256_HY_power00_sigma100', '/home/ryan/Data/run_2cDM_L3N256_DM_power00_sigma1', '/home/ryan/Data/run_CDM_710_DM', '/home/ryan/Data/run_2cDM_L3N128_HY_power00_sigma0.1_var6', '/home/ryan/Data/run_CDM_L10N256_HY', '/home/ryan/Data/run_CDM_L3N512_HY', '/home/ryan/Data/run_CDM_L3N256_DM_dir_3', '/home/ryan/Data/run_2cDM_L3N256_DM_power00_sigma1_dir_9']\n"
     ]
    }
   ],
   "source": [
    "outdir = '../../data_prods/'\n",
    "data_dir = '/home/ryan/Data'\n",
    "subdir_list = [os.path.join(data_dir, o) for o in os.listdir(data_dir) if os.path.isdir(os.path.join(data_dir,o))]\n",
    "\n",
    "print(subdir_list)"
   ]
  },
  {
   "cell_type": "code",
   "execution_count": 3,
   "metadata": {},
   "outputs": [
    {
     "name": "stderr",
     "output_type": "stream",
     "text": [
      "  0%|          | 0/73 [00:00<?, ?it/s]"
     ]
    },
    {
     "name": "stdout",
     "output_type": "stream",
     "text": [
      "../../data_prods/run_2cDM_L3N256_DM_powerm2m2_sigma0.1 already exists!\n",
      "genPK files exist for run_2cDM_L3N256_DM_powerm2m2_sigma0.1.\n",
      "Skipping...\n",
      "../../data_prods/run_2cDM_L3N512_HY_power00_sigma1 already exists!\n",
      "File size too big for run_2cDM_L3N512_HY_power00_sigma1...\n",
      "../../data_prods/run_2cDM_L3N256_HY_power00_sigma0.1 already exists!\n",
      "genPK files exist for run_2cDM_L3N256_HY_power00_sigma0.1.\n",
      "Skipping...\n",
      "../../data_prods/run_SIDM_L3N256_DM_power0_sigma1 already exists!\n",
      "genPK files exist for run_SIDM_L3N256_DM_power0_sigma1.\n",
      "Skipping...\n",
      "../../data_prods/run_2cDM_L3N256_DM_power00_sigma1_dir_3 already exists!\n",
      "Running genPK for  run_2cDM_L3N256_DM_power00_sigma1_dir_3\n"
     ]
    },
    {
     "name": "stderr",
     "output_type": "stream",
     "text": [
      "  8%|▊         | 6/73 [01:00<11:12, 10.03s/it]"
     ]
    },
    {
     "name": "stdout",
     "output_type": "stream",
     "text": [
      "../../data_prods/run_2cDM_L3N256_HY_powerm2m2_sigma10 already exists!\n",
      "genPK files exist for run_2cDM_L3N256_HY_powerm2m2_sigma10.\n",
      "Skipping...\n",
      "../../data_prods/run_CDM_L3N256_DM_dir_7 already exists!\n",
      "Running genPK for  run_CDM_L3N256_DM_dir_7\n"
     ]
    },
    {
     "name": "stderr",
     "output_type": "stream",
     "text": [
      " 11%|█         | 8/73 [01:50<16:12, 14.96s/it]"
     ]
    },
    {
     "name": "stdout",
     "output_type": "stream",
     "text": [
      "../../data_prods/run_2cDM_L3N256_DM_power00_sigma1_dir_8 already exists!\n",
      "Running genPK for  run_2cDM_L3N256_DM_power00_sigma1_dir_8\n"
     ]
    },
    {
     "name": "stderr",
     "output_type": "stream",
     "text": [
      " 12%|█▏        | 9/73 [02:40<22:56, 21.50s/it]"
     ]
    },
    {
     "name": "stdout",
     "output_type": "stream",
     "text": [
      "../../data_prods/run_CDM_L5N256_HY already exists!\n",
      "genPK files exist for run_CDM_L5N256_HY.\n",
      "Skipping...\n",
      "../../data_prods/run_2cDM_L3N128_HY_power00_sigma0.1_10e-7 already exists!\n",
      "genPK files exist for run_2cDM_L3N128_HY_power00_sigma0.1_10e-7.\n",
      "Skipping...\n",
      "../../data_prods/run_2cDM_L3N256_DM_power00_sigma0.1 already exists!\n",
      "genPK files exist for run_2cDM_L3N256_DM_power00_sigma0.1.\n",
      "Skipping...\n",
      "../../data_prods/run_2cDM_L3N128_HY_power00_sigma0.1_var4 already exists!\n",
      "genPK files exist for run_2cDM_L3N128_HY_power00_sigma0.1_var4.\n",
      "Skipping...\n",
      "../../data_prods/run_2cDM_L3N256_DM_power00_sigma1_dir_4 already exists!\n",
      "Running genPK for  run_2cDM_L3N256_DM_power00_sigma1_dir_4\n"
     ]
    },
    {
     "name": "stderr",
     "output_type": "stream",
     "text": [
      " 19%|█▉        | 14/73 [03:33<14:59, 15.25s/it]"
     ]
    },
    {
     "name": "stdout",
     "output_type": "stream",
     "text": [
      "../../data_prods/run_CDM_710_HY already exists!\n",
      "genPK files exist for run_CDM_710_HY.\n",
      "Skipping...\n",
      "../../data_prods/run_2cDM_710_HY_powerm2m2_sigma1 already exists!\n",
      "genPK files exist for run_2cDM_710_HY_powerm2m2_sigma1.\n",
      "Skipping...\n",
      "../../data_prods/run_2cDM_L3N256_DM_power00_sigma1_dir_1 already exists!\n",
      "Running genPK for  run_2cDM_L3N256_DM_power00_sigma1_dir_1\n"
     ]
    },
    {
     "name": "stderr",
     "output_type": "stream",
     "text": [
      " 23%|██▎       | 17/73 [04:21<14:29, 15.52s/it]"
     ]
    },
    {
     "name": "stdout",
     "output_type": "stream",
     "text": [
      "../../data_prods/run_CDM_L3N128_HY already exists!\n",
      "genPK files exist for run_CDM_L3N128_HY.\n",
      "Skipping...\n",
      "../../data_prods/run_2cDM_L3N256_DM_power00_sigma1_dir_6 already exists!\n",
      "Running genPK for  run_2cDM_L3N256_DM_power00_sigma1_dir_6\n"
     ]
    },
    {
     "name": "stderr",
     "output_type": "stream",
     "text": [
      " 26%|██▌       | 19/73 [05:13<16:10, 17.97s/it]"
     ]
    },
    {
     "name": "stdout",
     "output_type": "stream",
     "text": [
      "../../data_prods/run_2cDM_L3N128_HY_power00_sigma0.1_var2 already exists!\n",
      "genPK files exist for run_2cDM_L3N128_HY_power00_sigma0.1_var2.\n",
      "Skipping...\n",
      "../../data_prods/run_SIDM_L3N256_HY_power0_sigma1 already exists!\n",
      "genPK files exist for run_SIDM_L3N256_HY_power0_sigma1.\n",
      "Skipping...\n",
      "../../data_prods/run_CDM_L3N256_DM_dir_9 already exists!\n",
      "Running genPK for  run_CDM_L3N256_DM_dir_9\n"
     ]
    },
    {
     "name": "stderr",
     "output_type": "stream",
     "text": [
      " 30%|███       | 22/73 [06:03<14:56, 17.58s/it]"
     ]
    },
    {
     "name": "stdout",
     "output_type": "stream",
     "text": [
      "../../data_prods/run_2cDM_L3N256_DM_power00_sigma10 already exists!\n",
      "genPK files exist for run_2cDM_L3N256_DM_power00_sigma10.\n",
      "Skipping...\n",
      "../../data_prods/run_2cDM_L3N128_DM_power00_sigma0.1 already exists!\n",
      "genPK files exist for run_2cDM_L3N128_DM_power00_sigma0.1.\n",
      "Skipping...\n",
      "../../data_prods/run_CDM_L3N256_DM already exists!\n",
      "genPK files exist for run_CDM_L3N256_DM.\n",
      "Skipping...\n",
      "../../data_prods/run_2cDM_L10N256_HY_power00_sigma1 already exists!\n",
      "genPK files exist for run_2cDM_L10N256_HY_power00_sigma1.\n",
      "Skipping...\n",
      "../../data_prods/run_2cDM_L3N128_HY_power00_sigma0.1_var5 already exists!\n",
      "genPK files exist for run_2cDM_L3N128_HY_power00_sigma0.1_var5.\n",
      "Skipping...\n",
      "../../data_prods/run_2cDM_L3N256_DM_power00_sigma1_dir_2 already exists!\n",
      "Running genPK for  run_2cDM_L3N256_DM_power00_sigma1_dir_2\n"
     ]
    },
    {
     "name": "stderr",
     "output_type": "stream",
     "text": [
      " 38%|███▊      | 28/73 [06:52<09:41, 12.92s/it]"
     ]
    },
    {
     "name": "stdout",
     "output_type": "stream",
     "text": [
      "../../data_prods/run_CDM_L3N128_DM already exists!\n",
      "genPK files exist for run_CDM_L3N128_DM.\n",
      "Skipping...\n",
      "../../data_prods/run_2cDM_L3N128_HY_power00_sigma0.1 already exists!\n",
      "genPK files exist for run_2cDM_L3N128_HY_power00_sigma0.1.\n",
      "Skipping...\n",
      "../../data_prods/run_2cDM_L5N256_HY_power00_sigma1 already exists!\n",
      "genPK files exist for run_2cDM_L5N256_HY_power00_sigma1.\n",
      "Skipping...\n",
      "../../data_prods/run_2cDM_L3N256_DM_power22_sigma10 already exists!\n",
      "genPK files exist for run_2cDM_L3N256_DM_power22_sigma10.\n",
      "Skipping...\n",
      "../../data_prods/run_CDM_L3N256_DM_dir_6 already exists!\n",
      "Running genPK for  run_CDM_L3N256_DM_dir_6\n"
     ]
    },
    {
     "name": "stderr",
     "output_type": "stream",
     "text": [
      " 45%|████▌     | 33/73 [07:41<07:50, 11.76s/it]"
     ]
    },
    {
     "name": "stdout",
     "output_type": "stream",
     "text": [
      "../../data_prods/run_CDM_L3N256_DM_dir_2 already exists!\n",
      "Running genPK for  run_CDM_L3N256_DM_dir_2\n"
     ]
    },
    {
     "name": "stderr",
     "output_type": "stream",
     "text": [
      " 47%|████▋     | 34/73 [08:33<10:10, 15.64s/it]"
     ]
    },
    {
     "name": "stdout",
     "output_type": "stream",
     "text": [
      "../../data_prods/run_2cDM_L3N256_DM_power00_sigma100 already exists!\n",
      "genPK files exist for run_2cDM_L3N256_DM_power00_sigma100.\n",
      "Skipping...\n",
      "../../data_prods/run_2cDM_L3N256_HY_power00_sigma1 already exists!\n",
      "genPK files exist for run_2cDM_L3N256_HY_power00_sigma1.\n",
      "Skipping...\n",
      "../../data_prods/run_CDM_L3N256_DM_dir_8 already exists!\n",
      "Running genPK for  run_CDM_L3N256_DM_dir_8\n"
     ]
    },
    {
     "name": "stderr",
     "output_type": "stream",
     "text": [
      " 58%|█████▊    | 42/73 [09:26<04:56,  9.56s/it]"
     ]
    },
    {
     "name": "stdout",
     "output_type": "stream",
     "text": [
      "../../data_prods/run_2cDM_L3N256_DM_powerm2m2_sigma10 already exists!\n",
      "genPK files exist for run_2cDM_L3N256_DM_powerm2m2_sigma10.\n",
      "Skipping...\n",
      "../../data_prods/run_2cDM_L3N256_HY_power00_sigma10 already exists!\n",
      "genPK files exist for run_2cDM_L3N256_HY_power00_sigma10.\n",
      "Skipping...\n",
      "../../data_prods/run_CDM_L3N128_HY_var6 already exists!\n",
      "genPK files exist for run_CDM_L3N128_HY_var6.\n",
      "Skipping...\n",
      "../../data_prods/run_CDM_L3N128_HY_var2 already exists!\n",
      "genPK files exist for run_CDM_L3N128_HY_var2.\n",
      "Skipping...\n",
      "../../data_prods/run_2cDM_710_DM_power00_sigma1 already exists!\n",
      "genPK files exist for run_2cDM_710_DM_power00_sigma1.\n",
      "Skipping...\n",
      "../../data_prods/run_CDM_L3N512_DM already exists!\n",
      "genPK files exist for run_CDM_L3N512_DM.\n",
      "Skipping...\n",
      "../../data_prods/run_CDM_L3N256_DM_dir_1 already exists!\n",
      "Running genPK for  run_CDM_L3N256_DM_dir_1\n"
     ]
    },
    {
     "name": "stderr",
     "output_type": "stream",
     "text": [
      " 62%|██████▏   | 45/73 [10:16<05:21, 11.47s/it]"
     ]
    },
    {
     "name": "stdout",
     "output_type": "stream",
     "text": [
      "../../data_prods/run_2cDM_710_HY_power00_sigma1 already exists!\n",
      "genPK files exist for run_2cDM_710_HY_power00_sigma1.\n",
      "Skipping...\n",
      "../../data_prods/run_2cDM_L3N512_DM_power00_sigma1 already exists!\n",
      "File size too big for run_2cDM_L3N512_DM_power00_sigma1...\n",
      "../../data_prods/run_2cDM_L3N128_HY_power00_sigma1 already exists!\n",
      "genPK files exist for run_2cDM_L3N128_HY_power00_sigma1.\n",
      "Skipping...\n",
      "../../data_prods/run_2cDM_710_DM_powerm2m2_sigma1 already exists!\n",
      "genPK files exist for run_2cDM_710_DM_powerm2m2_sigma1.\n",
      "Skipping...\n",
      "../../data_prods/run_CDM_L3N128_HY_var3 already exists!\n",
      "genPK files exist for run_CDM_L3N128_HY_var3.\n",
      "Skipping...\n",
      "../../data_prods/run_2cDM_L3N256_DM_power00_sigma1_dir_7 already exists!\n",
      "Running genPK for  run_2cDM_L3N256_DM_power00_sigma1_dir_7\n"
     ]
    },
    {
     "name": "stderr",
     "output_type": "stream",
     "text": [
      " 70%|██████▉   | 51/73 [11:07<03:43, 10.15s/it]"
     ]
    },
    {
     "name": "stdout",
     "output_type": "stream",
     "text": [
      "../../data_prods/run_2cDM_L3N256_DM_power00_sigma1_dir_5 already exists!\n",
      "Running genPK for  run_2cDM_L3N256_DM_power00_sigma1_dir_5\n"
     ]
    },
    {
     "name": "stderr",
     "output_type": "stream",
     "text": [
      " 71%|███████   | 52/73 [11:59<04:54, 14.01s/it]"
     ]
    },
    {
     "name": "stdout",
     "output_type": "stream",
     "text": [
      "../../data_prods/run_2cDM_L3N256_DM_power22_sigma1 already exists!\n",
      "genPK files exist for run_2cDM_L3N256_DM_power22_sigma1.\n",
      "Skipping...\n",
      "../../data_prods/run_2cDM_L3N128_HY_power00_sigma0.1_var3 already exists!\n",
      "genPK files exist for run_2cDM_L3N128_HY_power00_sigma0.1_var3.\n",
      "Skipping...\n",
      "../../data_prods/run_2cDM_L3N256_HY_powerm2m2_sigma0.1 already exists!\n",
      "genPK files exist for run_2cDM_L3N256_HY_powerm2m2_sigma0.1.\n",
      "Skipping...\n",
      "../../data_prods/run_CDM_L3N256_DM_dir_5 already exists!\n",
      "Running genPK for  run_CDM_L3N256_DM_dir_5\n"
     ]
    },
    {
     "name": "stderr",
     "output_type": "stream",
     "text": [
      " 78%|███████▊  | 57/73 [12:50<03:20, 12.51s/it]"
     ]
    },
    {
     "name": "stdout",
     "output_type": "stream",
     "text": [
      "../../data_prods/run_2cDM_L3N256_DM_powerm2m2_sigma1 already exists!\n",
      "genPK files exist for run_2cDM_L3N256_DM_powerm2m2_sigma1.\n",
      "Skipping...\n",
      "../../data_prods/run_2cDM_L3N256_HY_power22_sigma1 already exists!\n",
      "genPK files exist for run_2cDM_L3N256_HY_power22_sigma1.\n",
      "Skipping...\n",
      "../../data_prods/run_CDM_L3N128_HY_var5 already exists!\n",
      "genPK files exist for run_CDM_L3N128_HY_var5.\n",
      "Skipping...\n",
      "../../data_prods/run_CDM_L3N256_DM_dir_4 already exists!\n",
      "Running genPK for  run_CDM_L3N256_DM_dir_4\n"
     ]
    },
    {
     "name": "stderr",
     "output_type": "stream",
     "text": [
      " 84%|████████▎ | 61/73 [13:42<02:32, 12.67s/it]"
     ]
    },
    {
     "name": "stdout",
     "output_type": "stream",
     "text": [
      "../../data_prods/run_CDM_L3N256_DM_dir_0 already exists!\n",
      "Running genPK for  run_CDM_L3N256_DM_dir_0\n"
     ]
    },
    {
     "name": "stderr",
     "output_type": "stream",
     "text": [
      " 93%|█████████▎| 68/73 [14:32<00:44,  8.86s/it]"
     ]
    },
    {
     "name": "stdout",
     "output_type": "stream",
     "text": [
      "../../data_prods/run_CDM_L3N256_HY already exists!\n",
      "genPK files exist for run_CDM_L3N256_HY.\n",
      "Skipping...\n",
      "../../data_prods/run_CDM_L3N128_HY_var4 already exists!\n",
      "genPK files exist for run_CDM_L3N128_HY_var4.\n",
      "Skipping...\n",
      "../../data_prods/run_2cDM_L3N256_HY_powerm2m2_sigma1 already exists!\n",
      "genPK files exist for run_2cDM_L3N256_HY_powerm2m2_sigma1.\n",
      "Skipping...\n",
      "../../data_prods/run_2cDM_L3N256_HY_power00_sigma100 already exists!\n",
      "genPK files exist for run_2cDM_L3N256_HY_power00_sigma100.\n",
      "Skipping...\n",
      "../../data_prods/run_2cDM_L3N256_DM_power00_sigma1 already exists!\n",
      "genPK files exist for run_2cDM_L3N256_DM_power00_sigma1.\n",
      "Skipping...\n",
      "../../data_prods/run_CDM_710_DM already exists!\n",
      "genPK files exist for run_CDM_710_DM.\n",
      "Skipping...\n",
      "../../data_prods/run_2cDM_L3N128_HY_power00_sigma0.1_var6 already exists!\n",
      "genPK files exist for run_2cDM_L3N128_HY_power00_sigma0.1_var6.\n",
      "Skipping...\n",
      "../../data_prods/run_CDM_L10N256_HY already exists!\n",
      "genPK files exist for run_CDM_L10N256_HY.\n",
      "Skipping...\n",
      "../../data_prods/run_CDM_L3N512_HY already exists!\n",
      "genPK files exist for run_CDM_L3N512_HY.\n",
      "Skipping...\n",
      "../../data_prods/run_CDM_L3N256_DM_dir_3 already exists!\n",
      "Running genPK for  run_CDM_L3N256_DM_dir_3\n"
     ]
    },
    {
     "name": "stderr",
     "output_type": "stream",
     "text": [
      " 99%|█████████▊| 72/73 [15:23<00:09,  9.98s/it]"
     ]
    },
    {
     "name": "stdout",
     "output_type": "stream",
     "text": [
      "../../data_prods/run_2cDM_L3N256_DM_power00_sigma1_dir_9 already exists!\n",
      "Running genPK for  run_2cDM_L3N256_DM_power00_sigma1_dir_9\n"
     ]
    },
    {
     "name": "stderr",
     "output_type": "stream",
     "text": [
      "100%|██████████| 73/73 [16:12<00:00, 13.32s/it]\n"
     ]
    }
   ],
   "source": [
    "rewrite = False\n",
    "for subdir in tqdm(subdir_list):\n",
    "    \n",
    "    #run name is just folder name\n",
    "    run_name = subdir.split('/')[-1]\n",
    "\n",
    "    #reject folders that aren't runs\n",
    "    if 'run' not in run_name:\n",
    "        continue\n",
    "\n",
    "    fpath = os.path.join(outdir, run_name)\n",
    "    try:\n",
    "        os.mkdir(fpath)\n",
    "    except:\n",
    "        print(f'{fpath} already exists!')\n",
    "\n",
    "    snaps = sorted(glob.glob(subdir + '/snap*'))\n",
    "    \n",
    "    if not rewrite:\n",
    "        if (len(glob.glob(fpath + \"/PK-DM-*\")) == len(snaps)):\n",
    "            print(f'genPK files exist for {run_name}.')\n",
    "            print('Skipping...')\n",
    "            continue\n",
    "          \n",
    "        \n",
    "    fsize = os.stat(snaps[-1]).st_size / (1024**3)\n",
    "    if fsize > 20:\n",
    "        print(f'File size too big for {run_name}...')\n",
    "        continue\n",
    "    '''\n",
    "    Run genPK here\n",
    "    '''\n",
    "    print('Running genPK for ', run_name)\n",
    "    for snap in snaps:\n",
    "        subprocess.run(\n",
    "            [\n",
    "                \"/home/ryan/code/GenPK/gen-pk\", \n",
    "                \"-i\", snap,\n",
    "                \"-o\", fpath\n",
    "            ]\n",
    "            )\n",
    "    "
   ]
  },
  {
   "cell_type": "code",
   "execution_count": null,
   "metadata": {},
   "outputs": [],
   "source": []
  }
 ],
 "metadata": {
  "kernelspec": {
   "display_name": "base",
   "language": "python",
   "name": "python3"
  },
  "language_info": {
   "codemirror_mode": {
    "name": "ipython",
    "version": 3
   },
   "file_extension": ".py",
   "mimetype": "text/x-python",
   "name": "python",
   "nbconvert_exporter": "python",
   "pygments_lexer": "ipython3",
   "version": "3.7.11"
  }
 },
 "nbformat": 4,
 "nbformat_minor": 2
}
