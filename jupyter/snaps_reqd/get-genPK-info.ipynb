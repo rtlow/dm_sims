{
 "cells": [
  {
   "cell_type": "code",
   "execution_count": 11,
   "metadata": {},
   "outputs": [],
   "source": [
    "import os\n",
    "import glob\n",
    "import subprocess"
   ]
  },
  {
   "cell_type": "code",
   "execution_count": 12,
   "metadata": {},
   "outputs": [
    {
     "name": "stdout",
     "output_type": "stream",
     "text": [
      "['/home/ryan/Data/Data0/.Trash-1000', '/home/ryan/Data/Data0/run_2cDM_L3N256_DM_powerm2m2_sigma10', '/home/ryan/Data/Data0/run_CDM_L3N128_HY_var6', '/home/ryan/Data/Data0/run_CDM_L3N128_HY_var2', '/home/ryan/Data/Data0/run_2cDM_L3N128_HY_power00_sigma1', '/home/ryan/Data/Data0/run_2cDM_L3N256_HY_power00_sigma100', '/home/ryan/Data/Data0/lost+found', '/home/ryan/Data/Data0/run_2cDM_L3N256_DM_power00_sigma0.1', '/home/ryan/Data/Data0/run_2cDM_L3N128_HY_power00_sigma0.1', '/home/ryan/Data/Data0/run_2cDM_L3N256_DM_powerm2m2_sigma0.1', '/home/ryan/Data/Data0/other', '/home/ryan/Data/Data0/run_2cDM_L3N256_HY_power00_sigma0.1', '/home/ryan/Data/Data0/run_2cDM_L3N128_HY_power00_sigma0.1_var2', '/home/ryan/Data/Data0/run_2cDM_L3N128_DM_power00_sigma0.1', '/home/ryan/Data/Data0/run_2cDM_L3N128_HY_power00_sigma0.1_var5', '/home/ryan/Data/Data0/run_2cDM_L3N256_DM_power00_sigma1', '/home/ryan/Data/Data0/run_2cDM_L3N256_DM_power00_sigma100', '/home/ryan/Data/Data0/run_2cDM_L3N128_HY_power00_sigma0.1_10e-7', '/home/ryan/Data/Data0/run_2cDM_L3N256_DM_power00_sigma10', '/home/ryan/Data/Data0/run_2cDM_L3N256_DM_powerm2m2_sigma1', '/home/ryan/Data/Data0/run_CDM_L3N128_HY_var3', '/home/ryan/Data/Data0/run_CDM_L3N128_HY', '/home/ryan/Data/Data0/run_CDM_L3N128_HY_var4', '/home/ryan/Data/Data0/run_CDM_L3N128_DM', '/home/ryan/Data/Data0/run_CDM_L3N128_HY_var5', '/home/ryan/Data/Data0/run_2cDM_L3N128_HY_power00_sigma0.1_var6', '/home/ryan/Data/Data0/run_CDM_L3N256_DM', '/home/ryan/Data/Data0/run_CDM_L3N256_HY', '/home/ryan/Data/Data0/run_2cDM_L3N128_HY_power00_sigma0.1_var4', '/home/ryan/Data/Data0/run_2cDM_L3N128_HY_power00_sigma0.1_var3', '/home/ryan/Data/Data0/run_2cDM_L3N256_HY_power00_sigma1', '/home/ryan/Data/Data4/run_2cDM_L3N256_DM_power22_sigma1', '/home/ryan/Data/Data4/lost+found', '/home/ryan/Data/Data4/run_2cDM_L3N256_HY_power22_sigma1', '/home/ryan/Data/Data4/run_2cDM_L3N256_DM_power22_sigma10', '/home/ryan/Data/Data2/lost+found', '/home/ryan/Data/Data2/run_2cDM_L3N512_HY_power00_sigma1', '/home/ryan/Data/Data2/run_CDM_L3N512_HY', '/home/ryan/Data/Data1/run_CDM_L3N512_DM', '/home/ryan/Data/Data1/lost+found', '/home/ryan/Data/Data1/run_2cDM_L3N512_DM_power00_sigma1', '/home/ryan/Data/Data3/run_2cDM_710_DM_power00_sigma1', '/home/ryan/Data/Data3/run_2cDM_L3N256_HY_powerm2m2_sigma1', '/home/ryan/Data/Data3/run_2cDM_710_DM_powerm2m2_sigma1', '/home/ryan/Data/Data3/run_2cDM_710_HY_power00_sigma1', '/home/ryan/Data/Data3/run_2cDM_L3N256_HY_powerm2m2_sigma0.1', '/home/ryan/Data/Data3/run_CDM_710_DM', '/home/ryan/Data/Data3/lost+found', '/home/ryan/Data/Data3/run_2cDM_710_HY_powerm2m2_sigma1', '/home/ryan/Data/Data3/run_2cDM_L3N256_HY_powerm2m2_sigma10', '/home/ryan/Data/Data3/run_CDM_710_HY']\n"
     ]
    }
   ],
   "source": [
    "outdir = '../data_prods/'\n",
    "data_dir = '/home/ryan/Data'\n",
    "subdirs = [os.path.join(data_dir, o) for o in os.listdir(data_dir) if os.path.isdir(os.path.join(data_dir,o))]\n",
    "\n",
    "subdir_list = []\n",
    "for subdir in subdirs:\n",
    "    subdir_list += [os.path.join(subdir, o) for o in os.listdir(subdir) if os.path.isdir(os.path.join(subdir,o))]\n",
    "\n",
    "print(subdir_list)"
   ]
  },
  {
   "cell_type": "code",
   "execution_count": 13,
   "metadata": {},
   "outputs": [
    {
     "name": "stdout",
     "output_type": "stream",
     "text": [
      "../data_prods/run_2cDM_L3N256_DM_powerm2m2_sigma10 already exists!\n",
      "../data_prods/run_CDM_L3N128_HY_var6 already exists!\n",
      "../data_prods/run_CDM_L3N128_HY_var2 already exists!\n",
      "../data_prods/run_2cDM_L3N128_HY_power00_sigma1 already exists!\n",
      "../data_prods/run_2cDM_L3N256_HY_power00_sigma100 already exists!\n",
      "../data_prods/run_2cDM_L3N256_DM_power00_sigma0.1 already exists!\n",
      "../data_prods/run_2cDM_L3N128_HY_power00_sigma0.1 already exists!\n",
      "../data_prods/run_2cDM_L3N256_DM_powerm2m2_sigma0.1 already exists!\n",
      "../data_prods/run_2cDM_L3N256_HY_power00_sigma0.1 already exists!\n",
      "../data_prods/run_2cDM_L3N128_HY_power00_sigma0.1_var2 already exists!\n",
      "../data_prods/run_2cDM_L3N128_DM_power00_sigma0.1 already exists!\n",
      "../data_prods/run_2cDM_L3N128_HY_power00_sigma0.1_var5 already exists!\n",
      "../data_prods/run_2cDM_L3N256_DM_power00_sigma1 already exists!\n",
      "../data_prods/run_2cDM_L3N256_DM_power00_sigma100 already exists!\n",
      "../data_prods/run_2cDM_L3N128_HY_power00_sigma0.1_10e-7 already exists!\n",
      "../data_prods/run_2cDM_L3N256_DM_power00_sigma10 already exists!\n",
      "../data_prods/run_2cDM_L3N256_DM_powerm2m2_sigma1 already exists!\n",
      "../data_prods/run_CDM_L3N128_HY_var3 already exists!\n",
      "../data_prods/run_CDM_L3N128_HY already exists!\n",
      "../data_prods/run_CDM_L3N128_HY_var4 already exists!\n",
      "../data_prods/run_CDM_L3N128_DM already exists!\n",
      "../data_prods/run_CDM_L3N128_HY_var5 already exists!\n",
      "../data_prods/run_2cDM_L3N128_HY_power00_sigma0.1_var6 already exists!\n",
      "../data_prods/run_CDM_L3N256_DM already exists!\n",
      "../data_prods/run_CDM_L3N256_HY already exists!\n",
      "../data_prods/run_2cDM_L3N128_HY_power00_sigma0.1_var4 already exists!\n",
      "../data_prods/run_2cDM_L3N128_HY_power00_sigma0.1_var3 already exists!\n",
      "../data_prods/run_2cDM_L3N256_HY_power00_sigma1 already exists!\n",
      "../data_prods/run_2cDM_L3N256_DM_power22_sigma1 already exists!\n",
      "../data_prods/run_2cDM_L3N256_HY_power22_sigma1 already exists!\n",
      "../data_prods/run_2cDM_L3N256_DM_power22_sigma10 already exists!\n",
      "../data_prods/run_2cDM_L3N512_HY_power00_sigma1 already exists!\n",
      "File size too big for run_2cDM_L3N512_HY_power00_sigma1...\n",
      "../data_prods/run_CDM_L3N512_HY already exists!\n",
      "File size too big for run_CDM_L3N512_HY...\n",
      "../data_prods/run_CDM_L3N512_DM already exists!\n",
      "../data_prods/run_2cDM_L3N512_DM_power00_sigma1 already exists!\n",
      "File size too big for run_2cDM_L3N512_DM_power00_sigma1...\n",
      "../data_prods/run_2cDM_710_DM_power00_sigma1 already exists!\n",
      "../data_prods/run_2cDM_L3N256_HY_powerm2m2_sigma1 already exists!\n",
      "../data_prods/run_2cDM_710_DM_powerm2m2_sigma1 already exists!\n",
      "../data_prods/run_2cDM_710_HY_power00_sigma1 already exists!\n",
      "../data_prods/run_2cDM_L3N256_HY_powerm2m2_sigma0.1 already exists!\n",
      "../data_prods/run_CDM_710_DM already exists!\n",
      "../data_prods/run_2cDM_710_HY_powerm2m2_sigma1 already exists!\n",
      "../data_prods/run_2cDM_L3N256_HY_powerm2m2_sigma10 already exists!\n",
      "../data_prods/run_CDM_710_HY already exists!\n"
     ]
    }
   ],
   "source": [
    "for subdir in subdir_list:\n",
    "    \n",
    "    #run name is just folder name\n",
    "    run_name = subdir.split('/')[-1]\n",
    "\n",
    "    #reject folders that aren't runs\n",
    "    if 'run' not in run_name:\n",
    "        continue\n",
    "\n",
    "    fpath = os.path.join(outdir, run_name)\n",
    "    try:\n",
    "        os.mkdir(fpath)\n",
    "    except:\n",
    "        print(f'{fpath} already exists!')\n",
    "\n",
    "    snaps = sorted(glob.glob(subdir + '/snap*'))\n",
    "    fsize = os.stat(snaps[-1]).st_size / (1024**3)\n",
    "    if fsize > 20:\n",
    "        print(f'File size too big for {run_name}...')\n",
    "        continue\n",
    "    '''\n",
    "    Run genPK here\n",
    "    '''\n",
    "    for snap in snaps:\n",
    "        subprocess.run(\n",
    "            [\n",
    "                \"/home/ryan/code/GenPK/gen-pk\", \n",
    "                \"-i\", snap,\n",
    "                \"-o\", fpath\n",
    "            ]\n",
    "            )\n",
    "    "
   ]
  },
  {
   "cell_type": "code",
   "execution_count": null,
   "metadata": {},
   "outputs": [],
   "source": []
  }
 ],
 "metadata": {
  "kernelspec": {
   "display_name": "base",
   "language": "python",
   "name": "python3"
  },
  "language_info": {
   "codemirror_mode": {
    "name": "ipython",
    "version": 3
   },
   "file_extension": ".py",
   "mimetype": "text/x-python",
   "name": "python",
   "nbconvert_exporter": "python",
   "pygments_lexer": "ipython3",
   "version": "3.7.11"
  }
 },
 "nbformat": 4,
 "nbformat_minor": 2
}
