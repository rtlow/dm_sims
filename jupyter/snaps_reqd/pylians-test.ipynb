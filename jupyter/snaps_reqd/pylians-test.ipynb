{
 "cells": [
  {
   "cell_type": "code",
   "execution_count": 13,
   "metadata": {},
   "outputs": [],
   "source": [
    "import numpy as np\n",
    "import Pk_library as PKL"
   ]
  },
  {
   "cell_type": "code",
   "execution_count": 15,
   "metadata": {},
   "outputs": [
    {
     "name": "stdout",
     "output_type": "stream",
     "text": [
      "\n",
      "READING SNAPSHOTS PROPERTIES\n",
      "Omega_gas    =  0.04645693102644591\n",
      "Omega_cdm    =  0.26272230461958845\n",
      "Omega_nu     =  0.0\n",
      "Omega_star   =  0.0008347109970324051\n",
      "Omega_m      =  0.31001394664306675\n",
      "Omega_m snap =  0.301712\n",
      "\n",
      "Computing the auto- and cross-power spectra of types:  0 - 1\n",
      "saving results in:\n",
      "./HY_test/Pk_GAS_z=2.030.dat \n",
      " ./HY_test/Pk_CDM_z=2.030.dat \n",
      " ./HY_test/Pk_GCDM_z=2.030.dat\n",
      "\n",
      "Computing power spectra of the fields...\n",
      "Time FFTS = 0.09\n",
      "Time loop = 0.37\n",
      "Time taken = 0.47 seconds\n",
      "\n",
      "Computing the auto- and cross-power spectra of types:  0 - 4\n",
      "saving results in:\n",
      "./HY_test/Pk_GAS_z=2.030.dat \n",
      " ./HY_test/Pk_Stars_z=2.030.dat \n",
      " ./HY_test/Pk_Gstars_z=2.030.dat\n",
      "\n",
      "Computing power spectra of the fields...\n",
      "Time FFTS = 0.11\n",
      "Time loop = 0.36\n",
      "Time taken = 0.48 seconds\n",
      "\n",
      "Computing the auto- and cross-power spectra of types:  1 - 4\n",
      "saving results in:\n",
      "./HY_test/Pk_CDM_z=2.030.dat \n",
      " ./HY_test/Pk_Stars_z=2.030.dat \n",
      " ./HY_test/Pk_CDMStars_z=2.030.dat\n",
      "\n",
      "Computing power spectra of the fields...\n",
      "Time FFTS = 0.09\n",
      "Time loop = 0.40\n",
      "Time taken = 0.49 seconds\n",
      "\n",
      "computing P(k) of all components\n",
      "\n",
      "Computing power spectrum of the field...\n",
      "Time to complete loop = 0.51\n",
      "Time taken = 0.55 seconds\n"
     ]
    }
   ],
   "source": [
    "# parameters\n",
    "snapshot      = '/mnt/d/run_CDM_L3N256_HY_dir_0/snap_005' #snapshot name\n",
    "grid          = 256    #grid size\n",
    "particle_type = [0,1,4]    #use dark matter [1]\n",
    "do_RSD        = False   #move particles to redshift-space and calculate Pk in redshift-space\n",
    "axis          = 1      #RSD placed along the y-axis\n",
    "cpus          = 8      #number of openmp threads\n",
    "folder_out    = './HY_test' #folder where to write results\n",
    "\n",
    "# compute power spectrum of the snapshot\n",
    "PKL.Pk_Gadget(snapshot, grid, particle_type, do_RSD, axis, cpus, folder_out)"
   ]
  },
  {
   "cell_type": "code",
   "execution_count": null,
   "metadata": {},
   "outputs": [
    {
     "name": "stdout",
     "output_type": "stream",
     "text": [
      "Computing power spectrum...\n",
      "0.000 < X [Mpc/h] < 3.000\n",
      "0.000 < Y [Mpc/h] < 3.000\n",
      "0.000 < Z [Mpc/h] < 3.000\n",
      "\n",
      "\n",
      "Computing power spectrum of the field...\n",
      "Time to complete loop = 0.52\n",
      "Time taken = 0.55 seconds\n"
     ]
    }
   ],
   "source": [
    "# parameters\n",
    "snapshot      = '/mnt/d/run_CDM_L3N256_DM_dir_0/snap_005' #snapshot name\n",
    "grid          = 256    #grid size\n",
    "particle_type = [1]    #use dark matter [1]\n",
    "do_RSD        = False   #move particles to redshift-space and calculate Pk in redshift-space\n",
    "axis          = 1      #RSD placed along the y-axis\n",
    "cpus          = 8      #number of openmp threads\n",
    "folder_out    = './DM_test' #folder where to write results\n",
    "\n",
    "# compute power spectrum of the snapshot\n",
    "PKL.Pk_Gadget(snapshot, grid, particle_type, do_RSD, axis, cpus, folder_out)"
   ]
  },
  {
   "cell_type": "code",
   "execution_count": null,
   "metadata": {},
   "outputs": [],
   "source": []
  }
 ],
 "metadata": {
  "kernelspec": {
   "display_name": "base",
   "language": "python",
   "name": "python3"
  },
  "language_info": {
   "codemirror_mode": {
    "name": "ipython",
    "version": 3
   },
   "file_extension": ".py",
   "mimetype": "text/x-python",
   "name": "python",
   "nbconvert_exporter": "python",
   "pygments_lexer": "ipython3",
   "version": "3.11.7"
  }
 },
 "nbformat": 4,
 "nbformat_minor": 2
}
