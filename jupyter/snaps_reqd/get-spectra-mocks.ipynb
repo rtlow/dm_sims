{
 "cells": [
  {
   "cell_type": "code",
   "execution_count": 1,
   "id": "626124ad",
   "metadata": {},
   "outputs": [],
   "source": [
    "import shutil\n",
    "import os\n",
    "import glob\n",
    "\n",
    "from fake_spectra.randspectra import RandSpectra\n",
    "\n",
    "import sys\n",
    "sys.path.append('../../py/')\n",
    "\n",
    "from tqdm.notebook import tqdm\n",
    "\n",
    "from mpi4py import MPI"
   ]
  },
  {
   "cell_type": "code",
   "execution_count": null,
   "id": "feed62e2",
   "metadata": {},
   "outputs": [
    {
     "data": {
      "text/plain": [
       "['run_2cDM_L3N256_HY_power00_sigma1_dir_0',\n",
       " 'run_2cDM_L3N256_HY_power00_sigma1_dir_1',\n",
       " 'run_2cDM_L3N256_HY_power00_sigma1_dir_2',\n",
       " 'run_2cDM_L3N256_HY_power00_sigma1_dir_3',\n",
       " 'run_2cDM_L3N256_HY_power00_sigma1_dir_4',\n",
       " 'run_2cDM_L3N256_HY_power00_sigma1_dir_5',\n",
       " 'run_2cDM_L3N256_HY_power00_sigma1_dir_6',\n",
       " 'run_2cDM_L3N256_HY_power00_sigma1_dir_7',\n",
       " 'run_2cDM_L3N256_HY_power00_sigma1_dir_8',\n",
       " 'run_2cDM_L3N256_HY_power00_sigma1',\n",
       " 'run_2cDM_L3N256_HY_powerm2m2_sigma1_dir_0',\n",
       " 'run_2cDM_L3N256_HY_powerm2m2_sigma1_dir_1',\n",
       " 'run_2cDM_L3N256_HY_powerm2m2_sigma1_dir_2',\n",
       " 'run_2cDM_L3N256_HY_powerm2m2_sigma1_dir_3',\n",
       " 'run_2cDM_L3N256_HY_powerm2m2_sigma1_dir_4',\n",
       " 'run_2cDM_L3N256_HY_powerm2m2_sigma1_dir_5',\n",
       " 'run_2cDM_L3N256_HY_powerm2m2_sigma1_dir_6',\n",
       " 'run_2cDM_L3N256_HY_powerm2m2_sigma1_dir_7',\n",
       " 'run_2cDM_L3N256_HY_powerm2m2_sigma1_dir_8',\n",
       " 'run_2cDM_L3N256_HY_powerm2m2_sigma1',\n",
       " 'run_CDM_L3N256_HY_dir_0',\n",
       " 'run_CDM_L3N256_HY_dir_1',\n",
       " 'run_CDM_L3N256_HY_dir_2',\n",
       " 'run_CDM_L3N256_HY_dir_3',\n",
       " 'run_CDM_L3N256_HY_dir_4',\n",
       " 'run_CDM_L3N256_HY_dir_5',\n",
       " 'run_CDM_L3N256_HY_dir_6',\n",
       " 'run_CDM_L3N256_HY_dir_7',\n",
       " 'run_CDM_L3N256_HY_dir_8',\n",
       " 'run_CDM_L3N256_HY']"
      ]
     },
     "execution_count": 2,
     "metadata": {},
     "output_type": "execute_result"
    }
   ],
   "source": [
    "tcDM_RUNS1 = [ f'run_2cDM_L3N256_HY_power00_sigma1_dir_{i}' for i in range(10)] + ['run_2cDM_L3N256_HY_power00_sigma1']\n",
    "tcDM_RUNS2 = [ f'run_2cDM_L3N256_HY_powerm2m2_sigma1_dir_{i}' for i in range(10)] + ['run_2cDM_L3N256_HY_powerm2m2_sigma1']\n",
    "CDM_RUNS = [ f'run_CDM_L3N256_HY_dir_{i}' for i in range(10)] + ['run_CDM_L3N256_HY']\n",
    "runs = tcDM_RUNS1 + tcDM_RUNS2 + CDM_RUNS\n",
    "runs"
   ]
  },
  {
   "cell_type": "code",
   "execution_count": 4,
   "id": "6a9a9e2f",
   "metadata": {},
   "outputs": [],
   "source": [
    "elem = 'H'\n",
    "ion = 1\n",
    "line = 1215\n",
    "\n",
    "offset = 0"
   ]
  },
  {
   "cell_type": "code",
   "execution_count": 5,
   "id": "919b7275",
   "metadata": {},
   "outputs": [
    {
     "data": {
      "application/vnd.jupyter.widget-view+json": {
       "model_id": "e0d594f26ed14af1bc10c765f72f0891",
       "version_major": 2,
       "version_minor": 0
      },
      "text/plain": [
       "  0%|          | 0/3 [00:00<?, ?it/s]"
      ]
     },
     "metadata": {},
     "output_type": "display_data"
    },
    {
     "name": "stdout",
     "output_type": "stream",
     "text": [
      "Reloading from snapshot (will save to:  /media/usb/run_2cDM_L3N256_HY_power00_sigma1_dir_9/SPECTRA_002/rand_spectra_DLA.hdf5  )\n",
      "5000  sightlines. resolution:  1.001131403156066  z= 5.236226422509304\n",
      "Reloading from snapshot (will save to:  /media/usb/run_2cDM_L3N256_HY_powerm2m2_sigma1_dir_9/SPECTRA_002/rand_spectra_DLA.hdf5  )\n",
      "5000  sightlines. resolution:  1.001131403156066  z= 5.236226422509304\n",
      "Reloading from snapshot (will save to:  /media/usb/run_CDM_L3N256_HY_dir_9/SPECTRA_002/rand_spectra_DLA.hdf5  )\n",
      "5000  sightlines. resolution:  1.001131403156066  z= 5.236226422509304\n"
     ]
    },
    {
     "data": {
      "application/vnd.jupyter.widget-view+json": {
       "model_id": "76ffedc7e05d48e8b642139f7d1ac49c",
       "version_major": 2,
       "version_minor": 0
      },
      "text/plain": [
       "  0%|          | 0/3 [00:00<?, ?it/s]"
      ]
     },
     "metadata": {},
     "output_type": "display_data"
    },
    {
     "name": "stdout",
     "output_type": "stream",
     "text": [
      "Reloading from snapshot (will save to:  /media/usb/run_2cDM_L3N256_HY_power00_sigma1_dir_9/SPECTRA_003/rand_spectra_DLA.hdf5  )\n",
      "5000  sightlines. resolution:  1.0015409184447954  z= 3.9916277163626868\n",
      "Reloading from snapshot (will save to:  /media/usb/run_2cDM_L3N256_HY_powerm2m2_sigma1_dir_9/SPECTRA_003/rand_spectra_DLA.hdf5  )\n",
      "5000  sightlines. resolution:  1.0015409184447954  z= 3.9916277163626868\n",
      "Reloading from snapshot (will save to:  /media/usb/run_CDM_L3N256_HY_dir_9/SPECTRA_003/rand_spectra_DLA.hdf5  )\n",
      "5000  sightlines. resolution:  1.0015409184447954  z= 3.9916277163626868\n"
     ]
    },
    {
     "data": {
      "application/vnd.jupyter.widget-view+json": {
       "model_id": "86c96afb95f64db0a7880208c4e372e7",
       "version_major": 2,
       "version_minor": 0
      },
      "text/plain": [
       "  0%|          | 0/3 [00:00<?, ?it/s]"
      ]
     },
     "metadata": {},
     "output_type": "display_data"
    },
    {
     "name": "stdout",
     "output_type": "stream",
     "text": [
      "Reloading from snapshot (will save to:  /media/usb/run_2cDM_L3N256_HY_power00_sigma1_dir_9/SPECTRA_004/rand_spectra_DLA.hdf5  )\n",
      "5000  sightlines. resolution:  1.001412231089194  z= 2.9999151729465807\n",
      "Reloading from snapshot (will save to:  /media/usb/run_2cDM_L3N256_HY_powerm2m2_sigma1_dir_9/SPECTRA_004/rand_spectra_DLA.hdf5  )\n",
      "5000  sightlines. resolution:  1.001412231089194  z= 2.9999151729465807\n",
      "Reloading from snapshot (will save to:  /media/usb/run_CDM_L3N256_HY_dir_9/SPECTRA_004/rand_spectra_DLA.hdf5  )\n",
      "5000  sightlines. resolution:  1.001412231089194  z= 2.9999151729465807\n"
     ]
    },
    {
     "data": {
      "application/vnd.jupyter.widget-view+json": {
       "model_id": "819d341f46f042db9837396a4c8404f3",
       "version_major": 2,
       "version_minor": 0
      },
      "text/plain": [
       "  0%|          | 0/3 [00:00<?, ?it/s]"
      ]
     },
     "metadata": {},
     "output_type": "display_data"
    },
    {
     "name": "stdout",
     "output_type": "stream",
     "text": [
      "Reloading from snapshot (will save to:  /media/usb/run_2cDM_L3N256_HY_power00_sigma1_dir_9/SPECTRA_005/rand_spectra_DLA.hdf5  )\n",
      "5000  sightlines. resolution:  1.0017927462273801  z= 2.0300187258611033\n",
      "Reloading from snapshot (will save to:  /media/usb/run_2cDM_L3N256_HY_powerm2m2_sigma1_dir_9/SPECTRA_005/rand_spectra_DLA.hdf5  )\n",
      "5000  sightlines. resolution:  1.0017927462273801  z= 2.0300187258611033\n",
      "Reloading from snapshot (will save to:  /media/usb/run_CDM_L3N256_HY_dir_9/SPECTRA_005/rand_spectra_DLA.hdf5  )\n",
      "5000  sightlines. resolution:  1.0017927462273801  z= 2.0300187258611033\n"
     ]
    }
   ],
   "source": [
    "#Only if you want the MPI feature; otherwise, MPI is None by default\n",
    "for i in range(2, 6):\n",
    "    for run in tqdm(runs):\n",
    "        rr = RandSpectra(i, \"/media/usb/\" + run + '/', MPI=MPI, thresh=0.)\n",
    "        rr.get_tau(\"H\",1,1215)\n",
    "        #Lyman-beta\n",
    "        rr.get_tau(\"H\",1,1025)\n",
    "        rr.get_col_density(\"H\",1)\n",
    "        #Save spectra to file\n",
    "        rr.save_file()"
   ]
  },
  {
   "cell_type": "code",
   "execution_count": 6,
   "id": "f67cff61",
   "metadata": {},
   "outputs": [
    {
     "data": {
      "application/vnd.jupyter.widget-view+json": {
       "model_id": "efe8f58d4a2c4f0692844b57cd7c975b",
       "version_major": 2,
       "version_minor": 0
      },
      "text/plain": [
       "  0%|          | 0/3 [00:00<?, ?it/s]"
      ]
     },
     "metadata": {},
     "output_type": "display_data"
    }
   ],
   "source": [
    "for run in tqdm(runs):\n",
    "    fpaths = glob.glob(f\"/media/usb/{run}/SPECTRA_*\")\n",
    "    \n",
    "    outpath = f'../../data_prods/{run}/'\n",
    "    for fpath in fpaths:\n",
    "        fname = os.path.basename(fpath)\n",
    "        shutil.copytree(fpath, outpath + fname, dirs_exist_ok=True)"
   ]
  },
  {
   "cell_type": "code",
   "execution_count": null,
   "id": "8bd2b6f5",
   "metadata": {},
   "outputs": [],
   "source": []
  }
 ],
 "metadata": {
  "kernelspec": {
   "display_name": "base",
   "language": "python",
   "name": "python3"
  },
  "language_info": {
   "codemirror_mode": {
    "name": "ipython",
    "version": 3
   },
   "file_extension": ".py",
   "mimetype": "text/x-python",
   "name": "python",
   "nbconvert_exporter": "python",
   "pygments_lexer": "ipython3",
   "version": "3.11.7"
  }
 },
 "nbformat": 4,
 "nbformat_minor": 5
}
