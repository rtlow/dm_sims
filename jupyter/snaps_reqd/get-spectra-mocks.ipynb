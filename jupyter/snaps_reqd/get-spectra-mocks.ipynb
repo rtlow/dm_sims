{
 "cells": [
  {
   "cell_type": "code",
   "execution_count": 1,
   "id": "626124ad",
   "metadata": {},
   "outputs": [],
   "source": [
    "import shutil\n",
    "import os\n",
    "import glob\n",
    "\n",
    "from fake_spectra.randspectra import RandSpectra\n",
    "\n",
    "import sys\n",
    "sys.path.append('../../py/')\n",
    "\n",
    "from tqdm.notebook import tqdm\n",
    "\n",
    "from mpi4py import MPI"
   ]
  },
  {
   "cell_type": "code",
   "execution_count": 2,
   "id": "feed62e2",
   "metadata": {},
   "outputs": [
    {
     "data": {
      "text/plain": [
       "['run_2cDM_L3N256_HY_power00_sigma1_dir_0',\n",
       " 'run_2cDM_L3N256_HY_power00_sigma1_dir_1',\n",
       " 'run_2cDM_L3N256_HY_power00_sigma1_dir_2',\n",
       " 'run_2cDM_L3N256_HY_power00_sigma1_dir_3',\n",
       " 'run_2cDM_L3N256_HY_power00_sigma1_dir_4',\n",
       " 'run_2cDM_L3N256_HY_power00_sigma1_dir_5',\n",
       " 'run_2cDM_L3N256_HY_power00_sigma1_dir_6',\n",
       " 'run_2cDM_L3N256_HY_power00_sigma1_dir_7',\n",
       " 'run_2cDM_L3N256_HY_power00_sigma1_dir_8',\n",
       " 'run_2cDM_L3N256_HY_power00_sigma1_dir_9',\n",
       " 'run_2cDM_L3N256_HY_power00_sigma1',\n",
       " 'run_2cDM_L3N256_HY_powerm2m2_sigma1_dir_0',\n",
       " 'run_2cDM_L3N256_HY_powerm2m2_sigma1_dir_1',\n",
       " 'run_2cDM_L3N256_HY_powerm2m2_sigma1_dir_2',\n",
       " 'run_2cDM_L3N256_HY_powerm2m2_sigma1_dir_3',\n",
       " 'run_2cDM_L3N256_HY_powerm2m2_sigma1_dir_4',\n",
       " 'run_2cDM_L3N256_HY_powerm2m2_sigma1_dir_5',\n",
       " 'run_2cDM_L3N256_HY_powerm2m2_sigma1_dir_6',\n",
       " 'run_2cDM_L3N256_HY_powerm2m2_sigma1_dir_7',\n",
       " 'run_2cDM_L3N256_HY_powerm2m2_sigma1_dir_8',\n",
       " 'run_2cDM_L3N256_HY_powerm2m2_sigma1_dir_9',\n",
       " 'run_2cDM_L3N256_HY_powerm2m2_sigma1',\n",
       " 'run_CDM_L3N256_HY_dir_0',\n",
       " 'run_CDM_L3N256_HY_dir_1',\n",
       " 'run_CDM_L3N256_HY_dir_2',\n",
       " 'run_CDM_L3N256_HY_dir_3',\n",
       " 'run_CDM_L3N256_HY_dir_4',\n",
       " 'run_CDM_L3N256_HY_dir_5',\n",
       " 'run_CDM_L3N256_HY_dir_6',\n",
       " 'run_CDM_L3N256_HY_dir_7',\n",
       " 'run_CDM_L3N256_HY_dir_8',\n",
       " 'run_CDM_L3N256_HY_dir_9',\n",
       " 'run_CDM_L3N256_HY']"
      ]
     },
     "execution_count": 2,
     "metadata": {},
     "output_type": "execute_result"
    }
   ],
   "source": [
    "tcDM_RUNS1 = [ f'run_2cDM_L3N256_HY_power00_sigma1_dir_{i}' for i in range(10)] + ['run_2cDM_L3N256_HY_power00_sigma1']\n",
    "tcDM_RUNS2 = [ f'run_2cDM_L3N256_HY_powerm2m2_sigma1_dir_{i}' for i in range(10)] + ['run_2cDM_L3N256_HY_powerm2m2_sigma1']\n",
    "CDM_RUNS = [ f'run_CDM_L3N256_HY_dir_{i}' for i in range(10)] + ['run_CDM_L3N256_HY']\n",
    "runs = tcDM_RUNS1 + tcDM_RUNS2 + CDM_RUNS\n",
    "runs"
   ]
  },
  {
   "cell_type": "code",
   "execution_count": 3,
   "id": "6a9a9e2f",
   "metadata": {},
   "outputs": [],
   "source": [
    "elem = 'H'\n",
    "ion = 1\n",
    "line = 1215\n",
    "\n",
    "offset = 0"
   ]
  },
  {
   "cell_type": "code",
   "execution_count": null,
   "id": "919b7275",
   "metadata": {},
   "outputs": [
    {
     "data": {
      "application/vnd.jupyter.widget-view+json": {
       "model_id": "cc68c033026746dba58d4e5f3588a1c3",
       "version_major": 2,
       "version_minor": 0
      },
      "text/plain": [
       "  0%|          | 0/33 [00:00<?, ?it/s]"
      ]
     },
     "metadata": {},
     "output_type": "display_data"
    },
    {
     "name": "stdout",
     "output_type": "stream",
     "text": [
      "Reloading from snapshot (will save to:  /home/ryan/Data/run_2cDM_L3N256_HY_power00_sigma1_dir_0/SPECTRA_000/rand_spectra_DLA.hdf5  )\n",
      "Warning: no self-shielding at z= 99.0\n",
      "5000  sightlines. resolution:  1.0005175972448157  z= 99.0\n"
     ]
    },
    {
     "ename": "TypeError",
     "evalue": "One of the data arrays does not have 32-bit float type\n",
     "output_type": "error",
     "traceback": [
      "\u001b[31m---------------------------------------------------------------------------\u001b[39m",
      "\u001b[31mKeyError\u001b[39m                                  Traceback (most recent call last)",
      "\u001b[36mFile \u001b[39m\u001b[32m~/miniconda3/envs/work/lib/python3.12/site-packages/fake_spectra/spectra.py:875\u001b[39m, in \u001b[36mSpectra.get_tau\u001b[39m\u001b[34m(self, elem, ion, line, number, force_recompute)\u001b[39m\n\u001b[32m    874\u001b[39m     \u001b[38;5;28;01mraise\u001b[39;00m \u001b[38;5;167;01mKeyError\u001b[39;00m\n\u001b[32m--> \u001b[39m\u001b[32m875\u001b[39m \u001b[38;5;28;43mself\u001b[39;49m\u001b[43m.\u001b[49m\u001b[43m_really_load_array\u001b[49m\u001b[43m(\u001b[49m\u001b[43m(\u001b[49m\u001b[43melem\u001b[49m\u001b[43m,\u001b[49m\u001b[43m \u001b[49m\u001b[43mion\u001b[49m\u001b[43m,\u001b[49m\u001b[43m \u001b[49m\u001b[43mline\u001b[49m\u001b[43m)\u001b[49m\u001b[43m,\u001b[49m\u001b[43m \u001b[49m\u001b[38;5;28;43mself\u001b[39;49m\u001b[43m.\u001b[49m\u001b[43mtau\u001b[49m\u001b[43m,\u001b[49m\u001b[43m \u001b[49m\u001b[33;43m\"\u001b[39;49m\u001b[33;43mtau\u001b[39;49m\u001b[33;43m\"\u001b[39;49m\u001b[43m)\u001b[49m\n\u001b[32m    876\u001b[39m tau = \u001b[38;5;28mself\u001b[39m.tau[(elem, ion, line)]\n",
      "\u001b[36mFile \u001b[39m\u001b[32m~/miniconda3/envs/work/lib/python3.12/site-packages/fake_spectra/spectra.py:355\u001b[39m, in \u001b[36mSpectra._really_load_array\u001b[39m\u001b[34m(self, key, array, array_name)\u001b[39m\n\u001b[32m    354\u001b[39m \u001b[38;5;66;03m#First check it was not already loaded\u001b[39;00m\n\u001b[32m--> \u001b[39m\u001b[32m355\u001b[39m \u001b[38;5;28;01mif\u001b[39;00m np.size(\u001b[43marray\u001b[49m\u001b[43m[\u001b[49m\u001b[43mkey\u001b[49m\u001b[43m]\u001b[49m) > \u001b[32m1\u001b[39m:\n\u001b[32m    356\u001b[39m     \u001b[38;5;28;01mreturn\u001b[39;00m\n",
      "\u001b[31mKeyError\u001b[39m: ('H', 1, 1215)",
      "\nDuring handling of the above exception, another exception occurred:\n",
      "\u001b[31mTypeError\u001b[39m                                 Traceback (most recent call last)",
      "\u001b[36mCell\u001b[39m\u001b[36m \u001b[39m\u001b[32mIn[4]\u001b[39m\u001b[32m, line 15\u001b[39m\n\u001b[32m     13\u001b[39m \u001b[38;5;28;01mfor\u001b[39;00m i \u001b[38;5;129;01min\u001b[39;00m \u001b[38;5;28mrange\u001b[39m(\u001b[32m8\u001b[39m):\n\u001b[32m     14\u001b[39m     rr = RandSpectra(i, \u001b[33m\"\u001b[39m\u001b[33m/home/ryan/Data/\u001b[39m\u001b[33m\"\u001b[39m + run + \u001b[33m'\u001b[39m\u001b[33m/\u001b[39m\u001b[33m'\u001b[39m, MPI=MPI, thresh=\u001b[32m0.\u001b[39m)\n\u001b[32m---> \u001b[39m\u001b[32m15\u001b[39m     \u001b[43mrr\u001b[49m\u001b[43m.\u001b[49m\u001b[43mget_tau\u001b[49m\u001b[43m(\u001b[49m\u001b[33;43m\"\u001b[39;49m\u001b[33;43mH\u001b[39;49m\u001b[33;43m\"\u001b[39;49m\u001b[43m,\u001b[49m\u001b[32;43m1\u001b[39;49m\u001b[43m,\u001b[49m\u001b[32;43m1215\u001b[39;49m\u001b[43m)\u001b[49m\n\u001b[32m     16\u001b[39m     \u001b[38;5;66;03m#Lyman-beta\u001b[39;00m\n\u001b[32m     17\u001b[39m     rr.get_tau(\u001b[33m\"\u001b[39m\u001b[33mH\u001b[39m\u001b[33m\"\u001b[39m,\u001b[32m1\u001b[39m,\u001b[32m1025\u001b[39m)\n",
      "\u001b[36mFile \u001b[39m\u001b[32m~/miniconda3/envs/work/lib/python3.12/site-packages/fake_spectra/spectra.py:878\u001b[39m, in \u001b[36mSpectra.get_tau\u001b[39m\u001b[34m(self, elem, ion, line, number, force_recompute)\u001b[39m\n\u001b[32m    876\u001b[39m     tau = \u001b[38;5;28mself\u001b[39m.tau[(elem, ion, line)]\n\u001b[32m    877\u001b[39m \u001b[38;5;28;01mexcept\u001b[39;00m \u001b[38;5;167;01mKeyError\u001b[39;00m:\n\u001b[32m--> \u001b[39m\u001b[32m878\u001b[39m     tau = \u001b[38;5;28;43mself\u001b[39;49m\u001b[43m.\u001b[49m\u001b[43mcompute_spectra\u001b[49m\u001b[43m(\u001b[49m\u001b[43melem\u001b[49m\u001b[43m,\u001b[49m\u001b[43m \u001b[49m\u001b[43mion\u001b[49m\u001b[43m,\u001b[49m\u001b[43m \u001b[49m\u001b[43mline\u001b[49m\u001b[43m,\u001b[49m\u001b[43m \u001b[49m\u001b[38;5;28;43;01mTrue\u001b[39;49;00m\u001b[43m)\u001b[49m\n\u001b[32m    879\u001b[39m     \u001b[38;5;28mself\u001b[39m.tau[(elem, ion, line)] = tau\n\u001b[32m    880\u001b[39m \u001b[38;5;28;01mif\u001b[39;00m number >= \u001b[32m0\u001b[39m:\n",
      "\u001b[36mFile \u001b[39m\u001b[32m~/miniconda3/envs/work/lib/python3.12/site-packages/fake_spectra/spectra.py:806\u001b[39m, in \u001b[36mSpectra.compute_spectra\u001b[39m\u001b[34m(self, elem, ion, ll, get_tau)\u001b[39m\n\u001b[32m    804\u001b[39m \u001b[38;5;28;01mif\u001b[39;00m arepo :\n\u001b[32m    805\u001b[39m     nsegments=\u001b[32m1\u001b[39m\n\u001b[32m--> \u001b[39m\u001b[32m806\u001b[39m result = \u001b[38;5;28;43mself\u001b[39;49m\u001b[43m.\u001b[49m\u001b[43m_interpolate_single_file\u001b[49m\u001b[43m(\u001b[49m\u001b[32;43m0\u001b[39;49m\u001b[43m,\u001b[49m\u001b[43m \u001b[49m\u001b[43melem\u001b[49m\u001b[43m,\u001b[49m\u001b[43m \u001b[49m\u001b[43mion\u001b[49m\u001b[43m,\u001b[49m\u001b[43m \u001b[49m\u001b[43mll\u001b[49m\u001b[43m,\u001b[49m\u001b[43m \u001b[49m\u001b[43mget_tau\u001b[49m\u001b[43m,\u001b[49m\u001b[43m \u001b[49m\u001b[43mload_all_data_first\u001b[49m\u001b[43m=\u001b[49m\u001b[43marepo\u001b[49m\u001b[43m)\u001b[49m\n\u001b[32m    807\u001b[39m \u001b[38;5;66;03m#Do remaining files\u001b[39;00m\n\u001b[32m    808\u001b[39m \u001b[38;5;28;01mfor\u001b[39;00m nn \u001b[38;5;129;01min\u001b[39;00m xrange(\u001b[32m1\u001b[39m, nsegments):\n",
      "\u001b[36mFile \u001b[39m\u001b[32m~/miniconda3/envs/work/lib/python3.12/site-packages/fake_spectra/spectra.py:541\u001b[39m, in \u001b[36mSpectra._interpolate_single_file\u001b[39m\u001b[34m(self, nsegment, elem, ion, ll, get_tau, load_all_data_first)\u001b[39m\n\u001b[32m    539\u001b[39m     line = \u001b[38;5;28mself\u001b[39m.lines[(\u001b[33m\"\u001b[39m\u001b[33mH\u001b[39m\u001b[33m\"\u001b[39m, \u001b[32m1\u001b[39m)][\u001b[32m1215\u001b[39m]\n\u001b[32m    540\u001b[39m \u001b[38;5;66;03m# print(pos.shape, vel.shape, elem_den.shape, temp.shape, hh.shape, amumass)\u001b[39;00m\n\u001b[32m--> \u001b[39m\u001b[32m541\u001b[39m \u001b[38;5;28;01mreturn\u001b[39;00m \u001b[38;5;28;43mself\u001b[39;49m\u001b[43m.\u001b[49m\u001b[43m_do_interpolation_work\u001b[49m\u001b[43m(\u001b[49m\u001b[43mpos\u001b[49m\u001b[43m,\u001b[49m\u001b[43m \u001b[49m\u001b[43mvel\u001b[49m\u001b[43m,\u001b[49m\u001b[43m \u001b[49m\u001b[43melem_den\u001b[49m\u001b[43m,\u001b[49m\u001b[43m \u001b[49m\u001b[43mtemp\u001b[49m\u001b[43m,\u001b[49m\u001b[43m \u001b[49m\u001b[43mhh\u001b[49m\u001b[43m,\u001b[49m\u001b[43m \u001b[49m\u001b[43mamumass\u001b[49m\u001b[43m,\u001b[49m\u001b[43m \u001b[49m\u001b[43mline\u001b[49m\u001b[43m,\u001b[49m\u001b[43m \u001b[49m\u001b[43mget_tau\u001b[49m\u001b[43m)\u001b[49m\n",
      "\u001b[36mFile \u001b[39m\u001b[32m~/miniconda3/envs/work/lib/python3.12/site-packages/fake_spectra/spectra.py:662\u001b[39m, in \u001b[36mSpectra._do_interpolation_work\u001b[39m\u001b[34m(self, pos, vel, elem_den, temp, hh, amumass, line, get_tau)\u001b[39m\n\u001b[32m    660\u001b[39m \u001b[38;5;250m\u001b[39m\u001b[33;03m\"\"\"Run the interpolation on some pre-determined arrays, spat out by _read_particle_data\"\"\"\u001b[39;00m\n\u001b[32m    661\u001b[39m \u001b[38;5;66;03m#Factor of 10^-8 converts line width (lambda_X) from Angstrom to cm\u001b[39;00m\n\u001b[32m--> \u001b[39m\u001b[32m662\u001b[39m \u001b[38;5;28;01mreturn\u001b[39;00m \u001b[43m_Particle_Interpolate\u001b[49m\u001b[43m(\u001b[49m\u001b[43mget_tau\u001b[49m\u001b[43m*\u001b[49m\u001b[32;43m1\u001b[39;49m\u001b[43m,\u001b[49m\u001b[43m \u001b[49m\u001b[38;5;28;43mself\u001b[39;49m\u001b[43m.\u001b[49m\u001b[43mnbins\u001b[49m\u001b[43m,\u001b[49m\u001b[43m \u001b[49m\u001b[38;5;28;43mself\u001b[39;49m\u001b[43m.\u001b[49m\u001b[43mkernel_int\u001b[49m\u001b[43m,\u001b[49m\u001b[43m \u001b[49m\u001b[38;5;28;43mself\u001b[39;49m\u001b[43m.\u001b[49m\u001b[43mbox\u001b[49m\u001b[43m,\u001b[49m\u001b[43m \u001b[49m\u001b[38;5;28;43mself\u001b[39;49m\u001b[43m.\u001b[49m\u001b[43mvelfac\u001b[49m\u001b[43m,\u001b[49m\u001b[43m \u001b[49m\u001b[38;5;28;43mself\u001b[39;49m\u001b[43m.\u001b[49m\u001b[43matime\u001b[49m\u001b[43m,\u001b[49m\u001b[43m \u001b[49m\u001b[43mline\u001b[49m\u001b[43m.\u001b[49m\u001b[43mlambda_X\u001b[49m\u001b[43m*\u001b[49m\u001b[32;43m1e-8\u001b[39;49m\u001b[43m,\u001b[49m\u001b[43m \u001b[49m\u001b[43mline\u001b[49m\u001b[43m.\u001b[49m\u001b[43mgamma_X\u001b[49m\u001b[43m,\u001b[49m\u001b[43m \u001b[49m\u001b[43mline\u001b[49m\u001b[43m.\u001b[49m\u001b[43mfosc_X\u001b[49m\u001b[43m,\u001b[49m\u001b[43m \u001b[49m\u001b[43mamumass\u001b[49m\u001b[43m,\u001b[49m\u001b[43m \u001b[49m\u001b[38;5;28;43mself\u001b[39;49m\u001b[43m.\u001b[49m\u001b[43mtautail\u001b[49m\u001b[43m,\u001b[49m\u001b[43m \u001b[49m\u001b[43mpos\u001b[49m\u001b[43m,\u001b[49m\u001b[43m \u001b[49m\u001b[43mvel\u001b[49m\u001b[43m,\u001b[49m\u001b[43m \u001b[49m\u001b[43melem_den\u001b[49m\u001b[43m,\u001b[49m\u001b[43m \u001b[49m\u001b[43mtemp\u001b[49m\u001b[43m,\u001b[49m\u001b[43m \u001b[49m\u001b[43mhh\u001b[49m\u001b[43m,\u001b[49m\u001b[43m \u001b[49m\u001b[38;5;28;43mself\u001b[39;49m\u001b[43m.\u001b[49m\u001b[43maxis\u001b[49m\u001b[43m,\u001b[49m\u001b[43m \u001b[49m\u001b[38;5;28;43mself\u001b[39;49m\u001b[43m.\u001b[49m\u001b[43mcofm\u001b[49m\u001b[43m)\u001b[49m\n",
      "\u001b[31mTypeError\u001b[39m: One of the data arrays does not have 32-bit float type\n"
     ]
    }
   ],
   "source": [
    "rewrite = True\n",
    "\n",
    "#Only if you want the MPI feature; otherwise, MPI is None by default\n",
    "for run in tqdm(runs):\n",
    "    outpath = f'../../data_prods/{run}/'\n",
    "\n",
    "    if not rewrite:\n",
    "        if len(glob.glob(outpath + \"SPECTRA_*\")) >= len(glob.glob(f\"/home/ryan/Data/{run}/snap*\")):\n",
    "            print(f'Mock Spectra files exist for {run}.')\n",
    "            print('Skipping...')\n",
    "            continue\n",
    "\n",
    "    for i in range(8):\n",
    "        rr = RandSpectra(i, \"/home/ryan/Data/\" + run + '/', MPI=MPI, thresh=0.)\n",
    "        rr.get_tau(\"H\",1,1215)\n",
    "        #Lyman-beta\n",
    "        rr.get_tau(\"H\",1,1025)\n",
    "        rr.get_col_density(\"H\",1)\n",
    "        #Save spectra to file\n",
    "        rr.save_file()\n",
    "    fpaths = glob.glob(f\"/home/ryan/Data/{run}/SPECTRA_*\")\n",
    "    for fpath in fpaths:\n",
    "        fname = os.path.basename(fpath)\n",
    "        shutil.copytree(fpath, outpath + fname, dirs_exist_ok=True)"
   ]
  },
  {
   "cell_type": "code",
   "execution_count": null,
   "id": "8bd2b6f5",
   "metadata": {},
   "outputs": [],
   "source": []
  }
 ],
 "metadata": {
  "kernelspec": {
   "display_name": "work",
   "language": "python",
   "name": "python3"
  },
  "language_info": {
   "codemirror_mode": {
    "name": "ipython",
    "version": 3
   },
   "file_extension": ".py",
   "mimetype": "text/x-python",
   "name": "python",
   "nbconvert_exporter": "python",
   "pygments_lexer": "ipython3",
   "version": "3.12.8"
  }
 },
 "nbformat": 4,
 "nbformat_minor": 5
}
