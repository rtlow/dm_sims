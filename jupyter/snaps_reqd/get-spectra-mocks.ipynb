{
 "cells": [
  {
   "cell_type": "code",
   "execution_count": 1,
   "id": "626124ad",
   "metadata": {},
   "outputs": [],
   "source": [
    "import shutil\n",
    "import os\n",
    "import glob\n",
    "\n",
    "from fake_spectra.randspectra import RandSpectra\n",
    "\n",
    "import sys\n",
    "sys.path.append('../../py/')\n",
    "\n",
    "from tqdm.notebook import tqdm\n",
    "\n",
    "from mpi4py import MPI"
   ]
  },
  {
   "cell_type": "code",
   "execution_count": 2,
   "id": "feed62e2",
   "metadata": {},
   "outputs": [
    {
     "data": {
      "text/plain": [
       "['run_2cDM_L3N256_HY_power00_sigma1_dir_0',\n",
       " 'run_2cDM_L3N256_HY_power00_sigma1_dir_1',\n",
       " 'run_2cDM_L3N256_HY_power00_sigma1_dir_2',\n",
       " 'run_2cDM_L3N256_HY_power00_sigma1_dir_3',\n",
       " 'run_2cDM_L3N256_HY_power00_sigma1_dir_4',\n",
       " 'run_2cDM_L3N256_HY_power00_sigma1_dir_5',\n",
       " 'run_2cDM_L3N256_HY_power00_sigma1_dir_6',\n",
       " 'run_2cDM_L3N256_HY_power00_sigma1_dir_7',\n",
       " 'run_2cDM_L3N256_HY_power00_sigma1_dir_8',\n",
       " 'run_2cDM_L3N256_HY_power00_sigma1_dir_9',\n",
       " 'run_2cDM_L3N256_HY_power00_sigma1',\n",
       " 'run_2cDM_L3N256_HY_powerm2m2_sigma1_dir_0',\n",
       " 'run_2cDM_L3N256_HY_powerm2m2_sigma1_dir_1',\n",
       " 'run_2cDM_L3N256_HY_powerm2m2_sigma1_dir_2',\n",
       " 'run_2cDM_L3N256_HY_powerm2m2_sigma1_dir_3',\n",
       " 'run_2cDM_L3N256_HY_powerm2m2_sigma1_dir_4',\n",
       " 'run_2cDM_L3N256_HY_powerm2m2_sigma1_dir_5',\n",
       " 'run_2cDM_L3N256_HY_powerm2m2_sigma1_dir_6',\n",
       " 'run_2cDM_L3N256_HY_powerm2m2_sigma1_dir_7',\n",
       " 'run_2cDM_L3N256_HY_powerm2m2_sigma1_dir_8',\n",
       " 'run_2cDM_L3N256_HY_powerm2m2_sigma1_dir_9',\n",
       " 'run_2cDM_L3N256_HY_powerm2m2_sigma1',\n",
       " 'run_CDM_L3N256_HY_dir_0',\n",
       " 'run_CDM_L3N256_HY_dir_1',\n",
       " 'run_CDM_L3N256_HY_dir_2',\n",
       " 'run_CDM_L3N256_HY_dir_3',\n",
       " 'run_CDM_L3N256_HY_dir_4',\n",
       " 'run_CDM_L3N256_HY_dir_5',\n",
       " 'run_CDM_L3N256_HY_dir_6',\n",
       " 'run_CDM_L3N256_HY_dir_7',\n",
       " 'run_CDM_L3N256_HY_dir_8',\n",
       " 'run_CDM_L3N256_HY_dir_9',\n",
       " 'run_CDM_L3N256_HY']"
      ]
     },
     "execution_count": 2,
     "metadata": {},
     "output_type": "execute_result"
    }
   ],
   "source": [
    "tcDM_RUNS1 = [ f'run_2cDM_L3N256_HY_power00_sigma1_dir_{i}' for i in range(10)] + ['run_2cDM_L3N256_HY_power00_sigma1']\n",
    "tcDM_RUNS2 = [ f'run_2cDM_L3N256_HY_powerm2m2_sigma1_dir_{i}' for i in range(10)] + ['run_2cDM_L3N256_HY_powerm2m2_sigma1']\n",
    "CDM_RUNS = [ f'run_CDM_L3N256_HY_dir_{i}' for i in range(10)] + ['run_CDM_L3N256_HY']\n",
    "runs = tcDM_RUNS1 + tcDM_RUNS2 + CDM_RUNS\n",
    "runs"
   ]
  },
  {
   "cell_type": "code",
   "execution_count": 3,
   "id": "6a9a9e2f",
   "metadata": {},
   "outputs": [],
   "source": [
    "elem = 'H'\n",
    "ion = 1\n",
    "line = 1215\n",
    "\n",
    "offset = 0"
   ]
  },
  {
   "cell_type": "code",
   "execution_count": 4,
   "id": "919b7275",
   "metadata": {},
   "outputs": [
    {
     "data": {
      "application/vnd.jupyter.widget-view+json": {
       "model_id": "ab7c8e5d68b544d8a64805d8514bd680",
       "version_major": 2,
       "version_minor": 0
      },
      "text/plain": [
       "  0%|          | 0/33 [00:00<?, ?it/s]"
      ]
     },
     "metadata": {},
     "output_type": "display_data"
    },
    {
     "name": "stdout",
     "output_type": "stream",
     "text": [
      "Mock Spectra files exist for run_2cDM_L3N256_HY_power00_sigma1_dir_0 but not copied.\n",
      "Attempting to copy...\n",
      "Mock Spectra files exist for run_2cDM_L3N256_HY_power00_sigma1_dir_1 but not copied.\n",
      "Attempting to copy...\n",
      "Mock Spectra files exist for run_2cDM_L3N256_HY_power00_sigma1_dir_2 but not copied.\n",
      "Attempting to copy...\n",
      "Mock Spectra files exist for run_2cDM_L3N256_HY_power00_sigma1_dir_3 but not copied.\n",
      "Attempting to copy...\n",
      "Mock Spectra files exist for run_2cDM_L3N256_HY_power00_sigma1_dir_4 but not copied.\n",
      "Attempting to copy...\n",
      "Mock Spectra files exist for run_2cDM_L3N256_HY_power00_sigma1_dir_5 but not copied.\n",
      "Attempting to copy...\n",
      "Mock Spectra files exist for run_2cDM_L3N256_HY_power00_sigma1_dir_6 but not copied.\n",
      "Attempting to copy...\n",
      "Mock Spectra files exist for run_2cDM_L3N256_HY_power00_sigma1_dir_7 but not copied.\n",
      "Attempting to copy...\n",
      "Mock Spectra files exist for run_2cDM_L3N256_HY_power00_sigma1_dir_8 but not copied.\n",
      "Attempting to copy...\n",
      "Mock Spectra files exist for run_2cDM_L3N256_HY_power00_sigma1_dir_9 but not copied.\n",
      "Attempting to copy...\n",
      "Mock Spectra files exist for run_2cDM_L3N256_HY_power00_sigma1 but not copied.\n",
      "Attempting to copy...\n",
      "Mock Spectra files exist for run_2cDM_L3N256_HY_powerm2m2_sigma1_dir_0 but not copied.\n",
      "Attempting to copy...\n",
      "Mock Spectra files exist for run_2cDM_L3N256_HY_powerm2m2_sigma1_dir_1 but not copied.\n",
      "Attempting to copy...\n",
      "Mock Spectra files exist for run_2cDM_L3N256_HY_powerm2m2_sigma1_dir_2 but not copied.\n",
      "Attempting to copy...\n",
      "Mock Spectra files exist for run_2cDM_L3N256_HY_powerm2m2_sigma1_dir_3 but not copied.\n",
      "Attempting to copy...\n",
      "Mock Spectra files exist for run_2cDM_L3N256_HY_powerm2m2_sigma1_dir_4 but not copied.\n",
      "Attempting to copy...\n",
      "Mock Spectra files exist for run_2cDM_L3N256_HY_powerm2m2_sigma1_dir_5 but not copied.\n",
      "Attempting to copy...\n",
      "Mock Spectra files exist for run_2cDM_L3N256_HY_powerm2m2_sigma1_dir_6 but not copied.\n",
      "Attempting to copy...\n",
      "Mock Spectra files exist for run_2cDM_L3N256_HY_powerm2m2_sigma1_dir_7 but not copied.\n",
      "Attempting to copy...\n",
      "Mock Spectra files exist for run_2cDM_L3N256_HY_powerm2m2_sigma1_dir_8 but not copied.\n",
      "Attempting to copy...\n",
      "Mock Spectra files exist for run_2cDM_L3N256_HY_powerm2m2_sigma1_dir_9 but not copied.\n",
      "Attempting to copy...\n",
      "Mock Spectra files exist for run_2cDM_L3N256_HY_powerm2m2_sigma1 but not copied.\n",
      "Attempting to copy...\n",
      "Mock Spectra files exist for run_CDM_L3N256_HY_dir_0 but not copied.\n",
      "Attempting to copy...\n",
      "Mock Spectra files exist for run_CDM_L3N256_HY_dir_1 but not copied.\n",
      "Attempting to copy...\n",
      "Mock Spectra files exist for run_CDM_L3N256_HY_dir_2 but not copied.\n",
      "Attempting to copy...\n",
      "Mock Spectra files exist for run_CDM_L3N256_HY_dir_3 but not copied.\n",
      "Attempting to copy...\n",
      "Mock Spectra files exist for run_CDM_L3N256_HY_dir_4 but not copied.\n",
      "Attempting to copy...\n",
      "Mock Spectra files exist for run_CDM_L3N256_HY_dir_5 but not copied.\n",
      "Attempting to copy...\n",
      "Mock Spectra files exist for run_CDM_L3N256_HY_dir_6 but not copied.\n",
      "Attempting to copy...\n",
      "Mock Spectra files exist for run_CDM_L3N256_HY_dir_7 but not copied.\n",
      "Attempting to copy...\n",
      "Mock Spectra files exist for run_CDM_L3N256_HY_dir_8 but not copied.\n",
      "Attempting to copy...\n",
      "Mock Spectra files exist for run_CDM_L3N256_HY_dir_9 but not copied.\n",
      "Attempting to copy...\n",
      "Mock Spectra files exist for run_CDM_L3N256_HY but not copied.\n",
      "Attempting to copy...\n"
     ]
    }
   ],
   "source": [
    "rewrite = False\n",
    "\n",
    "#Only if you want the MPI feature; otherwise, MPI is None by default\n",
    "for run in tqdm(runs):\n",
    "    outpath = f'../../data_prods/{run}/'\n",
    "\n",
    "    if not rewrite:\n",
    "        if len(glob.glob(outpath + \"SPECTRA_*\")) >= len(glob.glob(f\"/home/ryan/Data/{run}/snap*\")):\n",
    "            print(f'Mock Spectra files exist for {run}.')\n",
    "            print('Skipping...')\n",
    "            continue\n",
    "        if len(glob.glob(f\"/home/ryan/Data/{run}/SPECTRA_*\")) >= len(glob.glob(f\"/home/ryan/Data/{run}/snap*\")):\n",
    "            print(f'Mock Spectra files exist for {run} but not copied.')\n",
    "            print('Attempting to copy...')\n",
    "            fpaths = glob.glob(f\"/home/ryan/Data/{run}/SPECTRA_*\")\n",
    "            for fpath in fpaths:\n",
    "                fname = os.path.basename(fpath)\n",
    "                shutil.copytree(fpath, outpath + fname, dirs_exist_ok=True)\n",
    "            continue\n",
    "\n",
    "    for i in range(len(glob.glob(f\"/home/ryan/Data/{run}/snap*\"))):\n",
    "        rr = RandSpectra(i, \"/home/ryan/Data/\" + run + '/', MPI=MPI, thresh=0.)\n",
    "        rr.get_tau(\"H\",1,1215)\n",
    "        #Lyman-beta\n",
    "        rr.get_tau(\"H\",1,1025)\n",
    "        rr.get_col_density(\"H\",1)\n",
    "        #Save spectra to file\n",
    "        rr.save_file()\n",
    "    fpaths = glob.glob(f\"/home/ryan/Data/{run}/SPECTRA_*\")\n",
    "    for fpath in fpaths:\n",
    "        fname = os.path.basename(fpath)\n",
    "        shutil.copytree(fpath, outpath + fname, dirs_exist_ok=True)"
   ]
  },
  {
   "cell_type": "code",
   "execution_count": null,
   "id": "8bd2b6f5",
   "metadata": {},
   "outputs": [],
   "source": []
  }
 ],
 "metadata": {
  "kernelspec": {
   "display_name": "nbodykit-env",
   "language": "python",
   "name": "python3"
  },
  "language_info": {
   "codemirror_mode": {
    "name": "ipython",
    "version": 3
   },
   "file_extension": ".py",
   "mimetype": "text/x-python",
   "name": "python",
   "nbconvert_exporter": "python",
   "pygments_lexer": "ipython3",
   "version": "3.8.20"
  }
 },
 "nbformat": 4,
 "nbformat_minor": 5
}
