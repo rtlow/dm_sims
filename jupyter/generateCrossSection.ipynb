{
 "cells": [
  {
   "cell_type": "code",
   "execution_count": 4,
   "metadata": {},
   "outputs": [
    {
     "name": "stdout",
     "output_type": "stream",
     "text": [
      "This will create a crosssection table for sigma of  1 and power laws of,( -2 , -2 -1)\n",
      "It is done\n"
     ]
    }
   ],
   "source": [
    "#Crosssection generator for (0,0)\n",
    "import numpy as np\n",
    "Sigma_naught=1\n",
    "ps=-2 #power for scattering\n",
    "pc=-2#power for conversion, we will actually use pc-1, -1 comes from momentum ratios\n",
    "#Dont Change these\n",
    "#################################################\n",
    "Cross_Vbins=1000000\n",
    "Vmax=1.0e5\n",
    "Vmin=1.0e-2\n",
    "Dvlog= np.log(Vmax/Vmin)/Cross_Vbins\n",
    "LightSpeed=299972.0\n",
    "Conversion_factor=100\n",
    "##################################################\n",
    "print('This will create a crosssection table for sigma of ', Sigma_naught,'and power laws of,(',ps,',',pc,'-1)')\n",
    "###---------------For the Elastic Scattering\n",
    "Velocity_array=[]\n",
    "Crosssection_array=[]\n",
    "velocity=0\n",
    "for i in range(0,Cross_Vbins):\n",
    "        velocity = np.exp(Dvlog*(i+0.5)+np.log(Vmin)) #km/sec\n",
    "        newvel=velocity*100000 #cm/sec\n",
    "        newvel_normalized=newvel/10000000\n",
    "        Crosssec=(newvel_normalized)**(ps)*Sigma_naught\n",
    "        Velocity_array.append(velocity)\n",
    "        Crosssection_array.append(Crosssec)\n",
    "        #print(newvel,Crosssec)\n",
    "data1=np.vstack((Velocity_array,Crosssection_array)).T\n",
    "np.savetxt(\"sidm_cross_reaction_0.txt\",data1,delimiter=\"\\t\")\n",
    "np.savetxt(\"sidm_cross_reaction_4.txt\",data1,delimiter=\"\\t\")\n",
    "np.savetxt(\"sidm_cross_reaction_7.txt\",data1,delimiter=\"\\t\")\n",
    "np.savetxt(\"sidm_cross_reaction_11.txt\",data1,delimiter=\"\\t\")\n",
    "################################################################\n",
    "####--------------For Inelastic Scattering/Conversion\n",
    "#############################################################\n",
    "velocity=0\n",
    "Velocity_array=[]\n",
    "Crosssection_array=[]\n",
    "for i in range(0,Cross_Vbins):\n",
    "        velocity = np.exp(Dvlog*(i+0.5)+np.log(Vmin)) #km/sec\n",
    "        newvel=velocity*100000 #cm/sec\n",
    "        newvel_normalized=newvel/10000000\n",
    "        Crosssec=0.5*(newvel_normalized)**(pc-1)*Sigma_naught\n",
    "        Velocity_array.append(velocity)\n",
    "        Crosssection_array.append(Crosssec)\n",
    "        #print(newvel,Crosssec)\n",
    "data2=np.vstack((Velocity_array,Crosssection_array)).T\n",
    "np.savetxt(\"sidm_cross_reaction_1.txt\",data2,delimiter=\"\\t\")\n",
    "np.savetxt(\"sidm_cross_reaction_2.txt\",data2,delimiter=\"\\t\")\n",
    "np.savetxt(\"sidm_cross_reaction_3.txt\",data2,delimiter=\"\\t\")\n",
    "np.savetxt(\"sidm_cross_reaction_5.txt\",data2,delimiter=\"\\t\")\n",
    "np.savetxt(\"sidm_cross_reaction_6.txt\",data2,delimiter=\"\\t\")\n",
    "np.savetxt(\"sidm_cross_reaction_8.txt\",data2,delimiter=\"\\t\")\n",
    "np.savetxt(\"sidm_cross_reaction_9.txt\",data2,delimiter=\"\\t\")\n",
    "np.savetxt(\"sidm_cross_reaction_10.txt\",data2,delimiter=\"\\t\")\n",
    "print('It is done')"
   ]
  },
  {
   "cell_type": "code",
   "execution_count": null,
   "metadata": {},
   "outputs": [],
   "source": []
  }
 ],
 "metadata": {
  "kernelspec": {
   "display_name": "Python 3",
   "language": "python",
   "name": "python3"
  },
  "language_info": {
   "codemirror_mode": {
    "name": "ipython",
    "version": 3
   },
   "file_extension": ".py",
   "mimetype": "text/x-python",
   "name": "python",
   "nbconvert_exporter": "python",
   "pygments_lexer": "ipython3",
   "version": "3.7.6"
  }
 },
 "nbformat": 4,
 "nbformat_minor": 4
}
