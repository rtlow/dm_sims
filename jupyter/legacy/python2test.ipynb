{
 "cells": [
  {
   "cell_type": "code",
   "execution_count": 1,
   "metadata": {},
   "outputs": [],
   "source": [
    "#mass is in units of 10e10 M_solar\n",
    "#distances are in Kpc\n",
    "\n",
    "#standard imports\n",
    "import glob\n",
    "import numpy as np\n",
    "import h5py\n",
    "import sys\n"
   ]
  },
  {
   "cell_type": "code",
   "execution_count": 8,
   "metadata": {},
   "outputs": [],
   "source": [
    "sys.path.append('/home/ryan/projects/Medvedev/torreylabtools/Python/')"
   ]
  },
  {
   "cell_type": "code",
   "execution_count": 9,
   "metadata": {},
   "outputs": [],
   "source": [
    "import simread.readsnapHDF5 as r5\n",
    "from visualization.image_maker import *"
   ]
  },
  {
   "cell_type": "code",
   "execution_count": 10,
   "metadata": {},
   "outputs": [],
   "source": [
    "fpath = '/home/ryan/projects/Medvedev/snaps/run_20210214/'"
   ]
  },
  {
   "cell_type": "code",
   "execution_count": 14,
   "metadata": {
    "scrolled": true
   },
   "outputs": [
    {
     "name": "stdout",
     "output_type": "stream",
     "text": [
      "loading from illustris\n",
      "loading illustris brick for gas\n",
      "/home/ryan/projects/Medvedev/snaps/run_20210214/\n",
      "trying /home/ryan/projects/Medvedev/snaps/run_20210214//snap_127/snap_127.0.hdf5\n",
      "trying /home/ryan/projects/Medvedev/snaps/run_20210214//snap_127/snapshot_127.0.hdf5\n",
      "Calculating offsets for PartType: 0\n",
      "Calculating offsets for PartType: 1\n",
      "Calculating offsets for PartType: 4\n",
      "Calculating offsets for PartType: 5\n",
      "Loading center for Subhalo 0 Position\n",
      "30968 1000000000.0\n",
      "30968 1000000000.0\n",
      "30968 1000000000.0\n",
      "30968 1000000000.0\n",
      "30968 1000000000.0\n",
      "30968 1000000000.0\n",
      "30968 1000000000.0\n",
      "30968 1000000000.0\n",
      "30968 1000000000.0\n",
      "30968 1000000000.0\n",
      "WARNING!!! CENTER_POSITIONS IS ONLY ABLE TO HANDLE A center_pos ARGUMENT!\n",
      "no velocities to shift\n",
      "no velocities...\n",
      "Mean/Median h_all = 1017.8281/785.6661\n",
      "KAPPA ==  [459.47 835.4  626.55]\n",
      "[-1.  1.]\n",
      " UH-OH: EXPECT ERROR NOW (raytrace_projection), there are no valid source/gas particles to send!\n",
      "include lighting is set to %d\n",
      "Lighting is not being included :( \n"
     ]
    },
    {
     "data": {
      "text/plain": [
       "(array([[[0., 0., 0., 1.],\n",
       "         [0., 0., 0., 1.],\n",
       "         [0., 0., 0., 1.],\n",
       "         ...,\n",
       "         [0., 0., 0., 1.],\n",
       "         [0., 0., 0., 1.],\n",
       "         [0., 0., 0., 1.]],\n",
       " \n",
       "        [[0., 0., 0., 1.],\n",
       "         [0., 0., 0., 1.],\n",
       "         [0., 0., 0., 1.],\n",
       "         ...,\n",
       "         [0., 0., 0., 1.],\n",
       "         [0., 0., 0., 1.],\n",
       "         [0., 0., 0., 1.]],\n",
       " \n",
       "        [[0., 0., 0., 1.],\n",
       "         [0., 0., 0., 1.],\n",
       "         [0., 0., 0., 1.],\n",
       "         ...,\n",
       "         [0., 0., 0., 1.],\n",
       "         [0., 0., 0., 1.],\n",
       "         [0., 0., 0., 1.]],\n",
       " \n",
       "        ...,\n",
       " \n",
       "        [[0., 0., 0., 1.],\n",
       "         [0., 0., 0., 1.],\n",
       "         [0., 0., 0., 1.],\n",
       "         ...,\n",
       "         [0., 0., 0., 1.],\n",
       "         [0., 0., 0., 1.],\n",
       "         [0., 0., 0., 1.]],\n",
       " \n",
       "        [[0., 0., 0., 1.],\n",
       "         [0., 0., 0., 1.],\n",
       "         [0., 0., 0., 1.],\n",
       "         ...,\n",
       "         [0., 0., 0., 1.],\n",
       "         [0., 0., 0., 1.],\n",
       "         [0., 0., 0., 1.]],\n",
       " \n",
       "        [[0., 0., 0., 1.],\n",
       "         [0., 0., 0., 1.],\n",
       "         [0., 0., 0., 1.],\n",
       "         ...,\n",
       "         [0., 0., 0., 1.],\n",
       "         [0., 0., 0., 1.],\n",
       "         [0., 0., 0., 1.]]]), array([[0., 0., 0., ..., 0., 0., 0.],\n",
       "        [0., 0., 0., ..., 0., 0., 0.],\n",
       "        [0., 0., 0., ..., 0., 0., 0.],\n",
       "        ...,\n",
       "        [0., 0., 0., ..., 0., 0., 0.],\n",
       "        [0., 0., 0., ..., 0., 0., 0.],\n",
       "        [0., 0., 0., ..., 0., 0., 0.]]))"
      ]
     },
     "execution_count": 14,
     "metadata": {},
     "output_type": "execute_result"
    }
   ],
   "source": [
    "image_maker(fpath, 127, illustrisTNG=True)"
   ]
  },
  {
   "cell_type": "code",
   "execution_count": null,
   "metadata": {},
   "outputs": [],
   "source": []
  }
 ],
 "metadata": {
  "kernelspec": {
   "display_name": "Python 2",
   "language": "python",
   "name": "ipykernel_py2"
  },
  "language_info": {
   "codemirror_mode": {
    "name": "ipython",
    "version": 2
   },
   "file_extension": ".py",
   "mimetype": "text/x-python",
   "name": "python",
   "nbconvert_exporter": "python",
   "pygments_lexer": "ipython2",
   "version": "2.7.18"
  }
 },
 "nbformat": 4,
 "nbformat_minor": 4
}
