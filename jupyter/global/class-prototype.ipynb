{
 "cells": [
  {
   "cell_type": "code",
   "execution_count": 8,
   "metadata": {},
   "outputs": [],
   "source": [
    "import os\n",
    "import numpy as np\n",
    "import json\n",
    "\n",
    "import sys\n",
    "sys.path.append('../../py/')\n",
    "\n",
    "from cosmoSim import cosmoSim"
   ]
  },
  {
   "cell_type": "code",
   "execution_count": 10,
   "metadata": {},
   "outputs": [
    {
     "data": {
      "text/plain": [
       "(array([ 1.34024433,  1.61222388,  1.9423873 ,  2.34380351,  2.83261341,\n",
       "         3.42878334,  4.15705103,  5.04811512,  6.14013307,  7.480611  ,\n",
       "         9.12879143, 11.15867558, 13.66285496, 16.75737732, 20.58793678,\n",
       "        25.33776202, 31.23768574, 38.57902122, 47.73005755, 59.15722815,\n",
       "        73.45232545, 91.36755206]),\n",
       " array([1.3522e+04, 1.3522e+04, 1.3522e+04, 1.3522e+04, 1.3520e+04,\n",
       "        1.3460e+04, 1.2892e+04, 1.0773e+04, 7.5400e+03, 4.8100e+03,\n",
       "        2.9720e+03, 1.6890e+03, 9.0300e+02, 4.5500e+02, 2.2200e+02,\n",
       "        1.1700e+02, 6.1000e+01, 2.6000e+01, 1.6000e+01, 6.0000e+00,\n",
       "        2.0000e+00, 1.0000e+00]))"
      ]
     },
     "execution_count": 10,
     "metadata": {},
     "output_type": "execute_result"
    }
   ],
   "source": [
    "test = cosmoSim('run_CDM_L3N256_DM')\n",
    "\n",
    "test.load_vel_profile(test.redshifts[3])"
   ]
  },
  {
   "cell_type": "code",
   "execution_count": null,
   "metadata": {},
   "outputs": [],
   "source": []
  }
 ],
 "metadata": {
  "kernelspec": {
   "display_name": "Python 3",
   "language": "python",
   "name": "python3"
  },
  "language_info": {
   "codemirror_mode": {
    "name": "ipython",
    "version": 3
   },
   "file_extension": ".py",
   "mimetype": "text/x-python",
   "name": "python",
   "nbconvert_exporter": "python",
   "pygments_lexer": "ipython3",
   "version": "3.11.5"
  }
 },
 "nbformat": 4,
 "nbformat_minor": 4
}
