{
 "cells": [
  {
   "cell_type": "code",
   "execution_count": 75,
   "metadata": {},
   "outputs": [],
   "source": [
    "import os"
   ]
  },
  {
   "cell_type": "code",
   "execution_count": 76,
   "metadata": {},
   "outputs": [],
   "source": [
    "# Constants\n",
    "OMEGA_BARYON = 0.046026\n",
    "\n",
    "# file parts here\n",
    "param_part = '../../param/file_parts/param.part'\n",
    "doit_part = '../../param/file_parts/doit.part'\n",
    "hydro_part = '../../param/file_parts/hydro.part'\n",
    "SIDM_part = '../../param/file_parts/SIDM.part'\n",
    "\n",
    "# output directory\n",
    "arepo_out = '../../param/arepo/'\n",
    "base_out = '../../param/'"
   ]
  },
  {
   "cell_type": "code",
   "execution_count": 77,
   "metadata": {},
   "outputs": [],
   "source": [
    "# Simulation Parameters\n",
    "# Change these\n",
    "\n",
    "N_part = 256\n",
    "boxsize = 3 # in Mpc\n",
    "code_directory = 0\n",
    "nodes = 4\n",
    "mem_size = 8 # in GB\n",
    "\n",
    "DM_type = '2cDM'\n",
    "hydro_type = 'DM'\n",
    "cross_section = 'power00_sigma1'\n",
    "extra_info = ''\n",
    "directory = f'dir_{code_directory}'"
   ]
  },
  {
   "cell_type": "code",
   "execution_count": 78,
   "metadata": {},
   "outputs": [
    {
     "name": "stdout",
     "output_type": "stream",
     "text": [
      "../../param/2cDM_L3N256_DM_power00_sigma1_dir_0/ already exists!\n"
     ]
    }
   ],
   "source": [
    "with open(param_part, 'r') as f:\n",
    "    param_text = f.read()\n",
    "\n",
    "with open(doit_part, 'r') as f:\n",
    "    doit_text = f.read()\n",
    "\n",
    "job_string = DM_type + f'_L{boxsize}N{N_part}_' + hydro_type + '_' + cross_section + '_' + directory\n",
    "boxsize_kpc = boxsize * 1000\n",
    "softening_length = boxsize_kpc / (29 * N_part )\n",
    "mem_size_MB = mem_size * 1000 \n",
    "\n",
    "# creating output directory\n",
    "param_name = job_string\n",
    "out_dir = base_out + f'{job_string}/'\n",
    "\n",
    "try:\n",
    "    os.mkdir(out_dir)\n",
    "except:\n",
    "    print(f'{out_dir} already exists!')\n",
    "\n",
    "# replacing text in parameter file\n",
    "\n",
    "param_text = param_text.replace('{$MEMSIZE}', str(mem_size_MB))\n",
    "param_text = param_text.replace('{$CODE_DIR}', str(code_directory))\n",
    "param_text = param_text.replace('{$BOXSIZE}', str(boxsize_kpc))\n",
    "\n",
    "param_text = param_text.replace('{$SOFTENING_LENGTH}', str(softening_length))\n",
    "param_text = param_text.replace('{$SOFTENING_LENGTH_HALF}', str(softening_length / 2)) \n",
    "\n",
    "if DM_type != 'CDM':\n",
    "    with open(SIDM_part, 'r') as f:\n",
    "        param_text += f.read()\n",
    "\n",
    "if hydro_type == 'HY':\n",
    "    hydro_flag = 1\n",
    "    omega_baryon = OMEGA_BARYON\n",
    "    with open(hydro_part, 'r') as f:\n",
    "        param_text += f.read()\n",
    "else:\n",
    "    hydro_flag = 0\n",
    "    omega_baryon = 0\n",
    "param_text = param_text.replace('{$OMEGA_BARYON}', str(omega_baryon))\n",
    "param_text = param_text.replace('{$HY_FLAG}', str(hydro_flag))\n",
    "\n",
    "# replacing text in doit script\n",
    "doit_text = doit_text.replace('{__MEMSIZE__}', f'{mem_size}g')\n",
    "doit_text = doit_text.replace('{__JOBSTRING__}', job_string)\n",
    "doit_text = doit_text.replace('{__CODE_DIR__}', str(code_directory))\n",
    "doit_text = doit_text.replace('{__NODES__}', str(nodes))\n",
    "doit_text = doit_text.replace('{__PARAM_FILE__}', param_name)\n",
    "doit_restart_text = doit_text.replace('{__RESTART__}', str(1))\n",
    "doit_text = doit_text.replace('{__RESTART__}', str(0))\n",
    "\n",
    "param_out = out_dir + param_name + '.txt'\n",
    "param_out1 = arepo_out + param_name + '.txt'\n",
    "doit_out = out_dir + 'doit.sh'\n",
    "doit_restart_out = out_dir + 'doit-restart.sh'\n",
    "\n",
    "with open(param_out, 'w') as f:\n",
    "    f.write(param_text)\n",
    "with open(param_out1, 'w') as f:\n",
    "    f.write(param_text)\n",
    "with open(doit_out, 'w') as f:\n",
    "    f.write(doit_text)\n",
    "with open(doit_restart_out, 'w') as f:\n",
    "    f.write(doit_restart_text)"
   ]
  }
 ],
 "metadata": {
  "kernelspec": {
   "display_name": "base",
   "language": "python",
   "name": "python3"
  },
  "language_info": {
   "codemirror_mode": {
    "name": "ipython",
    "version": 3
   },
   "file_extension": ".py",
   "mimetype": "text/x-python",
   "name": "python",
   "nbconvert_exporter": "python",
   "pygments_lexer": "ipython3",
   "version": "3.11.7"
  }
 },
 "nbformat": 4,
 "nbformat_minor": 2
}
