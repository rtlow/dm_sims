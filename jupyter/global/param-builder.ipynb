{
 "cells": [
  {
   "cell_type": "code",
   "execution_count": 13,
   "metadata": {},
   "outputs": [],
   "source": [
    "# Constants\n",
    "OMEGA_BARYON = 0.046026\n",
    "\n",
    "# file parts here\n",
    "param_part = '../../param/file_parts/param.part'\n",
    "doit_part = '../../param/file_parts/doit.part'\n",
    "hydro_part = '../../param/file_parts/hydro.part'\n",
    "SIDM_part = '../../param/file_parts/SIDM.part'"
   ]
  },
  {
   "cell_type": "code",
   "execution_count": 14,
   "metadata": {},
   "outputs": [],
   "source": [
    "# Simulation Parameters\n",
    "# Change these\n",
    "\n",
    "N_part = 256\n",
    "boxsize = 3 # in Mpc\n",
    "code_directory = 1\n",
    "mem_size = 8 # in GB\n",
    "\n",
    "DM_type = '2cDM'\n",
    "hydro_type = 'DM'\n",
    "cross_section = 'power00_sigma1'\n",
    "extra_info = 'var_2'\n",
    "directory = f'dir_{code_directory}'"
   ]
  },
  {
   "cell_type": "code",
   "execution_count": 15,
   "metadata": {},
   "outputs": [],
   "source": [
    "with open(param_part, 'r') as f:\n",
    "    param_text = f.read()\n",
    "\n",
    "with open(doit_part, 'r') as f:\n",
    "    doit_text = f.read()\n",
    "\n",
    "job_string = DM_type + f'_L{boxsize}N{N_part}_' + hydro_type + '_' + cross_section + '_' + extra_info + '_' + directory\n",
    "boxsize_kpc = boxsize * 1000\n",
    "softening_length = boxsize_kpc / (29 * N_part )\n",
    "mem_size_MB = mem_size * 1000 \n",
    "\n",
    "# replacing text in parameter file\n",
    "param_text = param_text.replace('{$MEMSIZE}', str(mem_size_MB))\n",
    "param_text = param_text.replace('{$CODE_DIR}', str(code_directory))\n",
    "param_text = param_text.replace('{$BOXSIZE}', str(boxsize_kpc))\n",
    "\n",
    "param_text = param_text.replace('{$SOFTENING_LENGTH}', str(softening_length))\n",
    "param_text = param_text.replace('{$SOFTENING_LENGTH_HALF}', str(softening_length / 2)) \n",
    "\n",
    "if DM_type != 'CDM':\n",
    "    with open(SIDM_part, 'r') as f:\n",
    "        param_text += f.read()\n",
    "\n",
    "if hydro_type == 'HY':\n",
    "    hydro_flag = 1\n",
    "    omega_baryon = OMEGA_BARYON\n",
    "    with open(hydro_part, 'r') as f:\n",
    "        param_text += f.read()\n",
    "else:\n",
    "    hydro_flag = 0\n",
    "    omega_baryon = 0\n",
    "param_text = param_text.replace('{$OMEGA_BARYON}', str(omega_baryon))\n",
    "param_text = param_text.replace('{$HY_FLAG}', str(hydro_flag))\n",
    "\n",
    "# replacing text in doit script\n",
    "doit_text = doit_text.replace('{__MEMSIZE__}', f'{mem_size}g')\n",
    "doit_text = doit_text.replace('{__JOBSTRING__}', job_string)\n",
    "doit_text = doit_text.replace('{__CODE_DIR__}', str(code_directory))\n",
    "\n",
    "\n",
    "param_name = job_string\n",
    "param_out = '../../param/arepo/' + param_name\n",
    "doit_text = doit_text.replace('{__PARAM_FILE__}', param_name)\n",
    "doit_name = 'doit.sh-' + param_name\n",
    "doit_out = '../../sh/' + doit_name\n",
    "\n",
    "with open(param_out, 'w') as f:\n",
    "    f.write(param_text)\n",
    "with open(doit_out, 'w') as f:\n",
    "    f.write(doit_text)"
   ]
  }
 ],
 "metadata": {
  "kernelspec": {
   "display_name": "base",
   "language": "python",
   "name": "python3"
  },
  "language_info": {
   "codemirror_mode": {
    "name": "ipython",
    "version": 3
   },
   "file_extension": ".py",
   "mimetype": "text/x-python",
   "name": "python",
   "nbconvert_exporter": "python",
   "pygments_lexer": "ipython3",
   "version": "3.11.7"
  }
 },
 "nbformat": 4,
 "nbformat_minor": 2
}
